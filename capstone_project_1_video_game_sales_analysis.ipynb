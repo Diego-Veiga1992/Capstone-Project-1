{
 "cells": [
  {
   "cell_type": "markdown",
   "metadata": {},
   "source": [
    "## Initialization and Data Loading:"
   ]
  },
  {
   "cell_type": "code",
   "execution_count": 1,
   "metadata": {
    "trusted": true
   },
   "outputs": [],
   "source": [
    "#libraries \n",
    "import pandas as pd\n",
    "from matplotlib import pyplot as plt\n",
    "import numpy as np\n",
    "import seaborn as sns\n",
    "from scipy import stats as st\n"
   ]
  },
  {
   "cell_type": "code",
   "execution_count": 2,
   "metadata": {
    "trusted": true
   },
   "outputs": [],
   "source": [
    "df = pd.read_csv('games.csv')"
   ]
  },
  {
   "cell_type": "markdown",
   "metadata": {},
   "source": [
    "## Data Preprocessing:"
   ]
  },
  {
   "cell_type": "code",
   "execution_count": 3,
   "metadata": {
    "trusted": true
   },
   "outputs": [],
   "source": [
    "#2.1 Rename Column Headers to Lowercase.\n",
    "\n",
    "df.columns =df.columns.str.lower() \n"
   ]
  },
  {
   "cell_type": "code",
   "execution_count": 4,
   "metadata": {
    "trusted": true
   },
   "outputs": [
    {
     "data": {
      "text/plain": [
       "count     9949\n",
       "unique       8\n",
       "top          E\n",
       "freq      3990\n",
       "Name: rating, dtype: object"
      ]
     },
     "execution_count": 4,
     "metadata": {},
     "output_type": "execute_result"
    }
   ],
   "source": [
    "#2.3 If necessary, decide how to handle missing values.\n",
    "\n",
    "#estudo=df[df[''].isna()]\n",
    "#print(' total_sales min =',estudo['total_sales'].min(),'  max = ',estudo['total_sales'].max(),'total = ',estudo['total_sales'].sum()/8915.71)\n",
    "df['rating'].describe()\n"
   ]
  },
  {
   "cell_type": "code",
   "execution_count": 5,
   "metadata": {},
   "outputs": [
    {
     "name": "stdout",
     "output_type": "stream",
     "text": [
      "      name platform  year_of_release genre  na_sales  eu_sales  jp_sales  \\\n",
      "659    NaN      GEN           1993.0   NaN      1.78      0.53      0.00   \n",
      "14244  NaN      GEN           1993.0   NaN      0.00      0.00      0.03   \n",
      "\n",
      "       other_sales  critic_score user_score rating  \n",
      "659           0.08           NaN        NaN    NaN  \n",
      "14244         0.00           NaN        NaN    NaN  \n"
     ]
    }
   ],
   "source": [
    "\n",
    "    # There are two apparent input errors in the name column; these entries will be dropped from the dataset.\n",
    "    \n",
    "estudo=df[df['name'].isna()]\n",
    "print(estudo)\n",
    "df.dropna(subset=['name'],inplace=True)\n",
    "\n",
    "    \n",
    "    \n"
   ]
  },
  {
   "cell_type": "code",
   "execution_count": 6,
   "metadata": {},
   "outputs": [
    {
     "data": {
      "image/png": "[encoded data removed]",
      "text/plain": [
       "<Figure size 640x480 with 1 Axes>"
      ]
     },
     "metadata": {},
     "output_type": "display_data"
    }
   ],
   "source": [
    "    #In the year_of_release column, I will replace missing values with the median year for each platform, as the release years vary significantly between platforms.\n",
    "\n",
    "# Exploratory analysis of the distribution of missing values (NaN) across different platforms\n",
    "df['year_nan']=df['year_of_release'].isna()\n",
    "grb_year_nan = df.groupby(['platform']).agg({'year_nan':'sum'})\n",
    "grb_year_nan.plot( kind='bar')\n",
    "df.dropna(subset=['year_of_release'],inplace=True)\n",
    "\n",
    "df['year_of_release'] = df.groupby('platform')['year_of_release'].transform(lambda x: x.fillna(x.median()))\n",
    "    \n",
    "    "
   ]
  },
  {
   "cell_type": "code",
   "execution_count": 7,
   "metadata": {},
   "outputs": [
    {
     "name": "stdout",
     "output_type": "stream",
     "text": [
      "Empty DataFrame\n",
      "Columns: [name, platform, year_of_release, genre, na_sales, eu_sales, jp_sales, other_sales, critic_score, user_score, rating, year_nan]\n",
      "Index: []\n"
     ]
    }
   ],
   "source": [
    "    # The same rows identified as input errors in the name column also contain invalid values in the genre column and will be dropped from the dataset.\n",
    "estudo=df[df['genre'].isna()]\n",
    "print(estudo)\n"
   ]
  },
  {
   "cell_type": "code",
   "execution_count": 8,
   "metadata": {},
   "outputs": [],
   "source": [
    "\n",
    "    #The sales-related columns are fully populated; no action is needed.\n",
    "    \n"
   ]
  },
  {
   "cell_type": "code",
   "execution_count": 10,
   "metadata": {},
   "outputs": [],
   "source": [
    "    # The `critic_score` column contains approximately 51% missing values, which is significant.\n",
    "    # I will postpone the decision on how to handle these missing values for now.\n",
    "\n"
   ]
  },
  {
   "cell_type": "code",
   "execution_count": 11,
   "metadata": {},
   "outputs": [],
   "source": [
    "\n",
    "    # The `user_score` column has 31% missing values, and if we include the 'tbd' entries, this increases to 55%.\n",
    "    # There appears to be a correlation with the `rating` and `critic_score` columns, which also have many missing values in common.\n",
    "    # At this point, I’m not sure how to handle the 'tbd' values."
   ]
  },
  {
   "cell_type": "code",
   "execution_count": 13,
   "metadata": {},
   "outputs": [],
   "source": [
    "\n",
    "    # In the `rating` column, I noticed a relationship between missing values and low sales in Japan.\n",
    "    # I will create a new category called 'undefined' to replace these NaN values. \n"
   ]
  },
  {
   "cell_type": "code",
   "execution_count": 14,
   "metadata": {},
   "outputs": [],
   "source": [
    "\n",
    "    # The game 'Strongest Tokyo University Shogi DS' has an incorrect release year listed as 1985.\n",
    "    # I will correct it to 2007.\n",
    "df.loc[15957,'year_of_release'] = 2007.0   \n"
   ]
  },
  {
   "cell_type": "code",
   "execution_count": 17,
   "metadata": {},
   "outputs": [],
   "source": [
    "\n",
    "#Pay attention to the abbreviation TBD (to be determined).\n",
    "    #I will check at the end, when these data become necessary. With the selection of platform and year of interest, the amount of TBD data was reduced.\n"
   ]
  },
  {
   "cell_type": "code",
   "execution_count": 18,
   "metadata": {
    "trusted": true
   },
   "outputs": [],
   "source": [
    "#2.4Calculate the total sales for each game and store these values in a separate column.\n",
    "df['total_sales']= df['na_sales']+df['eu_sales']+df['jp_sales']+df['other_sales']\n"
   ]
  },
  {
   "cell_type": "markdown",
   "metadata": {},
   "source": [
    "## Analyze the data"
   ]
  },
  {
   "cell_type": "code",
   "execution_count": 19,
   "metadata": {
    "trusted": true
   },
   "outputs": [
    {
     "data": {
      "text/plain": [
       "<matplotlib.lines.Line2D at 0x138456130b0>"
      ]
     },
     "execution_count": 19,
     "metadata": {},
     "output_type": "execute_result"
    },
    {
     "data": {
      "image/png": "[encoded data removed]",
      "text/plain": [
       "<Figure size 640x480 with 1 Axes>"
      ]
     },
     "metadata": {},
     "output_type": "display_data"
    }
   ],
   "source": [
    "#3.1 Check how many games were released in different years. Are the data from each period significant?\n",
    "\n",
    "\n",
    "plt.plot(df['year_of_release'].value_counts().sort_index())\n",
    "plt.axvline(x=2012, color = 'r', linestyle= '--') # Note: There was a decline in releases in 2012, dropping from 1,136 in 2011 to 653 in 2012.\n",
    "plt.axvline(x=1994, color = 'y', linestyle= '--')\n",
    "\n",
    "# Games released before 1995 each represent less than 1% of total releases (1980–1994 all under 1%).\n",
    "# Note: There was a decline in releases in 2012, dropping from 1,136 in 2011 to 653 in 2012."
   ]
  },
  {
   "cell_type": "code",
   "execution_count": 20,
   "metadata": {
    "scrolled": true,
    "trusted": true
   },
   "outputs": [
    {
     "data": {
      "text/plain": [
       "<Axes: xlabel='platform'>"
      ]
     },
     "execution_count": 20,
     "metadata": {},
     "output_type": "execute_result"
    },
    {
     "data": {
      "image/png": "[encoded data removed]",
      "text/plain": [
       "<Figure size 640x480 with 1 Axes>"
      ]
     },
     "metadata": {},
     "output_type": "display_data"
    }
   ],
   "source": [
    "#3.2 Analyze how sales varied across different platforms.\n",
    "grb_plataform_sales = df.groupby(['platform']).agg({'total_sales':'sum'})\n",
    "grb_plataform_sales = grb_plataform_sales.sort_values('total_sales',ascending = False).reset_index()\n",
    "grb_plataform_sales.plot.bar(x = 'platform', y = 'total_sales')\n",
    "#grb_plataform_sales.head()\n"
   ]
  },
  {
   "cell_type": "code",
   "execution_count": 21,
   "metadata": {
    "trusted": true
   },
   "outputs": [],
   "source": [
    "#3.3.1 Select the platforms with the highest total sales.\n",
    "\n",
    "grb_plataform_sales['total'] = grb_plataform_sales['total_sales'].sum() # Calculating total sales to identify platforms that together represent 80% of overall sales\n",
    "limite = grb_plataform_sales['total_sales'].sum() * 0.7\n",
    "top_platform = [] # Selecting platforms that represent the main share of total sales\n",
    "acumulado_de_vendas =0.0\n",
    "for _, row in grb_plataform_sales.iterrows():\n",
    "    if acumulado_de_vendas < limite :\n",
    "        top_platform.append(row['platform'])\n",
    "        acumulado_de_vendas = acumulado_de_vendas + row['total_sales']\n",
    "    else:\n",
    "        break\n"
   ]
  },
  {
   "cell_type": "code",
   "execution_count": 22,
   "metadata": {
    "trusted": true
   },
   "outputs": [
    {
     "data": {
      "image/png": "[encoded data removed]",
      "text/plain": [
       "<Figure size 640x480 with 1 Axes>"
      ]
     },
     "metadata": {},
     "output_type": "display_data"
    }
   ],
   "source": [
    "#3.3.2 Construct a distribution of sales data for each year.\n",
    "\n",
    "def plot_graf_vendas_ano(plataformas,data_frame):\n",
    "    #Group by operation\n",
    "    for plataformas in top_platform :\n",
    "        filtro_wii = data_frame[data_frame['platform']== plataformas]\n",
    "        grb_wii = filtro_wii.groupby(['year_of_release','platform']).agg({'total_sales':'sum'})\n",
    "        grb_wii = grb_wii.reset_index()\n",
    "        grb_wii = grb_wii.sort_values('year_of_release')\n",
    "        #plot\n",
    "        plt.plot(grb_wii['year_of_release'], grb_wii['total_sales'],label= plataformas)\n",
    "    plt.legend()\n",
    "    plt.show()\n",
    "    return None\n",
    "\n",
    "plot_graf_vendas_ano(top_platform,df)"
   ]
  },
  {
   "cell_type": "code",
   "execution_count": 23,
   "metadata": {
    "trusted": true
   },
   "outputs": [
    {
     "data": {
      "image/png": "[encoded data removed]",
      "text/plain": [
       "<Figure size 640x480 with 1 Axes>"
      ]
     },
     "metadata": {},
     "output_type": "display_data"
    },
    {
     "name": "stdout",
     "output_type": "stream",
     "text": [
      "Wii Sales start: 2006.0 Last sale: 2016.0 Lifetime: 10.0\n",
      "NES Sales start: 1983.0 Last sale: 1994.0 Lifetime: 11.0\n",
      "GB Sales start: 1988.0 Last sale: 2001.0 Lifetime: 13.0\n",
      "DS Sales start: 2004.0 Last sale: 2013.0 Lifetime: 9.0\n",
      "X360 Sales start: 2005.0 Last sale: 2016.0 Lifetime: 11.0\n",
      "PS3 Sales start: 2006.0 Last sale: 2016.0 Lifetime: 10.0\n",
      "PS2 Sales start: 2000.0 Last sale: 2011.0 Lifetime: 11.0\n",
      "SNES Sales start: 1990.0 Last sale: 1999.0 Lifetime: 9.0\n",
      "GBA Sales start: 2000.0 Last sale: 2007.0 Lifetime: 7.0\n",
      "PS4 Sales start: 2013.0 Last sale: 2016.0 Lifetime: 3.0\n",
      "3DS Sales start: 2011.0 Last sale: 2016.0 Lifetime: 5.0\n",
      "N64 Sales start: 1996.0 Last sale: 2002.0 Lifetime: 6.0\n",
      "PS Sales start: 1994.0 Last sale: 2003.0 Lifetime: 9.0\n",
      "XB Sales start: 2000.0 Last sale: 2008.0 Lifetime: 8.0\n",
      "PC Sales start: 1985.0 Last sale: 2016.0 Lifetime: 31.0\n",
      "2600 Sales start: 1980.0 Last sale: 1989.0 Lifetime: 9.0\n",
      "PSP Sales start: 2004.0 Last sale: 2015.0 Lifetime: 11.0\n",
      "XOne Sales start: 2013.0 Last sale: 2016.0 Lifetime: 3.0\n",
      "WiiU Sales start: 2012.0 Last sale: 2016.0 Lifetime: 4.0\n",
      "GC Sales start: 2001.0 Last sale: 2007.0 Lifetime: 6.0\n",
      "GEN Sales start: 1990.0 Last sale: 1994.0 Lifetime: 4.0\n",
      "DC Sales start: 1998.0 Last sale: 2008.0 Lifetime: 10.0\n",
      "PSV Sales start: 2011.0 Last sale: 2016.0 Lifetime: 5.0\n",
      "SAT Sales start: 1994.0 Last sale: 1999.0 Lifetime: 5.0\n",
      "SCD Sales start: 1993.0 Last sale: 1994.0 Lifetime: 1.0\n",
      "WS Sales start: 1999.0 Last sale: 2001.0 Lifetime: 2.0\n",
      "NG Sales start: 1993.0 Last sale: 1996.0 Lifetime: 3.0\n",
      "TG16 Sales start: 1995.0 Last sale: 1995.0 Lifetime: 0.0\n",
      "3DO Sales start: 1994.0 Last sale: 1995.0 Lifetime: 1.0\n",
      "GG Sales start: 1992.0 Last sale: 1992.0 Lifetime: 0.0\n",
      "PCFX Sales start: 1996.0 Last sale: 1996.0 Lifetime: 0.0\n"
     ]
    }
   ],
   "source": [
    "#3.4 Identify platforms that used to be popular but now have little or no sales.\n",
    "plt.scatter(df['platform'],df['year_of_release'])\n",
    "plt.axhline(y=1995,color='r' ,linestyle= '--' ) # Cut-off line: games released before 1995 account for less than 1% of sales\n",
    "plt.axhline(y=2012,color='y' ,linestyle= '--' )# Note: In section 3.1 we observed a sales decline; here we see the yellow line near the end of the PS2 era.\n",
    "plt.xticks(rotation = 90)\n",
    "plt.show()\n",
    "\n",
    "#How long does it take for new platforms to emerge and old ones to disappear?\n",
    "platform_list=df['platform'].unique()\n",
    "contagem = 0\n",
    "acumulado= 0\n",
    "tempo_de_vida = 0\n",
    "def nasc_morte_platform(platforma):\n",
    "    filtro_nm = df[df['platform'] == platforma]\n",
    "    minimo_nm = filtro_nm['year_of_release'].min()\n",
    "    max_nm = filtro_nm['year_of_release'].max()\n",
    "    tempo_de_vida = max_nm - minimo_nm    \n",
    "    print(platforma, 'Sales start:', minimo_nm, 'Last sale:', max_nm, 'Lifetime:', tempo_de_vida)\n",
    "    return  None \n",
    "for row in platform_list:\n",
    "    nasc_morte_platform(row)\n",
    "\n",
    "  "
   ]
  },
  {
   "cell_type": "markdown",
   "metadata": {},
   "source": [
    "# Determine the period of data to use.\n",
    "\n",
    "- The period from 1995 to 2012 represents the \"golden age of games,\"  \n",
    "  covering approximately 70% of sales and excluding many old platforms.\n",
    "\n",
    "- Alternatively, we might consider the average platform lifespan of 6 years and focus on data from 2010 onward.\n",
    "\n",
    "# The data should allow you to build a model for 2017.\n",
    "\n",
    "- Yes."
   ]
  },
  {
   "cell_type": "code",
   "execution_count": 24,
   "metadata": {
    "trusted": true
   },
   "outputs": [
    {
     "data": {
      "image/png": "[encoded data removed]",
      "text/plain": [
       "<Figure size 640x480 with 1 Axes>"
      ]
     },
     "metadata": {},
     "output_type": "display_data"
    },
    {
     "name": "stdout",
     "output_type": "stream",
     "text": [
      "   platform  total_sales\n",
      "0       PS3       587.74\n",
      "1      X360       550.41\n",
      "2       PS4       314.14\n",
      "3       3DS       257.81\n",
      "4       Wii       222.97\n",
      "5      XOne       159.32\n",
      "6        DS       123.75\n",
      "7        PC       121.96\n",
      "8      WiiU        82.19\n",
      "9       PSP        64.05\n",
      "10      PSV        53.81\n",
      "11      PS2         6.09\n"
     ]
    }
   ],
   "source": [
    "# Work only with the data  identified as relevant.\n",
    "# Disregard data from earlier years.\n",
    "df_2=df[df['year_of_release']>2009]\n",
    "#Which platforms are leading in sales? Which ones are growing or declining?\n",
    "list_platform = df_2['platform'].unique()\n",
    "plot_graf_vendas_ano(list_platform,df_2)\n",
    "\n",
    "ssd = df_2.groupby(['platform']).agg({'total_sales':'sum'}).sort_values('total_sales',ascending = False).reset_index()\n",
    "print(ssd)\n",
    "\n",
    "# Selection of potentially profitable platforms:\n",
    "# PS4 – highest sales in 2016\n",
    "# PS3, Xbox 360 – highest cumulative sales"
   ]
  },
  {
   "cell_type": "code",
   "execution_count": 25,
   "metadata": {
    "trusted": true
   },
   "outputs": [
    {
     "data": {
      "text/plain": [
       "<Axes: xlabel='platform', ylabel='total_sales'>"
      ]
     },
     "execution_count": 25,
     "metadata": {},
     "output_type": "execute_result"
    },
    {
     "data": {
      "image/png": "[encoded data removed]",
      "text/plain": [
       "<Figure size 640x480 with 1 Axes>"
      ]
     },
     "metadata": {},
     "output_type": "display_data"
    }
   ],
   "source": [
    "# Build a box plot for global sales of all games, grouped by platform\n",
    "sns.boxplot(x = 'platform', y = 'total_sales', data = df_2 )\n",
    "        \n",
    "# Are the differences in sales significant?\n",
    "# Yes.\n"
   ]
  },
  {
   "cell_type": "code",
   "execution_count": 26,
   "metadata": {
    "trusted": true
   },
   "outputs": [
    {
     "name": "stdout",
     "output_type": "stream",
     "text": [
      "corelação : 0.4005940935202247\n"
     ]
    },
    {
     "data": {
      "image/png": "[encoded data removed]",
      "text/plain": [
       "<Figure size 640x480 with 1 Axes>"
      ]
     },
     "metadata": {},
     "output_type": "display_data"
    }
   ],
   "source": [
    "# Analyze how user and critic ratings affect sales on a popular platform (your choice).\n",
    "# Create a scatter plot and calculate the correlation between reviews and sales.\n",
    "# Critic reviews\n",
    "df_2_ps3= df_2[df_2['platform'] == 'PS3']\n",
    "plt.scatter(df_2_ps3['critic_score'] ,df_2_ps3['total_sales'])\n",
    "print('corelação :', df_2_ps3['critic_score'].corr(df_2_ps3['total_sales']))\n",
    "# Conclusions:\n",
    "        # There is no strong correlation."
   ]
  },
  {
   "cell_type": "code",
   "execution_count": 27,
   "metadata": {
    "trusted": true
   },
   "outputs": [
    {
     "name": "stderr",
     "output_type": "stream",
     "text": [
      "C:\\Users\\aswit\\AppData\\Local\\Temp\\ipykernel_9848\\59867285.py:6: SettingWithCopyWarning: \n",
      "A value is trying to be set on a copy of a slice from a DataFrame.\n",
      "Try using .loc[row_indexer,col_indexer] = value instead\n",
      "\n",
      "See the caveats in the documentation: https://pandas.pydata.org/pandas-docs/stable/user_guide/indexing.html#returning-a-view-versus-a-copy\n",
      "  df_2_user_score['user_score'] = df_2_user_score['user_score'].astype(float)\n",
      "C:\\Users\\aswit\\AppData\\Local\\Temp\\ipykernel_9848\\59867285.py:9: FutureWarning: A value is trying to be set on a copy of a DataFrame or Series through chained assignment using an inplace method.\n",
      "The behavior will change in pandas 3.0. This inplace method will never work because the intermediate object on which we are setting values always behaves as a copy.\n",
      "\n",
      "For example, when doing 'df[col].method(value, inplace=True)', try using 'df.method({col: value}, inplace=True)' or df[col] = df[col].method(value) instead, to perform the operation inplace on the original object.\n",
      "\n",
      "\n",
      "  df_2_user_score['user_score'].fillna(value=df_2_user_score_mean,inplace=True)\n",
      "C:\\Users\\aswit\\AppData\\Local\\Temp\\ipykernel_9848\\59867285.py:9: SettingWithCopyWarning: \n",
      "A value is trying to be set on a copy of a slice from a DataFrame\n",
      "\n",
      "See the caveats in the documentation: https://pandas.pydata.org/pandas-docs/stable/user_guide/indexing.html#returning-a-view-versus-a-copy\n",
      "  df_2_user_score['user_score'].fillna(value=df_2_user_score_mean,inplace=True)\n"
     ]
    },
    {
     "data": {
      "image/png": "[encoded data removed]",
      "text/plain": [
       "<Figure size 640x480 with 1 Axes>"
      ]
     },
     "metadata": {},
     "output_type": "display_data"
    },
    {
     "name": "stdout",
     "output_type": "stream",
     "text": [
      "correlation : 0.04818479992539329\n"
     ]
    }
   ],
   "source": [
    "# User reviews\n",
    "\n",
    "# Filtering out 'tbd' data\n",
    "df_2_user_score = df_2[df_2['user_score'] != 'tbd']\n",
    "# Conversion to float\n",
    "df_2_user_score['user_score'] = df_2_user_score['user_score'].astype(float)\n",
    "# Replacing NaN values with the mean\n",
    "df_2_user_score_mean=df_2_user_score['user_score'].mean()\n",
    "df_2_user_score['user_score'].fillna(value=df_2_user_score_mean,inplace=True)\n",
    "# Plotting the graph\n",
    "plt.scatter(df_2_user_score['user_score'] ,df_2_user_score['total_sales'])\n",
    "plt.show()\n",
    "print('correlation :', df_2_user_score['user_score'].corr(df_2_user_score['total_sales']))\n",
    "\n",
    "# There is no strong correlation."
   ]
  },
  {
   "cell_type": "code",
   "execution_count": 28,
   "metadata": {
    "trusted": true
   },
   "outputs": [],
   "source": [
    "#With these conclusions in mind, compare sales on other platforms."
   ]
  },
  {
   "cell_type": "code",
   "execution_count": 29,
   "metadata": {
    "trusted": true
   },
   "outputs": [
    {
     "data": {
      "text/plain": [
       "<Axes: xlabel='genre'>"
      ]
     },
     "execution_count": 29,
     "metadata": {},
     "output_type": "execute_result"
    },
    {
     "data": {
      "image/png": "[encoded data removed]",
      "text/plain": [
       "<Figure size 640x480 with 1 Axes>"
      ]
     },
     "metadata": {},
     "output_type": "display_data"
    }
   ],
   "source": [
    "#Overall distribution of games by genre.\n",
    "grb_genre_sales = df_2.groupby(['genre']).agg({'total_sales':'sum'})\n",
    "grb_genre_sales = grb_genre_sales.sort_values('total_sales', ascending = False)\n",
    "grb_genre_sales.plot.bar()\n",
    "\n",
    "# What can we say about the most profitable genres?\n",
    "# The top 3 are: Action, Sports, Shooter\n",
    "\n",
    "# Can you generalize about genres with high and low sales?\n",
    "# Yes, there are games with high sales (>350), medium, and low sales (<150)."
   ]
  },
  {
   "cell_type": "markdown",
   "metadata": {},
   "source": [
    "## Create a user profile for each region"
   ]
  },
  {
   "cell_type": "code",
   "execution_count": 30,
   "metadata": {
    "trusted": true
   },
   "outputs": [
    {
     "name": "stdout",
     "output_type": "stream",
     "text": [
      "             EUA      JP      EU  Other\n",
      "platform                               \n",
      "3DS        82.65  100.62   61.27  13.27\n",
      "DS         59.66   27.90   28.06   8.13\n",
      "PC         39.07    0.00   68.82  14.07\n",
      "PS2         2.32    0.80    1.67   1.30\n",
      "PS3       229.25   59.26  213.60  85.63\n",
      "PS4       108.74   15.96  141.09  48.35\n",
      "PSP         9.65   42.20    7.59   4.61\n",
      "PSV        12.47   21.84   13.07   6.43\n",
      "Wii       121.20   17.75   65.91  18.11\n",
      "WiiU       38.10   13.01   25.13   5.95\n",
      "X360      334.18    5.46  163.41  47.36\n",
      "XOne       93.12    0.34   51.59  14.27\n"
     ]
    },
    {
     "data": {
      "image/png": "[encoded data removed]",
      "text/plain": [
       "<Figure size 640x480 with 1 Axes>"
      ]
     },
     "metadata": {},
     "output_type": "display_data"
    }
   ],
   "source": [
    "# The top five platforms.\n",
    "# Profiles:    \n",
    "    #EUA\n",
    "grb_plat_na_sales = df_2.groupby(['platform']).agg({'na_sales':'sum'})\n",
    "grb_plat_na_sales.rename(columns={'na_sales': 'EUA'},inplace = True)\n",
    "    #JP\n",
    "grb_plat_jp_sales = df_2.groupby(['platform']).agg({'jp_sales':'sum'})\n",
    "grb_plat_jp_sales.rename(columns={'jp_sales': 'JP'},inplace = True)\n",
    "    #EU\n",
    "grb_plat_eu_sales = df_2.groupby(['platform']).agg({'eu_sales':'sum'})\n",
    "grb_plat_eu_sales.rename(columns={'eu_sales': 'EU'},inplace = True)\n",
    "    #Other\n",
    "grb_plat_other_sales = df_2.groupby(['platform']).agg({'other_sales':'sum'})\n",
    "grb_plat_other_sales.rename(columns={'other_sales': 'Other'},inplace = True)\n",
    "\n",
    "# Merging profiles\n",
    "concat_perfis_plat=pd.concat([grb_plat_na_sales,grb_plat_jp_sales,grb_plat_eu_sales,grb_plat_other_sales], axis='columns')\n",
    "\n",
    "#ploting\n",
    "concat_perfis_plat.plot(kind=\"bar\")\n",
    "print(concat_perfis_plat)\n",
    "\n",
    "# Describe the variations in their market shares across regions.\n",
    "# USA - Xbox 360\n",
    "# Japan - 3DS\n",
    "# Europe - PS3\n",
    "# Other - PS3"
   ]
  },
  {
   "cell_type": "code",
   "execution_count": 31,
   "metadata": {
    "trusted": true
   },
   "outputs": [
    {
     "name": "stdout",
     "output_type": "stream",
     "text": [
      "                 EUA      JP      EU  Other\n",
      "genre                                      \n",
      "Action        290.64   72.20  233.63  76.62\n",
      "Adventure      20.84   15.67   18.88   5.61\n",
      "Fighting       39.05   13.90   20.33   8.31\n",
      "Misc          123.80   24.29   66.09  20.38\n",
      "Platform       54.90   15.81   38.30  10.71\n",
      "Puzzle          9.10    3.40    6.58   1.52\n",
      "Racing         46.11    6.68   54.75  15.14\n",
      "Role-Playing  112.05  103.54   75.48  24.21\n",
      "Shooter       237.47   14.04  171.45  56.78\n",
      "Simulation     26.39   13.30   26.39   5.67\n",
      "Sports        156.81   15.51  116.84  39.23\n",
      "Strategy       13.25    6.80   12.49   3.30\n"
     ]
    },
    {
     "data": {
      "image/png": "[encoded data removed]",
      "text/plain": [
       "<Figure size 640x480 with 1 Axes>"
      ]
     },
     "metadata": {},
     "output_type": "display_data"
    }
   ],
   "source": [
    "# The top five genres. Explain the differences.\n",
    " #EUA\n",
    "grb_genre_na_sales = df_2.groupby(['genre']).agg({'na_sales':'sum'})\n",
    "grb_genre_na_sales.rename(columns={'na_sales': 'EUA'},inplace = True)\n",
    "    #JP\n",
    "grb_genre_jp_sales = df_2.groupby(['genre']).agg({'jp_sales':'sum'})\n",
    "grb_genre_jp_sales.rename(columns={'jp_sales': 'JP'},inplace = True)\n",
    "    #EU\n",
    "grb_genre_eu_sales = df_2.groupby(['genre']).agg({'eu_sales':'sum'})\n",
    "grb_genre_eu_sales.rename(columns={'eu_sales': 'EU'},inplace = True)\n",
    "    #Other\n",
    "grb_genre_other_sales = df_2.groupby(['genre']).agg({'other_sales':'sum'})\n",
    "grb_genre_other_sales.rename(columns={'other_sales': 'Other'},inplace = True)\n",
    "\n",
    "# Merging profiles\n",
    "concat_perfis=pd.concat([grb_genre_na_sales,grb_genre_jp_sales,grb_genre_eu_sales,grb_genre_other_sales], axis='columns')\n",
    "\n",
    "#ploting\n",
    "concat_perfis.plot(kind=\"bar\")\n",
    "print(concat_perfis)\n",
    "# Describe the variations in market shares across regions.\n",
    "# Regardless of genre, the USA consistently leads in sales.\n",
    "#EUA -Action\n",
    "#JP - Role-plaing\n",
    "#EU - Action\n",
    "#other - action"
   ]
  },
  {
   "cell_type": "code",
   "execution_count": 32,
   "metadata": {
    "trusted": true
   },
   "outputs": [
    {
     "name": "stdout",
     "output_type": "stream",
     "text": [
      "           EUA     JP      EU  Other\n",
      "rating                              \n",
      "E       271.15  47.87  197.34  60.04\n",
      "E10+    159.38  13.22   99.28  31.15\n",
      "EC        1.13   0.00    0.00   0.07\n",
      "M       382.22  30.45  292.04  96.98\n",
      "RP        0.00   0.00    0.03   0.01\n",
      "T       160.81  42.11  113.08  38.72\n"
     ]
    },
    {
     "data": {
      "image/png": "[encoded data removed]",
      "text/plain": [
       "<Figure size 640x480 with 1 Axes>"
      ]
     },
     "metadata": {},
     "output_type": "display_data"
    }
   ],
   "source": [
    "# Do ESRB ratings affect sales in individual regions?\n",
    "# Profiles:   \n",
    "    #EUA\n",
    "grb_rating_na_sales = df_2.groupby(['rating']).agg({'na_sales':'sum'})\n",
    "grb_rating_na_sales.rename(columns={'na_sales': 'EUA'},inplace = True)\n",
    "    #JP\n",
    "grb_rating_jp_sales = df_2.groupby(['rating']).agg({'jp_sales':'sum'})\n",
    "grb_rating_jp_sales.rename(columns={'jp_sales': 'JP'},inplace = True)\n",
    "    #EU\n",
    "grb_rating_eu_sales = df_2.groupby(['rating']).agg({'eu_sales':'sum'})\n",
    "grb_rating_eu_sales.rename(columns={'eu_sales': 'EU'},inplace = True)\n",
    "    #Other\n",
    "grb_rating_other_sales = df_2.groupby(['rating']).agg({'other_sales':'sum'})\n",
    "grb_rating_other_sales.rename(columns={'other_sales': 'Other'},inplace = True)\n",
    "\n",
    "# Merging profiles\n",
    "concat_perfis_rating=pd.concat([grb_rating_na_sales,grb_rating_jp_sales,grb_rating_eu_sales,grb_rating_other_sales], axis='columns')\n",
    "\n",
    "#ploting\n",
    "concat_perfis_rating.plot(kind=\"bar\")\n",
    "print(concat_perfis_rating)\n",
    "\n",
    "# Do ESRB ratings affect sales in individual regions?\n",
    "\n",
    "# USA - M\n",
    "# Japan - \"Not defined\"\n",
    "# Europe - M\n",
    "# Other - M\n",
    "\n",
    "# Rating M is the preferred classification in most regions (3 out of 4)."
   ]
  },
  {
   "cell_type": "markdown",
   "metadata": {},
   "source": [
    "## Hypothesis Testing\n",
    "Define the alpha threshold value yourself."
   ]
  },
  {
   "cell_type": "code",
   "execution_count": 33,
   "metadata": {
    "trusted": true
   },
   "outputs": [
    {
     "name": "stdout",
     "output_type": "stream",
     "text": [
      "valor-p:  0.9815863311035156\n",
      "We cannot reject the null hypothesis\n",
      "\n",
      "The average user ratings for the Xbox One and PC platforms are the same.\n"
     ]
    },
    {
     "name": "stderr",
     "output_type": "stream",
     "text": [
      "C:\\Users\\aswit\\AppData\\Local\\Temp\\ipykernel_9848\\438004610.py:13: FutureWarning: A value is trying to be set on a copy of a DataFrame or Series through chained assignment using an inplace method.\n",
      "The behavior will change in pandas 3.0. This inplace method will never work because the intermediate object on which we are setting values always behaves as a copy.\n",
      "\n",
      "For example, when doing 'df[col].method(value, inplace=True)', try using 'df.method({col: value}, inplace=True)' or df[col] = df[col].method(value) instead, to perform the operation inplace on the original object.\n",
      "\n",
      "\n",
      "  df_2_pc['user_score'].fillna(value=pc_mean,inplace=True)\n",
      "C:\\Users\\aswit\\AppData\\Local\\Temp\\ipykernel_9848\\438004610.py:15: FutureWarning: A value is trying to be set on a copy of a DataFrame or Series through chained assignment using an inplace method.\n",
      "The behavior will change in pandas 3.0. This inplace method will never work because the intermediate object on which we are setting values always behaves as a copy.\n",
      "\n",
      "For example, when doing 'df[col].method(value, inplace=True)', try using 'df.method({col: value}, inplace=True)' or df[col] = df[col].method(value) instead, to perform the operation inplace on the original object.\n",
      "\n",
      "\n",
      "  df_2_xboxone['user_score'].fillna(value=xbox_mean,inplace=True)\n"
     ]
    }
   ],
   "source": [
    "#The average user ratings for the Xbox One and PC platforms are the same.\n",
    "df_2_xboxone=df_2[df_2['platform']== 'XOne']\n",
    "df_2_pc=df_2[df_2['platform']== 'PC']\n",
    "\n",
    "# Removing rows with 'TBD'\n",
    "df_2_pc = df_2_pc[df_2_pc['user_score'] != \"tbd\"]\n",
    "df_2_xboxone = df_2_xboxone[df_2_xboxone['user_score'] != \"tbd\"]\n",
    "#Converting string to float\n",
    "df_2_pc['user_score']=df_2_pc['user_score'].astype(float)\n",
    "df_2_xboxone['user_score']=df_2_xboxone['user_score'].astype(float)\n",
    "#Filling NaN values with the mean\n",
    "pc_mean=df_2_pc['user_score'].mean()\n",
    "df_2_pc['user_score'].fillna(value=pc_mean,inplace=True)\n",
    "xbox_mean=df_2_pc['user_score'].mean()\n",
    "df_2_xboxone['user_score'].fillna(value=xbox_mean,inplace=True)\n",
    "\n",
    "alpha = 0.05\n",
    "results = st.ttest_ind(df_2_pc['user_score'],df_2_xboxone['user_score'])\n",
    "print('valor-p: ', results.pvalue) # Extracting the p-value\n",
    "\n",
    "if results.pvalue < alpha: # Comparing the p-value with the threshold\n",
    "    print(\"We reject the null hypothesis\")\n",
    "    print()\n",
    "    print('The average user ratings for the Xbox One and PC platforms are not the same.')\n",
    "else:\n",
    "    print(\"We cannot reject the null hypothesis\")\n",
    "    print()\n",
    "    print('The average user ratings for the Xbox One and PC platforms are the same.')"
   ]
  },
  {
   "cell_type": "code",
   "execution_count": 34,
   "metadata": {
    "trusted": true
   },
   "outputs": [
    {
     "name": "stdout",
     "output_type": "stream",
     "text": [
      "valor-p:  7.431960488138697e-45\n",
      "We reject the null hypothesis\n",
      "\n",
      "The average user ratings for the Action and Sports genres are not the same.\n"
     ]
    },
    {
     "name": "stderr",
     "output_type": "stream",
     "text": [
      "C:\\Users\\aswit\\AppData\\Local\\Temp\\ipykernel_9848\\3372484195.py:16: FutureWarning: A value is trying to be set on a copy of a DataFrame or Series through chained assignment using an inplace method.\n",
      "The behavior will change in pandas 3.0. This inplace method will never work because the intermediate object on which we are setting values always behaves as a copy.\n",
      "\n",
      "For example, when doing 'df[col].method(value, inplace=True)', try using 'df.method({col: value}, inplace=True)' or df[col] = df[col].method(value) instead, to perform the operation inplace on the original object.\n",
      "\n",
      "\n",
      "  df_2_Action['user_score'].fillna(value=Action_mean,inplace=True)\n",
      "C:\\Users\\aswit\\AppData\\Local\\Temp\\ipykernel_9848\\3372484195.py:18: FutureWarning: A value is trying to be set on a copy of a DataFrame or Series through chained assignment using an inplace method.\n",
      "The behavior will change in pandas 3.0. This inplace method will never work because the intermediate object on which we are setting values always behaves as a copy.\n",
      "\n",
      "For example, when doing 'df[col].method(value, inplace=True)', try using 'df.method({col: value}, inplace=True)' or df[col] = df[col].method(value) instead, to perform the operation inplace on the original object.\n",
      "\n",
      "\n",
      "  df_2_Sports['user_score'].fillna(value=Sports_mean,inplace=True)\n"
     ]
    }
   ],
   "source": [
    "# The average user ratings for the Action and Sports genres are different.\n",
    "\n",
    "# H0: The average user ratings for the Action and Sports genres are the same.\n",
    "\n",
    "df_2_Action=df_2[df_2['genre']== 'Action']\n",
    "df_2_Sports=df_2[df_2['genre']== 'Sports']\n",
    "\n",
    "# Removing rows with 'TBD'\n",
    "df_2_Action = df_2_Action[df_2_Action['user_score'] != \"tbd\"]\n",
    "df_2_Sports = df_2_Sports[df_2_Sports['user_score'] != \"tbd\"]\n",
    "#Converting string to float\n",
    "df_2_Action['user_score']=df_2_Action['user_score'].astype(float)\n",
    "df_2_Sports['user_score']=df_2_Sports['user_score'].astype(float)\n",
    "#Filling NaN values with the mean\n",
    "Action_mean=df_2_Action['user_score'].mean()\n",
    "df_2_Action['user_score'].fillna(value=Action_mean,inplace=True)\n",
    "Sports_mean=df_2_Sports['user_score'].mean()\n",
    "df_2_Sports['user_score'].fillna(value=Sports_mean,inplace=True)\n",
    "\n",
    "alpha = 0.05\n",
    "results = st.ttest_ind(df_2_Sports['user_score'],df_2_Action['user_score'])\n",
    "print('valor-p: ', results.pvalue) # # Extracting the p-value\n",
    "\n",
    "if results.pvalue < alpha: # Comparing the p-value with the threshold\n",
    "    print(\"We reject the null hypothesis\")\n",
    "    print()\n",
    "    print('The average user ratings for the Action and Sports genres are not the same.')\n",
    "else:\n",
    "    print(\"We cannot reject the null hypothesis\")\n",
    "    print()\n",
    "    print('The average user ratings for the Action and Sports genres are the same.')\n",
    "    \n"
   ]
  },
  {
   "cell_type": "markdown",
   "metadata": {},
   "source": [
    "Explanation:\n",
    "— How to formulate the null and alternative hypotheses.\n",
    "\n",
    "The null hypotheses should be those that do not indicate any changes; they should state that the values are equal. The alternative hypotheses should be the opposite of the null hypotheses.\n",
    "\n",
    "— What criteria are used to test the hypotheses, and why\n",
    "\n",
    "In both cases, I used an alpha of 0.05 because this implies a 5% chance of rejecting the hypothesis.\n",
    "\n"
   ]
  },
  {
   "cell_type": "markdown",
   "metadata": {},
   "source": [
    "## General conclusion"
   ]
  },
  {
   "cell_type": "markdown",
   "metadata": {},
   "source": [
    "Sales decline in 2012, dropping from 1,136 sales in 2011 to 653 in 2012.\n",
    "\n",
    "The average lifespan of the platforms is 6 years.\n",
    "\n",
    "There is no strong correlation between reviews and sales.\n",
    "\n",
    "The top 3 genres are: Action, Sports, Shooter.\n",
    "\n",
    "Favorite platform by region:\n",
    "USA – X360\n",
    "Japan – 3DS\n",
    "Europe – PS3\n",
    "Other – PS3\n",
    "\n",
    "Japan is the only region with a preference for the Role-Playing genre; the others prefer Action.\n",
    "\n",
    "Japan shows a preference for unrated games, while other regions prefer games rated M.\n",
    "\n",
    "The average user ratings for Xbox One and PC platforms are the same.\n",
    "\n",
    "The average user ratings for the genres Action and Sports are NOT the same.\n",
    "\n",
    "Se quiser, posso ajudar a formatar isso num texto corrido também!\n"
   ]
  }
 ],
 "metadata": {
  "ExecuteTimeLog": [
   {
    "duration": 169,
    "start_time": "2025-01-10T06:37:47.394Z"
   },
   {
    "duration": 188,
    "start_time": "2025-01-10T06:38:06.371Z"
   },
   {
    "duration": 0,
    "start_time": "2025-01-10T06:38:06.561Z"
   },
   {
    "duration": 282,
    "start_time": "2025-01-10T06:38:30.393Z"
   },
   {
    "duration": 46,
    "start_time": "2025-01-10T06:38:30.677Z"
   },
   {
    "duration": 46,
    "start_time": "2025-01-10T06:45:16.346Z"
   },
   {
    "duration": 283,
    "start_time": "2025-01-10T07:06:32.690Z"
   },
   {
    "duration": 50,
    "start_time": "2025-01-10T07:06:32.977Z"
   },
   {
    "duration": 4,
    "start_time": "2025-01-10T07:06:33.030Z"
   },
   {
    "duration": 727,
    "start_time": "2025-01-10T07:06:33.035Z"
   },
   {
    "duration": 0,
    "start_time": "2025-01-10T07:06:33.763Z"
   },
   {
    "duration": 6,
    "start_time": "2025-01-10T07:08:46.986Z"
   },
   {
    "duration": 13,
    "start_time": "2025-01-10T07:08:52.953Z"
   },
   {
    "duration": 309,
    "start_time": "2025-01-10T07:12:00.131Z"
   },
   {
    "duration": 36,
    "start_time": "2025-01-10T07:12:00.442Z"
   },
   {
    "duration": 3,
    "start_time": "2025-01-10T07:12:00.481Z"
   },
   {
    "duration": 3,
    "start_time": "2025-01-10T07:12:00.486Z"
   },
   {
    "duration": 2,
    "start_time": "2025-01-10T07:12:00.491Z"
   },
   {
    "duration": 3,
    "start_time": "2025-01-10T07:15:52.937Z"
   },
   {
    "duration": 2,
    "start_time": "2025-01-10T07:21:07.180Z"
   },
   {
    "duration": 2,
    "start_time": "2025-01-10T07:21:24.555Z"
   },
   {
    "duration": 2,
    "start_time": "2025-01-10T07:21:45.470Z"
   },
   {
    "duration": 338,
    "start_time": "2025-01-10T07:28:01.759Z"
   },
   {
    "duration": 38,
    "start_time": "2025-01-10T07:28:02.099Z"
   },
   {
    "duration": 3,
    "start_time": "2025-01-10T07:28:02.139Z"
   },
   {
    "duration": 2,
    "start_time": "2025-01-10T07:28:02.145Z"
   },
   {
    "duration": 3,
    "start_time": "2025-01-10T07:28:02.149Z"
   },
   {
    "duration": 3,
    "start_time": "2025-01-10T07:28:02.153Z"
   },
   {
    "duration": 3,
    "start_time": "2025-01-10T07:28:02.158Z"
   },
   {
    "duration": 2,
    "start_time": "2025-01-10T07:28:02.163Z"
   },
   {
    "duration": 2,
    "start_time": "2025-01-10T07:28:02.167Z"
   },
   {
    "duration": 2,
    "start_time": "2025-01-10T07:28:02.173Z"
   },
   {
    "duration": 4,
    "start_time": "2025-01-10T07:28:02.176Z"
   },
   {
    "duration": 2,
    "start_time": "2025-01-10T07:28:02.182Z"
   },
   {
    "duration": 2,
    "start_time": "2025-01-10T07:28:02.232Z"
   },
   {
    "duration": 3,
    "start_time": "2025-01-10T07:28:02.236Z"
   },
   {
    "duration": 2,
    "start_time": "2025-01-10T07:28:02.240Z"
   },
   {
    "duration": 2,
    "start_time": "2025-01-10T07:28:02.244Z"
   },
   {
    "duration": 2,
    "start_time": "2025-01-10T07:28:02.248Z"
   },
   {
    "duration": 2,
    "start_time": "2025-01-10T07:28:02.252Z"
   },
   {
    "duration": 2,
    "start_time": "2025-01-10T07:28:02.257Z"
   },
   {
    "duration": 11,
    "start_time": "2025-01-10T07:28:20.319Z"
   },
   {
    "duration": 11,
    "start_time": "2025-01-10T07:29:06.418Z"
   },
   {
    "duration": 7,
    "start_time": "2025-01-10T07:29:15.228Z"
   },
   {
    "duration": 3,
    "start_time": "2025-01-10T07:34:29.485Z"
   },
   {
    "duration": 178,
    "start_time": "2025-01-10T07:34:35.803Z"
   },
   {
    "duration": 4,
    "start_time": "2025-01-10T07:35:04.278Z"
   },
   {
    "duration": 2570,
    "start_time": "2025-01-10T07:58:38.362Z"
   },
   {
    "duration": 49,
    "start_time": "2025-01-10T07:58:40.936Z"
   },
   {
    "duration": 3,
    "start_time": "2025-01-10T07:58:40.987Z"
   },
   {
    "duration": 4,
    "start_time": "2025-01-10T07:58:40.992Z"
   },
   {
    "duration": 2,
    "start_time": "2025-01-10T07:58:40.999Z"
   },
   {
    "duration": 3,
    "start_time": "2025-01-10T07:58:41.002Z"
   },
   {
    "duration": 3,
    "start_time": "2025-01-10T07:58:41.031Z"
   },
   {
    "duration": 3,
    "start_time": "2025-01-10T07:58:41.035Z"
   },
   {
    "duration": 3,
    "start_time": "2025-01-10T07:58:41.039Z"
   },
   {
    "duration": 2,
    "start_time": "2025-01-10T07:58:41.043Z"
   },
   {
    "duration": 2,
    "start_time": "2025-01-10T07:58:41.047Z"
   },
   {
    "duration": 3,
    "start_time": "2025-01-10T07:58:41.050Z"
   },
   {
    "duration": 3,
    "start_time": "2025-01-10T07:58:41.054Z"
   },
   {
    "duration": 3,
    "start_time": "2025-01-10T07:58:41.060Z"
   },
   {
    "duration": 2,
    "start_time": "2025-01-10T07:58:41.065Z"
   },
   {
    "duration": 2,
    "start_time": "2025-01-10T07:58:41.068Z"
   },
   {
    "duration": 2,
    "start_time": "2025-01-10T07:58:41.071Z"
   },
   {
    "duration": 3,
    "start_time": "2025-01-10T07:58:41.075Z"
   },
   {
    "duration": 2,
    "start_time": "2025-01-10T07:58:41.079Z"
   },
   {
    "duration": 48,
    "start_time": "2025-01-10T07:58:41.083Z"
   },
   {
    "duration": 16,
    "start_time": "2025-01-10T08:02:17.399Z"
   },
   {
    "duration": 10,
    "start_time": "2025-01-10T08:03:25.941Z"
   },
   {
    "duration": 11,
    "start_time": "2025-01-10T08:03:57.839Z"
   },
   {
    "duration": 4,
    "start_time": "2025-01-10T08:04:18.677Z"
   },
   {
    "duration": 4,
    "start_time": "2025-01-10T08:10:51.481Z"
   },
   {
    "duration": 3,
    "start_time": "2025-01-10T08:11:55.269Z"
   },
   {
    "duration": 3,
    "start_time": "2025-01-10T08:12:01.071Z"
   },
   {
    "duration": 3,
    "start_time": "2025-01-10T08:12:17.790Z"
   },
   {
    "duration": 3,
    "start_time": "2025-01-10T08:12:31.740Z"
   },
   {
    "duration": 5,
    "start_time": "2025-01-10T08:14:01.471Z"
   },
   {
    "duration": 8,
    "start_time": "2025-01-10T08:14:57.419Z"
   },
   {
    "duration": 6,
    "start_time": "2025-01-10T08:22:36.316Z"
   },
   {
    "duration": 5,
    "start_time": "2025-01-10T08:27:09.898Z"
   },
   {
    "duration": 5,
    "start_time": "2025-01-10T08:27:22.349Z"
   },
   {
    "duration": 5,
    "start_time": "2025-01-10T08:27:33.753Z"
   },
   {
    "duration": 215,
    "start_time": "2025-01-10T08:29:03.625Z"
   },
   {
    "duration": 143,
    "start_time": "2025-01-10T08:34:59.813Z"
   },
   {
    "duration": 268,
    "start_time": "2025-01-10T08:35:14.933Z"
   },
   {
    "duration": 175,
    "start_time": "2025-01-10T08:36:48.494Z"
   },
   {
    "duration": 211,
    "start_time": "2025-01-10T08:37:01.572Z"
   },
   {
    "duration": 2497,
    "start_time": "2025-01-10T17:21:17.866Z"
   },
   {
    "duration": 36,
    "start_time": "2025-01-10T17:21:20.368Z"
   },
   {
    "duration": 17,
    "start_time": "2025-01-10T17:21:20.405Z"
   },
   {
    "duration": 3,
    "start_time": "2025-01-10T17:21:20.425Z"
   },
   {
    "duration": 2,
    "start_time": "2025-01-10T17:21:20.430Z"
   },
   {
    "duration": 5,
    "start_time": "2025-01-10T17:21:20.434Z"
   },
   {
    "duration": 3,
    "start_time": "2025-01-10T17:21:20.441Z"
   },
   {
    "duration": 0,
    "start_time": "2025-01-10T17:21:20.446Z"
   },
   {
    "duration": 0,
    "start_time": "2025-01-10T17:21:20.447Z"
   },
   {
    "duration": 0,
    "start_time": "2025-01-10T17:21:20.449Z"
   },
   {
    "duration": 0,
    "start_time": "2025-01-10T17:21:20.450Z"
   },
   {
    "duration": 0,
    "start_time": "2025-01-10T17:21:20.451Z"
   },
   {
    "duration": 0,
    "start_time": "2025-01-10T17:21:20.452Z"
   },
   {
    "duration": 0,
    "start_time": "2025-01-10T17:21:20.453Z"
   },
   {
    "duration": 0,
    "start_time": "2025-01-10T17:21:20.454Z"
   },
   {
    "duration": 0,
    "start_time": "2025-01-10T17:21:20.455Z"
   },
   {
    "duration": 0,
    "start_time": "2025-01-10T17:21:20.457Z"
   },
   {
    "duration": 0,
    "start_time": "2025-01-10T17:21:20.458Z"
   },
   {
    "duration": 0,
    "start_time": "2025-01-10T17:21:20.460Z"
   },
   {
    "duration": 0,
    "start_time": "2025-01-10T17:21:20.461Z"
   },
   {
    "duration": 132,
    "start_time": "2025-01-10T17:21:34.862Z"
   },
   {
    "duration": 6,
    "start_time": "2025-01-10T17:21:47.610Z"
   },
   {
    "duration": 5,
    "start_time": "2025-01-10T17:24:34.645Z"
   },
   {
    "duration": 8,
    "start_time": "2025-01-10T17:26:11.250Z"
   },
   {
    "duration": 5,
    "start_time": "2025-01-10T17:28:54.299Z"
   },
   {
    "duration": 233,
    "start_time": "2025-01-10T17:29:34.250Z"
   },
   {
    "duration": 822,
    "start_time": "2025-01-10T17:33:05.499Z"
   },
   {
    "duration": 62,
    "start_time": "2025-01-10T17:36:02.051Z"
   },
   {
    "duration": 93,
    "start_time": "2025-01-10T17:37:06.819Z"
   },
   {
    "duration": 794,
    "start_time": "2025-01-10T17:37:41.798Z"
   },
   {
    "duration": 33,
    "start_time": "2025-01-10T17:37:42.594Z"
   },
   {
    "duration": 23,
    "start_time": "2025-01-10T17:37:42.628Z"
   },
   {
    "duration": 5,
    "start_time": "2025-01-10T17:37:42.654Z"
   },
   {
    "duration": 3,
    "start_time": "2025-01-10T17:37:42.660Z"
   },
   {
    "duration": 5,
    "start_time": "2025-01-10T17:37:42.664Z"
   },
   {
    "duration": 5,
    "start_time": "2025-01-10T17:37:42.670Z"
   },
   {
    "duration": 258,
    "start_time": "2025-01-10T17:37:42.677Z"
   },
   {
    "duration": 728,
    "start_time": "2025-01-10T17:37:42.936Z"
   },
   {
    "duration": 0,
    "start_time": "2025-01-10T17:37:43.666Z"
   },
   {
    "duration": 0,
    "start_time": "2025-01-10T17:37:43.667Z"
   },
   {
    "duration": 0,
    "start_time": "2025-01-10T17:37:43.668Z"
   },
   {
    "duration": 0,
    "start_time": "2025-01-10T17:37:43.669Z"
   },
   {
    "duration": 0,
    "start_time": "2025-01-10T17:37:43.670Z"
   },
   {
    "duration": 0,
    "start_time": "2025-01-10T17:37:43.671Z"
   },
   {
    "duration": 0,
    "start_time": "2025-01-10T17:37:43.672Z"
   },
   {
    "duration": 0,
    "start_time": "2025-01-10T17:37:43.673Z"
   },
   {
    "duration": 0,
    "start_time": "2025-01-10T17:37:43.675Z"
   },
   {
    "duration": 1,
    "start_time": "2025-01-10T17:37:43.675Z"
   },
   {
    "duration": 0,
    "start_time": "2025-01-10T17:37:43.677Z"
   },
   {
    "duration": 0,
    "start_time": "2025-01-10T17:37:43.678Z"
   },
   {
    "duration": 5,
    "start_time": "2025-01-10T17:39:54.715Z"
   },
   {
    "duration": 300,
    "start_time": "2025-01-10T17:41:29.810Z"
   },
   {
    "duration": 208,
    "start_time": "2025-01-10T17:41:44.658Z"
   },
   {
    "duration": 218,
    "start_time": "2025-01-10T17:43:10.436Z"
   },
   {
    "duration": 229,
    "start_time": "2025-01-10T17:43:26.823Z"
   },
   {
    "duration": 220,
    "start_time": "2025-01-10T17:47:34.057Z"
   },
   {
    "duration": 205,
    "start_time": "2025-01-10T17:47:54.499Z"
   },
   {
    "duration": 208,
    "start_time": "2025-01-10T17:48:28.278Z"
   },
   {
    "duration": 216,
    "start_time": "2025-01-10T17:48:44.258Z"
   },
   {
    "duration": 6,
    "start_time": "2025-01-10T17:48:58.809Z"
   },
   {
    "duration": 17,
    "start_time": "2025-01-10T17:50:01.217Z"
   },
   {
    "duration": 12,
    "start_time": "2025-01-10T17:50:08.456Z"
   },
   {
    "duration": 5,
    "start_time": "2025-01-10T17:53:32.740Z"
   },
   {
    "duration": 390,
    "start_time": "2025-01-10T17:57:07.964Z"
   },
   {
    "duration": 6,
    "start_time": "2025-01-10T18:03:26.583Z"
   },
   {
    "duration": 17,
    "start_time": "2025-01-10T18:03:42.424Z"
   },
   {
    "duration": 44,
    "start_time": "2025-01-10T18:03:55.550Z"
   },
   {
    "duration": 45,
    "start_time": "2025-01-10T18:04:30.345Z"
   },
   {
    "duration": 6,
    "start_time": "2025-01-10T18:09:41.673Z"
   },
   {
    "duration": 6,
    "start_time": "2025-01-10T18:09:59.848Z"
   },
   {
    "duration": 44,
    "start_time": "2025-01-10T18:10:30.033Z"
   },
   {
    "duration": 16,
    "start_time": "2025-01-10T18:14:12.472Z"
   },
   {
    "duration": 7,
    "start_time": "2025-01-10T18:16:56.510Z"
   },
   {
    "duration": 7,
    "start_time": "2025-01-10T18:17:04.955Z"
   },
   {
    "duration": 6,
    "start_time": "2025-01-10T18:17:32.704Z"
   },
   {
    "duration": 22,
    "start_time": "2025-01-10T18:17:49.558Z"
   },
   {
    "duration": 6,
    "start_time": "2025-01-10T18:25:21.278Z"
   },
   {
    "duration": 6,
    "start_time": "2025-01-10T18:28:23.319Z"
   },
   {
    "duration": 201,
    "start_time": "2025-01-10T18:33:26.146Z"
   },
   {
    "duration": 8,
    "start_time": "2025-01-10T18:33:46.704Z"
   },
   {
    "duration": 220,
    "start_time": "2025-01-10T18:34:05.170Z"
   },
   {
    "duration": 16,
    "start_time": "2025-01-10T18:34:53.818Z"
   },
   {
    "duration": 16,
    "start_time": "2025-01-10T18:35:55.511Z"
   },
   {
    "duration": 18,
    "start_time": "2025-01-10T18:36:24.859Z"
   },
   {
    "duration": 6,
    "start_time": "2025-01-10T18:42:46.409Z"
   },
   {
    "duration": 13,
    "start_time": "2025-01-10T18:50:39.881Z"
   },
   {
    "duration": 15,
    "start_time": "2025-01-10T18:50:53.631Z"
   },
   {
    "duration": 17,
    "start_time": "2025-01-10T18:51:01.792Z"
   },
   {
    "duration": 12,
    "start_time": "2025-01-10T18:53:11.522Z"
   },
   {
    "duration": 6,
    "start_time": "2025-01-10T18:58:57.878Z"
   },
   {
    "duration": 7,
    "start_time": "2025-01-10T18:59:39.579Z"
   },
   {
    "duration": 7,
    "start_time": "2025-01-10T19:00:38.182Z"
   },
   {
    "duration": 7,
    "start_time": "2025-01-10T19:08:19.324Z"
   },
   {
    "duration": 11,
    "start_time": "2025-01-10T19:09:17.664Z"
   },
   {
    "duration": 16,
    "start_time": "2025-01-10T19:09:56.180Z"
   },
   {
    "duration": 52,
    "start_time": "2025-01-10T19:12:56.704Z"
   },
   {
    "duration": 51,
    "start_time": "2025-01-10T19:13:03.429Z"
   },
   {
    "duration": 2,
    "start_time": "2025-01-10T19:13:06.720Z"
   },
   {
    "duration": 861,
    "start_time": "2025-01-10T19:13:16.041Z"
   },
   {
    "duration": 24,
    "start_time": "2025-01-10T19:13:16.905Z"
   },
   {
    "duration": 16,
    "start_time": "2025-01-10T19:13:16.930Z"
   },
   {
    "duration": 4,
    "start_time": "2025-01-10T19:13:16.949Z"
   },
   {
    "duration": 3,
    "start_time": "2025-01-10T19:13:16.954Z"
   },
   {
    "duration": 4,
    "start_time": "2025-01-10T19:13:16.959Z"
   },
   {
    "duration": 4,
    "start_time": "2025-01-10T19:13:16.965Z"
   },
   {
    "duration": 253,
    "start_time": "2025-01-10T19:13:16.971Z"
   },
   {
    "duration": 17,
    "start_time": "2025-01-10T19:13:17.225Z"
   },
   {
    "duration": 2,
    "start_time": "2025-01-10T19:13:17.245Z"
   },
   {
    "duration": 3,
    "start_time": "2025-01-10T19:13:17.249Z"
   },
   {
    "duration": 3,
    "start_time": "2025-01-10T19:13:17.253Z"
   },
   {
    "duration": 3,
    "start_time": "2025-01-10T19:13:17.257Z"
   },
   {
    "duration": 3,
    "start_time": "2025-01-10T19:13:17.262Z"
   },
   {
    "duration": 4,
    "start_time": "2025-01-10T19:13:17.266Z"
   },
   {
    "duration": 2,
    "start_time": "2025-01-10T19:13:17.272Z"
   },
   {
    "duration": 3,
    "start_time": "2025-01-10T19:13:17.276Z"
   },
   {
    "duration": 44,
    "start_time": "2025-01-10T19:13:17.280Z"
   },
   {
    "duration": 2,
    "start_time": "2025-01-10T19:13:17.326Z"
   },
   {
    "duration": 3,
    "start_time": "2025-01-10T19:13:17.329Z"
   },
   {
    "duration": 3,
    "start_time": "2025-01-10T19:13:17.334Z"
   },
   {
    "duration": 689,
    "start_time": "2025-01-10T19:15:20.596Z"
   },
   {
    "duration": 44,
    "start_time": "2025-01-10T19:15:44.687Z"
   },
   {
    "duration": 166,
    "start_time": "2025-01-10T19:16:26.995Z"
   },
   {
    "duration": 4,
    "start_time": "2025-01-10T19:17:04.426Z"
   },
   {
    "duration": 21,
    "start_time": "2025-01-10T19:17:04.431Z"
   },
   {
    "duration": 14,
    "start_time": "2025-01-10T19:17:04.454Z"
   },
   {
    "duration": 4,
    "start_time": "2025-01-10T19:17:04.469Z"
   },
   {
    "duration": 2,
    "start_time": "2025-01-10T19:17:04.475Z"
   },
   {
    "duration": 7,
    "start_time": "2025-01-10T19:17:25.391Z"
   },
   {
    "duration": 224,
    "start_time": "2025-01-10T19:18:58.533Z"
   },
   {
    "duration": 21,
    "start_time": "2025-01-10T19:19:14.779Z"
   },
   {
    "duration": 9,
    "start_time": "2025-01-10T19:19:25.825Z"
   },
   {
    "duration": 10,
    "start_time": "2025-01-10T19:19:49.818Z"
   },
   {
    "duration": 7,
    "start_time": "2025-01-10T19:20:09.955Z"
   },
   {
    "duration": 5,
    "start_time": "2025-01-10T19:38:08.935Z"
   },
   {
    "duration": 21,
    "start_time": "2025-01-10T19:46:41.820Z"
   },
   {
    "duration": 17,
    "start_time": "2025-01-10T19:47:12.515Z"
   },
   {
    "duration": 6,
    "start_time": "2025-01-10T19:53:17.858Z"
   },
   {
    "duration": 11,
    "start_time": "2025-01-10T19:53:23.677Z"
   },
   {
    "duration": 16,
    "start_time": "2025-01-10T19:53:33.668Z"
   },
   {
    "duration": 159,
    "start_time": "2025-01-10T19:56:36.351Z"
   },
   {
    "duration": 881,
    "start_time": "2025-01-10T19:58:13.018Z"
   },
   {
    "duration": 24,
    "start_time": "2025-01-10T19:58:15.834Z"
   },
   {
    "duration": 16,
    "start_time": "2025-01-10T19:58:17.744Z"
   },
   {
    "duration": 4,
    "start_time": "2025-01-10T19:58:19.134Z"
   },
   {
    "duration": 2,
    "start_time": "2025-01-10T19:58:21.066Z"
   },
   {
    "duration": 6,
    "start_time": "2025-01-10T19:58:22.882Z"
   },
   {
    "duration": 5,
    "start_time": "2025-01-10T19:58:26.684Z"
   },
   {
    "duration": 221,
    "start_time": "2025-01-10T19:58:27.934Z"
   },
   {
    "duration": 17,
    "start_time": "2025-01-10T19:58:29.533Z"
   },
   {
    "duration": 2,
    "start_time": "2025-01-10T19:58:30.904Z"
   },
   {
    "duration": 237,
    "start_time": "2025-01-10T19:58:47.385Z"
   },
   {
    "duration": 805,
    "start_time": "2025-01-10T19:59:15.871Z"
   },
   {
    "duration": 23,
    "start_time": "2025-01-10T19:59:17.543Z"
   },
   {
    "duration": 16,
    "start_time": "2025-01-10T19:59:19.314Z"
   },
   {
    "duration": 4,
    "start_time": "2025-01-10T19:59:20.079Z"
   },
   {
    "duration": 2,
    "start_time": "2025-01-10T19:59:20.992Z"
   },
   {
    "duration": 4,
    "start_time": "2025-01-10T19:59:21.767Z"
   },
   {
    "duration": 5,
    "start_time": "2025-01-10T19:59:23.737Z"
   },
   {
    "duration": 216,
    "start_time": "2025-01-10T19:59:24.802Z"
   },
   {
    "duration": 219,
    "start_time": "2025-01-10T20:06:15.423Z"
   },
   {
    "duration": 260,
    "start_time": "2025-01-10T20:06:44.506Z"
   },
   {
    "duration": 229,
    "start_time": "2025-01-10T20:08:47.813Z"
   },
   {
    "duration": 222,
    "start_time": "2025-01-10T20:08:54.959Z"
   },
   {
    "duration": 214,
    "start_time": "2025-01-10T20:09:04.384Z"
   },
   {
    "duration": 501,
    "start_time": "2025-01-10T20:13:31.546Z"
   },
   {
    "duration": 515,
    "start_time": "2025-01-10T20:13:42.070Z"
   },
   {
    "duration": 305,
    "start_time": "2025-01-10T20:14:46.786Z"
   },
   {
    "duration": 216,
    "start_time": "2025-01-10T20:14:55.544Z"
   },
   {
    "duration": 6,
    "start_time": "2025-01-10T20:22:17.702Z"
   },
   {
    "duration": 225,
    "start_time": "2025-01-10T20:22:26.776Z"
   },
   {
    "duration": 235,
    "start_time": "2025-01-10T20:23:38.060Z"
   },
   {
    "duration": 469,
    "start_time": "2025-01-10T20:23:44.227Z"
   },
   {
    "duration": 226,
    "start_time": "2025-01-10T20:31:02.097Z"
   },
   {
    "duration": 331,
    "start_time": "2025-01-10T20:31:08.826Z"
   },
   {
    "duration": 4,
    "start_time": "2025-01-10T20:39:31.732Z"
   },
   {
    "duration": 283,
    "start_time": "2025-01-10T20:39:33.985Z"
   },
   {
    "duration": 305,
    "start_time": "2025-01-10T20:44:52.762Z"
   },
   {
    "duration": 305,
    "start_time": "2025-01-10T20:55:51.760Z"
   },
   {
    "duration": 109,
    "start_time": "2025-01-10T20:57:40.126Z"
   },
   {
    "duration": 114,
    "start_time": "2025-01-10T20:59:00.278Z"
   },
   {
    "duration": 208,
    "start_time": "2025-01-10T21:03:09.055Z"
   },
   {
    "duration": 801,
    "start_time": "2025-01-10T21:10:03.207Z"
   },
   {
    "duration": 25,
    "start_time": "2025-01-10T21:10:04.010Z"
   },
   {
    "duration": 15,
    "start_time": "2025-01-10T21:10:04.037Z"
   },
   {
    "duration": 3,
    "start_time": "2025-01-10T21:10:04.054Z"
   },
   {
    "duration": 3,
    "start_time": "2025-01-10T21:10:04.059Z"
   },
   {
    "duration": 4,
    "start_time": "2025-01-10T21:10:04.063Z"
   },
   {
    "duration": 218,
    "start_time": "2025-01-10T21:10:04.069Z"
   },
   {
    "duration": 268,
    "start_time": "2025-01-10T21:10:04.288Z"
   },
   {
    "duration": 5,
    "start_time": "2025-01-10T21:10:04.558Z"
   },
   {
    "duration": 336,
    "start_time": "2025-01-10T21:10:04.566Z"
   },
   {
    "duration": 2,
    "start_time": "2025-01-10T21:10:04.904Z"
   },
   {
    "duration": 4,
    "start_time": "2025-01-10T21:10:04.908Z"
   },
   {
    "duration": 12,
    "start_time": "2025-01-10T21:10:04.913Z"
   },
   {
    "duration": 4,
    "start_time": "2025-01-10T21:10:04.927Z"
   },
   {
    "duration": 3,
    "start_time": "2025-01-10T21:10:04.932Z"
   },
   {
    "duration": 3,
    "start_time": "2025-01-10T21:10:04.936Z"
   },
   {
    "duration": 3,
    "start_time": "2025-01-10T21:10:04.940Z"
   },
   {
    "duration": 2,
    "start_time": "2025-01-10T21:10:04.945Z"
   },
   {
    "duration": 2,
    "start_time": "2025-01-10T21:10:04.949Z"
   },
   {
    "duration": 2,
    "start_time": "2025-01-10T21:10:04.953Z"
   },
   {
    "duration": 2,
    "start_time": "2025-01-10T21:10:04.957Z"
   },
   {
    "duration": 3,
    "start_time": "2025-01-10T21:10:04.961Z"
   },
   {
    "duration": 667,
    "start_time": "2025-01-10T21:12:17.020Z"
   },
   {
    "duration": 879,
    "start_time": "2025-01-10T21:15:04.740Z"
   },
   {
    "duration": 25,
    "start_time": "2025-01-10T21:15:05.621Z"
   },
   {
    "duration": 16,
    "start_time": "2025-01-10T21:15:05.648Z"
   },
   {
    "duration": 4,
    "start_time": "2025-01-10T21:15:05.666Z"
   },
   {
    "duration": 3,
    "start_time": "2025-01-10T21:15:05.672Z"
   },
   {
    "duration": 5,
    "start_time": "2025-01-10T21:15:05.676Z"
   },
   {
    "duration": 214,
    "start_time": "2025-01-10T21:15:05.682Z"
   },
   {
    "duration": 299,
    "start_time": "2025-01-10T21:15:05.898Z"
   },
   {
    "duration": 4,
    "start_time": "2025-01-10T21:15:06.199Z"
   },
   {
    "duration": 0,
    "start_time": "2025-01-10T21:15:06.205Z"
   },
   {
    "duration": 0,
    "start_time": "2025-01-10T21:15:06.206Z"
   },
   {
    "duration": 0,
    "start_time": "2025-01-10T21:15:06.207Z"
   },
   {
    "duration": 0,
    "start_time": "2025-01-10T21:15:06.208Z"
   },
   {
    "duration": 0,
    "start_time": "2025-01-10T21:15:06.225Z"
   },
   {
    "duration": 0,
    "start_time": "2025-01-10T21:15:06.226Z"
   },
   {
    "duration": 0,
    "start_time": "2025-01-10T21:15:06.228Z"
   },
   {
    "duration": 0,
    "start_time": "2025-01-10T21:15:06.229Z"
   },
   {
    "duration": 0,
    "start_time": "2025-01-10T21:15:06.230Z"
   },
   {
    "duration": 0,
    "start_time": "2025-01-10T21:15:06.231Z"
   },
   {
    "duration": 0,
    "start_time": "2025-01-10T21:15:06.233Z"
   },
   {
    "duration": 0,
    "start_time": "2025-01-10T21:15:06.234Z"
   },
   {
    "duration": 0,
    "start_time": "2025-01-10T21:15:06.236Z"
   },
   {
    "duration": 626,
    "start_time": "2025-01-10T21:17:03.777Z"
   },
   {
    "duration": 42,
    "start_time": "2025-01-10T21:17:22.422Z"
   },
   {
    "duration": 799,
    "start_time": "2025-01-10T21:17:41.121Z"
   },
   {
    "duration": 31,
    "start_time": "2025-01-10T21:17:41.925Z"
   },
   {
    "duration": 18,
    "start_time": "2025-01-10T21:17:41.958Z"
   },
   {
    "duration": 4,
    "start_time": "2025-01-10T21:17:41.977Z"
   },
   {
    "duration": 2,
    "start_time": "2025-01-10T21:17:41.985Z"
   },
   {
    "duration": 4,
    "start_time": "2025-01-10T21:17:41.989Z"
   },
   {
    "duration": 277,
    "start_time": "2025-01-10T21:17:41.995Z"
   },
   {
    "duration": 277,
    "start_time": "2025-01-10T21:17:42.275Z"
   },
   {
    "duration": 653,
    "start_time": "2025-01-10T21:17:42.555Z"
   },
   {
    "duration": 0,
    "start_time": "2025-01-10T21:17:43.210Z"
   },
   {
    "duration": 0,
    "start_time": "2025-01-10T21:17:43.213Z"
   },
   {
    "duration": 0,
    "start_time": "2025-01-10T21:17:43.218Z"
   },
   {
    "duration": 0,
    "start_time": "2025-01-10T21:17:43.224Z"
   },
   {
    "duration": 0,
    "start_time": "2025-01-10T21:17:43.226Z"
   },
   {
    "duration": 0,
    "start_time": "2025-01-10T21:17:43.227Z"
   },
   {
    "duration": 0,
    "start_time": "2025-01-10T21:17:43.229Z"
   },
   {
    "duration": 0,
    "start_time": "2025-01-10T21:17:43.230Z"
   },
   {
    "duration": 0,
    "start_time": "2025-01-10T21:17:43.232Z"
   },
   {
    "duration": 0,
    "start_time": "2025-01-10T21:17:43.234Z"
   },
   {
    "duration": 0,
    "start_time": "2025-01-10T21:17:43.235Z"
   },
   {
    "duration": 0,
    "start_time": "2025-01-10T21:17:43.237Z"
   },
   {
    "duration": 0,
    "start_time": "2025-01-10T21:17:43.239Z"
   },
   {
    "duration": 15,
    "start_time": "2025-01-10T21:19:21.255Z"
   },
   {
    "duration": 4,
    "start_time": "2025-01-10T21:21:40.880Z"
   },
   {
    "duration": 5,
    "start_time": "2025-01-10T21:22:06.748Z"
   },
   {
    "duration": 4,
    "start_time": "2025-01-10T21:22:33.250Z"
   },
   {
    "duration": 5,
    "start_time": "2025-01-10T21:22:42.979Z"
   },
   {
    "duration": 207,
    "start_time": "2025-01-10T21:23:04.518Z"
   },
   {
    "duration": 551,
    "start_time": "2025-01-10T21:32:24.900Z"
   },
   {
    "duration": 16,
    "start_time": "2025-01-10T21:38:04.344Z"
   },
   {
    "duration": 206,
    "start_time": "2025-01-10T21:40:15.027Z"
   },
   {
    "duration": 9,
    "start_time": "2025-01-10T21:42:36.672Z"
   },
   {
    "duration": 8,
    "start_time": "2025-01-10T21:44:39.146Z"
   },
   {
    "duration": 282,
    "start_time": "2025-01-10T21:45:43.907Z"
   },
   {
    "duration": 172,
    "start_time": "2025-01-10T21:51:04.989Z"
   },
   {
    "duration": 4,
    "start_time": "2025-01-10T21:52:05.588Z"
   },
   {
    "duration": 314,
    "start_time": "2025-01-10T21:55:45.854Z"
   },
   {
    "duration": 788,
    "start_time": "2025-01-10T21:55:53.525Z"
   },
   {
    "duration": 30,
    "start_time": "2025-01-10T21:55:54.315Z"
   },
   {
    "duration": 16,
    "start_time": "2025-01-10T21:55:54.346Z"
   },
   {
    "duration": 4,
    "start_time": "2025-01-10T21:55:54.364Z"
   },
   {
    "duration": 3,
    "start_time": "2025-01-10T21:55:54.369Z"
   },
   {
    "duration": 4,
    "start_time": "2025-01-10T21:55:54.374Z"
   },
   {
    "duration": 220,
    "start_time": "2025-01-10T21:55:54.379Z"
   },
   {
    "duration": 261,
    "start_time": "2025-01-10T21:55:54.600Z"
   },
   {
    "duration": 9,
    "start_time": "2025-01-10T21:55:54.863Z"
   },
   {
    "duration": 304,
    "start_time": "2025-01-10T21:55:54.876Z"
   },
   {
    "duration": 3,
    "start_time": "2025-01-10T21:55:55.181Z"
   },
   {
    "duration": 3,
    "start_time": "2025-01-10T21:55:55.185Z"
   },
   {
    "duration": 3,
    "start_time": "2025-01-10T21:55:55.189Z"
   },
   {
    "duration": 3,
    "start_time": "2025-01-10T21:55:55.193Z"
   },
   {
    "duration": 26,
    "start_time": "2025-01-10T21:55:55.198Z"
   },
   {
    "duration": 2,
    "start_time": "2025-01-10T21:55:55.226Z"
   },
   {
    "duration": 3,
    "start_time": "2025-01-10T21:55:55.230Z"
   },
   {
    "duration": 2,
    "start_time": "2025-01-10T21:55:55.235Z"
   },
   {
    "duration": 3,
    "start_time": "2025-01-10T21:55:55.239Z"
   },
   {
    "duration": 3,
    "start_time": "2025-01-10T21:55:55.243Z"
   },
   {
    "duration": 2,
    "start_time": "2025-01-10T21:55:55.249Z"
   },
   {
    "duration": 4,
    "start_time": "2025-01-10T21:55:55.252Z"
   },
   {
    "duration": 199,
    "start_time": "2025-01-10T21:56:17.045Z"
   },
   {
    "duration": 221,
    "start_time": "2025-01-10T22:03:23.596Z"
   },
   {
    "duration": 18,
    "start_time": "2025-01-10T22:03:39.745Z"
   },
   {
    "duration": 17,
    "start_time": "2025-01-10T22:03:58.485Z"
   },
   {
    "duration": 18,
    "start_time": "2025-01-10T22:10:14.816Z"
   },
   {
    "duration": 795,
    "start_time": "2025-01-10T22:11:04.521Z"
   },
   {
    "duration": 27,
    "start_time": "2025-01-10T22:11:05.318Z"
   },
   {
    "duration": 15,
    "start_time": "2025-01-10T22:11:05.347Z"
   },
   {
    "duration": 4,
    "start_time": "2025-01-10T22:11:05.364Z"
   },
   {
    "duration": 2,
    "start_time": "2025-01-10T22:11:05.370Z"
   },
   {
    "duration": 4,
    "start_time": "2025-01-10T22:11:05.374Z"
   },
   {
    "duration": 209,
    "start_time": "2025-01-10T22:11:05.379Z"
   },
   {
    "duration": 255,
    "start_time": "2025-01-10T22:11:05.591Z"
   },
   {
    "duration": 142,
    "start_time": "2025-01-10T22:11:05.849Z"
   },
   {
    "duration": 0,
    "start_time": "2025-01-10T22:11:05.993Z"
   },
   {
    "duration": 0,
    "start_time": "2025-01-10T22:11:05.994Z"
   },
   {
    "duration": 0,
    "start_time": "2025-01-10T22:11:05.995Z"
   },
   {
    "duration": 0,
    "start_time": "2025-01-10T22:11:05.996Z"
   },
   {
    "duration": 0,
    "start_time": "2025-01-10T22:11:05.998Z"
   },
   {
    "duration": 0,
    "start_time": "2025-01-10T22:11:05.999Z"
   },
   {
    "duration": 0,
    "start_time": "2025-01-10T22:11:06.001Z"
   },
   {
    "duration": 0,
    "start_time": "2025-01-10T22:11:06.002Z"
   },
   {
    "duration": 0,
    "start_time": "2025-01-10T22:11:06.003Z"
   },
   {
    "duration": 0,
    "start_time": "2025-01-10T22:11:06.005Z"
   },
   {
    "duration": 0,
    "start_time": "2025-01-10T22:11:06.006Z"
   },
   {
    "duration": 0,
    "start_time": "2025-01-10T22:11:06.023Z"
   },
   {
    "duration": 0,
    "start_time": "2025-01-10T22:11:06.024Z"
   },
   {
    "duration": 14,
    "start_time": "2025-01-10T22:11:56.535Z"
   },
   {
    "duration": 857,
    "start_time": "2025-01-10T22:18:21.468Z"
   },
   {
    "duration": 24,
    "start_time": "2025-01-10T22:18:22.328Z"
   },
   {
    "duration": 17,
    "start_time": "2025-01-10T22:18:22.353Z"
   },
   {
    "duration": 4,
    "start_time": "2025-01-10T22:18:22.371Z"
   },
   {
    "duration": 2,
    "start_time": "2025-01-10T22:18:22.378Z"
   },
   {
    "duration": 5,
    "start_time": "2025-01-10T22:18:22.381Z"
   },
   {
    "duration": 210,
    "start_time": "2025-01-10T22:18:22.388Z"
   },
   {
    "duration": 274,
    "start_time": "2025-01-10T22:18:22.599Z"
   },
   {
    "duration": 134,
    "start_time": "2025-01-10T22:18:22.875Z"
   },
   {
    "duration": 0,
    "start_time": "2025-01-10T22:18:23.011Z"
   },
   {
    "duration": 0,
    "start_time": "2025-01-10T22:18:23.012Z"
   },
   {
    "duration": 0,
    "start_time": "2025-01-10T22:18:23.014Z"
   },
   {
    "duration": 0,
    "start_time": "2025-01-10T22:18:23.015Z"
   },
   {
    "duration": 0,
    "start_time": "2025-01-10T22:18:23.024Z"
   },
   {
    "duration": 0,
    "start_time": "2025-01-10T22:18:23.025Z"
   },
   {
    "duration": 0,
    "start_time": "2025-01-10T22:18:23.026Z"
   },
   {
    "duration": 1,
    "start_time": "2025-01-10T22:18:23.027Z"
   },
   {
    "duration": 0,
    "start_time": "2025-01-10T22:18:23.029Z"
   },
   {
    "duration": 0,
    "start_time": "2025-01-10T22:18:23.030Z"
   },
   {
    "duration": 0,
    "start_time": "2025-01-10T22:18:23.031Z"
   },
   {
    "duration": 0,
    "start_time": "2025-01-10T22:18:23.032Z"
   },
   {
    "duration": 0,
    "start_time": "2025-01-10T22:18:23.033Z"
   },
   {
    "duration": 11,
    "start_time": "2025-01-10T22:19:30.382Z"
   },
   {
    "duration": 11,
    "start_time": "2025-01-10T22:19:56.484Z"
   },
   {
    "duration": 10,
    "start_time": "2025-01-10T22:20:10.803Z"
   },
   {
    "duration": 10,
    "start_time": "2025-01-10T22:20:26.566Z"
   },
   {
    "duration": 9,
    "start_time": "2025-01-10T22:20:38.825Z"
   },
   {
    "duration": 4,
    "start_time": "2025-01-10T22:22:16.404Z"
   },
   {
    "duration": 5,
    "start_time": "2025-01-10T22:22:24.403Z"
   },
   {
    "duration": 110,
    "start_time": "2025-01-10T22:22:38.768Z"
   },
   {
    "duration": 17,
    "start_time": "2025-01-10T22:23:04.073Z"
   },
   {
    "duration": 19,
    "start_time": "2025-01-10T22:24:12.638Z"
   },
   {
    "duration": 17,
    "start_time": "2025-01-10T22:25:22.736Z"
   },
   {
    "duration": 11,
    "start_time": "2025-01-10T22:25:51.286Z"
   },
   {
    "duration": 18,
    "start_time": "2025-01-10T22:26:19.181Z"
   },
   {
    "duration": 17,
    "start_time": "2025-01-10T22:28:12.646Z"
   },
   {
    "duration": 19,
    "start_time": "2025-01-10T22:28:22.883Z"
   },
   {
    "duration": 10,
    "start_time": "2025-01-10T22:28:41.088Z"
   },
   {
    "duration": 17,
    "start_time": "2025-01-10T22:29:00.162Z"
   },
   {
    "duration": 9,
    "start_time": "2025-01-10T22:29:23.319Z"
   },
   {
    "duration": 17,
    "start_time": "2025-01-10T22:29:32.920Z"
   },
   {
    "duration": 24,
    "start_time": "2025-01-10T22:30:09.970Z"
   },
   {
    "duration": 23,
    "start_time": "2025-01-10T22:30:41.000Z"
   },
   {
    "duration": 23,
    "start_time": "2025-01-10T22:31:17.938Z"
   },
   {
    "duration": 24,
    "start_time": "2025-01-10T22:31:35.778Z"
   },
   {
    "duration": 25,
    "start_time": "2025-01-10T22:32:15.291Z"
   },
   {
    "duration": 25,
    "start_time": "2025-01-10T22:32:38.972Z"
   },
   {
    "duration": 297,
    "start_time": "2025-01-10T22:33:12.081Z"
   },
   {
    "duration": 22,
    "start_time": "2025-01-10T22:36:24.981Z"
   },
   {
    "duration": 796,
    "start_time": "2025-01-10T22:36:55.412Z"
   },
   {
    "duration": 30,
    "start_time": "2025-01-10T22:36:56.210Z"
   },
   {
    "duration": 16,
    "start_time": "2025-01-10T22:36:56.241Z"
   },
   {
    "duration": 4,
    "start_time": "2025-01-10T22:36:56.258Z"
   },
   {
    "duration": 2,
    "start_time": "2025-01-10T22:36:56.265Z"
   },
   {
    "duration": 4,
    "start_time": "2025-01-10T22:36:56.269Z"
   },
   {
    "duration": 213,
    "start_time": "2025-01-10T22:36:56.275Z"
   },
   {
    "duration": 254,
    "start_time": "2025-01-10T22:36:56.489Z"
   },
   {
    "duration": 238,
    "start_time": "2025-01-10T22:36:56.745Z"
   },
   {
    "duration": 0,
    "start_time": "2025-01-10T22:36:56.985Z"
   },
   {
    "duration": 0,
    "start_time": "2025-01-10T22:36:56.988Z"
   },
   {
    "duration": 0,
    "start_time": "2025-01-10T22:36:56.989Z"
   },
   {
    "duration": 0,
    "start_time": "2025-01-10T22:36:56.991Z"
   },
   {
    "duration": 0,
    "start_time": "2025-01-10T22:36:56.992Z"
   },
   {
    "duration": 0,
    "start_time": "2025-01-10T22:36:56.993Z"
   },
   {
    "duration": 0,
    "start_time": "2025-01-10T22:36:56.994Z"
   },
   {
    "duration": 0,
    "start_time": "2025-01-10T22:36:56.995Z"
   },
   {
    "duration": 0,
    "start_time": "2025-01-10T22:36:56.996Z"
   },
   {
    "duration": 0,
    "start_time": "2025-01-10T22:36:56.997Z"
   },
   {
    "duration": 0,
    "start_time": "2025-01-10T22:36:56.998Z"
   },
   {
    "duration": 0,
    "start_time": "2025-01-10T22:36:57.000Z"
   },
   {
    "duration": 0,
    "start_time": "2025-01-10T22:36:57.025Z"
   },
   {
    "duration": 324,
    "start_time": "2025-01-10T22:37:05.724Z"
   },
   {
    "duration": 5,
    "start_time": "2025-01-10T22:42:37.926Z"
   },
   {
    "duration": 21,
    "start_time": "2025-01-10T22:56:10.103Z"
   },
   {
    "duration": 152,
    "start_time": "2025-01-10T23:01:51.620Z"
   },
   {
    "duration": 627,
    "start_time": "2025-01-10T23:03:34.298Z"
   },
   {
    "duration": 110,
    "start_time": "2025-01-10T23:04:41.409Z"
   },
   {
    "duration": 118,
    "start_time": "2025-01-10T23:06:15.261Z"
   },
   {
    "duration": 24,
    "start_time": "2025-01-10T23:10:03.403Z"
   },
   {
    "duration": 3,
    "start_time": "2025-01-11T07:55:40.770Z"
   },
   {
    "duration": 7,
    "start_time": "2025-01-11T08:07:06.923Z"
   },
   {
    "duration": 157,
    "start_time": "2025-01-11T08:07:12.499Z"
   },
   {
    "duration": 2486,
    "start_time": "2025-01-11T08:07:25.885Z"
   },
   {
    "duration": 34,
    "start_time": "2025-01-11T08:07:28.374Z"
   },
   {
    "duration": 17,
    "start_time": "2025-01-11T08:07:28.410Z"
   },
   {
    "duration": 2,
    "start_time": "2025-01-11T08:07:28.429Z"
   },
   {
    "duration": 606,
    "start_time": "2025-01-11T08:07:28.433Z"
   },
   {
    "duration": 0,
    "start_time": "2025-01-11T08:07:29.041Z"
   },
   {
    "duration": 0,
    "start_time": "2025-01-11T08:07:29.042Z"
   },
   {
    "duration": 0,
    "start_time": "2025-01-11T08:07:29.043Z"
   },
   {
    "duration": 0,
    "start_time": "2025-01-11T08:07:29.044Z"
   },
   {
    "duration": 0,
    "start_time": "2025-01-11T08:07:29.046Z"
   },
   {
    "duration": 0,
    "start_time": "2025-01-11T08:07:29.047Z"
   },
   {
    "duration": 0,
    "start_time": "2025-01-11T08:07:29.048Z"
   },
   {
    "duration": 0,
    "start_time": "2025-01-11T08:07:29.049Z"
   },
   {
    "duration": 0,
    "start_time": "2025-01-11T08:07:29.050Z"
   },
   {
    "duration": 0,
    "start_time": "2025-01-11T08:07:29.051Z"
   },
   {
    "duration": 0,
    "start_time": "2025-01-11T08:07:29.052Z"
   },
   {
    "duration": 0,
    "start_time": "2025-01-11T08:07:29.053Z"
   },
   {
    "duration": 0,
    "start_time": "2025-01-11T08:07:29.054Z"
   },
   {
    "duration": 0,
    "start_time": "2025-01-11T08:07:29.055Z"
   },
   {
    "duration": 0,
    "start_time": "2025-01-11T08:07:29.056Z"
   },
   {
    "duration": 0,
    "start_time": "2025-01-11T08:07:29.058Z"
   },
   {
    "duration": 41,
    "start_time": "2025-01-11T08:08:40.270Z"
   },
   {
    "duration": 842,
    "start_time": "2025-01-11T08:08:49.746Z"
   },
   {
    "duration": 25,
    "start_time": "2025-01-11T08:08:50.590Z"
   },
   {
    "duration": 21,
    "start_time": "2025-01-11T08:08:50.617Z"
   },
   {
    "duration": 2,
    "start_time": "2025-01-11T08:08:50.640Z"
   },
   {
    "duration": 690,
    "start_time": "2025-01-11T08:08:50.643Z"
   },
   {
    "duration": 0,
    "start_time": "2025-01-11T08:08:51.335Z"
   },
   {
    "duration": 0,
    "start_time": "2025-01-11T08:08:51.336Z"
   },
   {
    "duration": 0,
    "start_time": "2025-01-11T08:08:51.338Z"
   },
   {
    "duration": 0,
    "start_time": "2025-01-11T08:08:51.339Z"
   },
   {
    "duration": 0,
    "start_time": "2025-01-11T08:08:51.339Z"
   },
   {
    "duration": 0,
    "start_time": "2025-01-11T08:08:51.341Z"
   },
   {
    "duration": 0,
    "start_time": "2025-01-11T08:08:51.342Z"
   },
   {
    "duration": 0,
    "start_time": "2025-01-11T08:08:51.342Z"
   },
   {
    "duration": 0,
    "start_time": "2025-01-11T08:08:51.344Z"
   },
   {
    "duration": 0,
    "start_time": "2025-01-11T08:08:51.345Z"
   },
   {
    "duration": 0,
    "start_time": "2025-01-11T08:08:51.346Z"
   },
   {
    "duration": 0,
    "start_time": "2025-01-11T08:08:51.347Z"
   },
   {
    "duration": 0,
    "start_time": "2025-01-11T08:08:51.347Z"
   },
   {
    "duration": 0,
    "start_time": "2025-01-11T08:08:51.349Z"
   },
   {
    "duration": 0,
    "start_time": "2025-01-11T08:08:51.349Z"
   },
   {
    "duration": 0,
    "start_time": "2025-01-11T08:08:51.351Z"
   },
   {
    "duration": 14,
    "start_time": "2025-01-11T08:09:23.797Z"
   },
   {
    "duration": 5,
    "start_time": "2025-01-11T08:10:51.187Z"
   },
   {
    "duration": 16,
    "start_time": "2025-01-11T08:11:11.707Z"
   },
   {
    "duration": 14,
    "start_time": "2025-01-11T08:11:21.456Z"
   },
   {
    "duration": 11,
    "start_time": "2025-01-11T08:11:51.540Z"
   },
   {
    "duration": 20,
    "start_time": "2025-01-11T08:13:23.988Z"
   },
   {
    "duration": 5,
    "start_time": "2025-01-11T08:14:57.667Z"
   },
   {
    "duration": 23,
    "start_time": "2025-01-11T08:15:23.905Z"
   },
   {
    "duration": 23,
    "start_time": "2025-01-11T08:16:30.207Z"
   },
   {
    "duration": 22,
    "start_time": "2025-01-11T08:17:04.737Z"
   },
   {
    "duration": 12,
    "start_time": "2025-01-11T08:19:09.627Z"
   },
   {
    "duration": 11,
    "start_time": "2025-01-11T08:23:15.237Z"
   },
   {
    "duration": 14,
    "start_time": "2025-01-11T08:23:33.108Z"
   },
   {
    "duration": 15,
    "start_time": "2025-01-11T08:28:37.516Z"
   },
   {
    "duration": 24,
    "start_time": "2025-01-11T08:33:47.929Z"
   },
   {
    "duration": 6,
    "start_time": "2025-01-11T08:33:55.538Z"
   },
   {
    "duration": 6,
    "start_time": "2025-01-11T08:34:43.848Z"
   },
   {
    "duration": 5,
    "start_time": "2025-01-11T08:34:51.578Z"
   },
   {
    "duration": 5,
    "start_time": "2025-01-11T08:35:53.818Z"
   },
   {
    "duration": 16,
    "start_time": "2025-01-11T08:36:59.899Z"
   },
   {
    "duration": 828,
    "start_time": "2025-01-11T08:37:09.493Z"
   },
   {
    "duration": 24,
    "start_time": "2025-01-11T08:37:10.323Z"
   },
   {
    "duration": 16,
    "start_time": "2025-01-11T08:37:10.349Z"
   },
   {
    "duration": 2,
    "start_time": "2025-01-11T08:37:10.367Z"
   },
   {
    "duration": 296,
    "start_time": "2025-01-11T08:37:10.372Z"
   },
   {
    "duration": 0,
    "start_time": "2025-01-11T08:37:10.670Z"
   },
   {
    "duration": 0,
    "start_time": "2025-01-11T08:37:10.672Z"
   },
   {
    "duration": 0,
    "start_time": "2025-01-11T08:37:10.673Z"
   },
   {
    "duration": 0,
    "start_time": "2025-01-11T08:37:10.674Z"
   },
   {
    "duration": 0,
    "start_time": "2025-01-11T08:37:10.676Z"
   },
   {
    "duration": 0,
    "start_time": "2025-01-11T08:37:10.678Z"
   },
   {
    "duration": 0,
    "start_time": "2025-01-11T08:37:10.679Z"
   },
   {
    "duration": 0,
    "start_time": "2025-01-11T08:37:10.681Z"
   },
   {
    "duration": 0,
    "start_time": "2025-01-11T08:37:10.682Z"
   },
   {
    "duration": 0,
    "start_time": "2025-01-11T08:37:10.684Z"
   },
   {
    "duration": 0,
    "start_time": "2025-01-11T08:37:10.685Z"
   },
   {
    "duration": 0,
    "start_time": "2025-01-11T08:37:10.687Z"
   },
   {
    "duration": 0,
    "start_time": "2025-01-11T08:37:10.688Z"
   },
   {
    "duration": 0,
    "start_time": "2025-01-11T08:37:10.689Z"
   },
   {
    "duration": 0,
    "start_time": "2025-01-11T08:37:10.690Z"
   },
   {
    "duration": 0,
    "start_time": "2025-01-11T08:37:10.691Z"
   },
   {
    "duration": 831,
    "start_time": "2025-01-11T08:37:37.690Z"
   },
   {
    "duration": 24,
    "start_time": "2025-01-11T08:37:38.523Z"
   },
   {
    "duration": 17,
    "start_time": "2025-01-11T08:37:38.548Z"
   },
   {
    "duration": 2,
    "start_time": "2025-01-11T08:37:38.567Z"
   },
   {
    "duration": 14,
    "start_time": "2025-01-11T08:37:38.571Z"
   },
   {
    "duration": 7,
    "start_time": "2025-01-11T08:37:38.586Z"
   },
   {
    "duration": 203,
    "start_time": "2025-01-11T08:37:38.594Z"
   },
   {
    "duration": 293,
    "start_time": "2025-01-11T08:37:38.799Z"
   },
   {
    "duration": 238,
    "start_time": "2025-01-11T08:37:39.094Z"
   },
   {
    "duration": 0,
    "start_time": "2025-01-11T08:37:39.334Z"
   },
   {
    "duration": 0,
    "start_time": "2025-01-11T08:37:39.335Z"
   },
   {
    "duration": 0,
    "start_time": "2025-01-11T08:37:39.336Z"
   },
   {
    "duration": 0,
    "start_time": "2025-01-11T08:37:39.337Z"
   },
   {
    "duration": 0,
    "start_time": "2025-01-11T08:37:39.338Z"
   },
   {
    "duration": 0,
    "start_time": "2025-01-11T08:37:39.339Z"
   },
   {
    "duration": 0,
    "start_time": "2025-01-11T08:37:39.340Z"
   },
   {
    "duration": 0,
    "start_time": "2025-01-11T08:37:39.342Z"
   },
   {
    "duration": 0,
    "start_time": "2025-01-11T08:37:39.342Z"
   },
   {
    "duration": 0,
    "start_time": "2025-01-11T08:37:39.343Z"
   },
   {
    "duration": 0,
    "start_time": "2025-01-11T08:37:39.344Z"
   },
   {
    "duration": 0,
    "start_time": "2025-01-11T08:37:39.346Z"
   },
   {
    "duration": 15,
    "start_time": "2025-01-11T08:38:28.971Z"
   },
   {
    "duration": 6,
    "start_time": "2025-01-11T08:39:23.800Z"
   },
   {
    "duration": 12,
    "start_time": "2025-01-11T08:45:55.606Z"
   },
   {
    "duration": 12,
    "start_time": "2025-01-11T08:46:25.087Z"
   },
   {
    "duration": 18,
    "start_time": "2025-01-11T08:47:21.715Z"
   },
   {
    "duration": 21,
    "start_time": "2025-01-11T08:50:13.847Z"
   },
   {
    "duration": 31,
    "start_time": "2025-01-11T08:55:37.550Z"
   },
   {
    "duration": 31,
    "start_time": "2025-01-11T08:56:19.706Z"
   },
   {
    "duration": 29,
    "start_time": "2025-01-11T09:05:39.691Z"
   },
   {
    "duration": 17,
    "start_time": "2025-01-11T09:07:29.480Z"
   },
   {
    "duration": 18,
    "start_time": "2025-01-11T09:31:14.718Z"
   },
   {
    "duration": 4,
    "start_time": "2025-01-11T09:31:46.889Z"
   },
   {
    "duration": 17,
    "start_time": "2025-01-11T09:32:23.060Z"
   },
   {
    "duration": 22,
    "start_time": "2025-01-11T09:33:13.848Z"
   },
   {
    "duration": 433,
    "start_time": "2025-01-11T09:40:20.205Z"
   },
   {
    "duration": 16,
    "start_time": "2025-01-11T09:40:36.865Z"
   },
   {
    "duration": 5,
    "start_time": "2025-01-11T09:42:50.441Z"
   },
   {
    "duration": 18,
    "start_time": "2025-01-11T09:43:00.625Z"
   },
   {
    "duration": 13,
    "start_time": "2025-01-11T09:43:33.841Z"
   },
   {
    "duration": 12,
    "start_time": "2025-01-11T09:43:53.040Z"
   },
   {
    "duration": 14,
    "start_time": "2025-01-11T09:45:18.927Z"
   },
   {
    "duration": 19,
    "start_time": "2025-01-11T09:54:16.205Z"
   },
   {
    "duration": 22,
    "start_time": "2025-01-11T09:54:42.283Z"
   },
   {
    "duration": 3,
    "start_time": "2025-01-11T09:57:31.369Z"
   },
   {
    "duration": 141,
    "start_time": "2025-01-11T10:05:07.534Z"
   },
   {
    "duration": 18,
    "start_time": "2025-01-11T10:05:24.970Z"
   },
   {
    "duration": 810,
    "start_time": "2025-01-11T10:05:46.098Z"
   },
   {
    "duration": 28,
    "start_time": "2025-01-11T10:05:46.910Z"
   },
   {
    "duration": 15,
    "start_time": "2025-01-11T10:05:46.940Z"
   },
   {
    "duration": 2,
    "start_time": "2025-01-11T10:05:46.958Z"
   },
   {
    "duration": 285,
    "start_time": "2025-01-11T10:05:46.961Z"
   },
   {
    "duration": 0,
    "start_time": "2025-01-11T10:05:47.248Z"
   },
   {
    "duration": 0,
    "start_time": "2025-01-11T10:05:47.249Z"
   },
   {
    "duration": 0,
    "start_time": "2025-01-11T10:05:47.250Z"
   },
   {
    "duration": 0,
    "start_time": "2025-01-11T10:05:47.251Z"
   },
   {
    "duration": 0,
    "start_time": "2025-01-11T10:05:47.252Z"
   },
   {
    "duration": 0,
    "start_time": "2025-01-11T10:05:47.253Z"
   },
   {
    "duration": 0,
    "start_time": "2025-01-11T10:05:47.254Z"
   },
   {
    "duration": 0,
    "start_time": "2025-01-11T10:05:47.255Z"
   },
   {
    "duration": 0,
    "start_time": "2025-01-11T10:05:47.256Z"
   },
   {
    "duration": 0,
    "start_time": "2025-01-11T10:05:47.257Z"
   },
   {
    "duration": 0,
    "start_time": "2025-01-11T10:05:47.258Z"
   },
   {
    "duration": 0,
    "start_time": "2025-01-11T10:05:47.259Z"
   },
   {
    "duration": 0,
    "start_time": "2025-01-11T10:05:47.260Z"
   },
   {
    "duration": 0,
    "start_time": "2025-01-11T10:05:47.261Z"
   },
   {
    "duration": 0,
    "start_time": "2025-01-11T10:05:47.262Z"
   },
   {
    "duration": 0,
    "start_time": "2025-01-11T10:05:47.263Z"
   },
   {
    "duration": 15,
    "start_time": "2025-01-11T10:06:55.981Z"
   },
   {
    "duration": 14,
    "start_time": "2025-01-11T10:10:20.461Z"
   },
   {
    "duration": 15,
    "start_time": "2025-01-11T10:10:36.666Z"
   },
   {
    "duration": 816,
    "start_time": "2025-01-11T10:10:40.794Z"
   },
   {
    "duration": 30,
    "start_time": "2025-01-11T10:10:41.612Z"
   },
   {
    "duration": 17,
    "start_time": "2025-01-11T10:10:41.644Z"
   },
   {
    "duration": 2,
    "start_time": "2025-01-11T10:10:41.664Z"
   },
   {
    "duration": 17,
    "start_time": "2025-01-11T10:10:41.669Z"
   },
   {
    "duration": 4,
    "start_time": "2025-01-11T10:10:41.688Z"
   },
   {
    "duration": 205,
    "start_time": "2025-01-11T10:10:41.693Z"
   },
   {
    "duration": 301,
    "start_time": "2025-01-11T10:10:41.900Z"
   },
   {
    "duration": 17,
    "start_time": "2025-01-11T10:10:42.203Z"
   },
   {
    "duration": 801,
    "start_time": "2025-01-11T10:10:42.231Z"
   },
   {
    "duration": 0,
    "start_time": "2025-01-11T10:10:43.035Z"
   },
   {
    "duration": 0,
    "start_time": "2025-01-11T10:10:43.036Z"
   },
   {
    "duration": 0,
    "start_time": "2025-01-11T10:10:43.038Z"
   },
   {
    "duration": 0,
    "start_time": "2025-01-11T10:10:43.039Z"
   },
   {
    "duration": 0,
    "start_time": "2025-01-11T10:10:43.040Z"
   },
   {
    "duration": 0,
    "start_time": "2025-01-11T10:10:43.041Z"
   },
   {
    "duration": 0,
    "start_time": "2025-01-11T10:10:43.042Z"
   },
   {
    "duration": 0,
    "start_time": "2025-01-11T10:10:43.043Z"
   },
   {
    "duration": 0,
    "start_time": "2025-01-11T10:10:43.044Z"
   },
   {
    "duration": 0,
    "start_time": "2025-01-11T10:10:43.045Z"
   },
   {
    "duration": 0,
    "start_time": "2025-01-11T10:10:43.046Z"
   },
   {
    "duration": 17,
    "start_time": "2025-01-11T10:12:21.876Z"
   },
   {
    "duration": 21,
    "start_time": "2025-01-11T10:14:47.807Z"
   },
   {
    "duration": 20,
    "start_time": "2025-01-11T10:15:02.220Z"
   },
   {
    "duration": 24,
    "start_time": "2025-01-11T10:20:17.385Z"
   },
   {
    "duration": 26,
    "start_time": "2025-01-11T10:23:26.878Z"
   },
   {
    "duration": 17,
    "start_time": "2025-01-11T10:28:14.421Z"
   },
   {
    "duration": 17,
    "start_time": "2025-01-11T10:30:34.304Z"
   },
   {
    "duration": 805,
    "start_time": "2025-01-11T10:30:55.901Z"
   },
   {
    "duration": 29,
    "start_time": "2025-01-11T10:30:56.708Z"
   },
   {
    "duration": 16,
    "start_time": "2025-01-11T10:30:56.739Z"
   },
   {
    "duration": 2,
    "start_time": "2025-01-11T10:30:56.757Z"
   },
   {
    "duration": 18,
    "start_time": "2025-01-11T10:30:56.761Z"
   },
   {
    "duration": 3,
    "start_time": "2025-01-11T10:30:56.780Z"
   },
   {
    "duration": 209,
    "start_time": "2025-01-11T10:30:56.785Z"
   },
   {
    "duration": 262,
    "start_time": "2025-01-11T10:30:56.996Z"
   },
   {
    "duration": 18,
    "start_time": "2025-01-11T10:30:57.260Z"
   },
   {
    "duration": 813,
    "start_time": "2025-01-11T10:30:57.282Z"
   },
   {
    "duration": 0,
    "start_time": "2025-01-11T10:30:58.097Z"
   },
   {
    "duration": 0,
    "start_time": "2025-01-11T10:30:58.098Z"
   },
   {
    "duration": 0,
    "start_time": "2025-01-11T10:30:58.099Z"
   },
   {
    "duration": 0,
    "start_time": "2025-01-11T10:30:58.100Z"
   },
   {
    "duration": 0,
    "start_time": "2025-01-11T10:30:58.101Z"
   },
   {
    "duration": 0,
    "start_time": "2025-01-11T10:30:58.103Z"
   },
   {
    "duration": 0,
    "start_time": "2025-01-11T10:30:58.104Z"
   },
   {
    "duration": 0,
    "start_time": "2025-01-11T10:30:58.105Z"
   },
   {
    "duration": 0,
    "start_time": "2025-01-11T10:30:58.106Z"
   },
   {
    "duration": 0,
    "start_time": "2025-01-11T10:30:58.107Z"
   },
   {
    "duration": 0,
    "start_time": "2025-01-11T10:30:58.131Z"
   },
   {
    "duration": 196,
    "start_time": "2025-01-11T10:33:03.152Z"
   },
   {
    "duration": 199,
    "start_time": "2025-01-11T10:33:45.236Z"
   },
   {
    "duration": 398,
    "start_time": "2025-01-11T10:37:31.649Z"
   },
   {
    "duration": 5,
    "start_time": "2025-01-11T10:37:41.441Z"
   },
   {
    "duration": 209,
    "start_time": "2025-01-11T10:39:35.322Z"
   },
   {
    "duration": 212,
    "start_time": "2025-01-11T10:39:50.873Z"
   },
   {
    "duration": 23,
    "start_time": "2025-01-11T10:41:25.717Z"
   },
   {
    "duration": 25,
    "start_time": "2025-01-11T10:42:46.244Z"
   },
   {
    "duration": 206,
    "start_time": "2025-01-11T10:44:47.281Z"
   },
   {
    "duration": 130,
    "start_time": "2025-01-11T10:47:50.528Z"
   },
   {
    "duration": 3,
    "start_time": "2025-01-11T10:52:19.957Z"
   },
   {
    "duration": 7,
    "start_time": "2025-01-11T10:53:39.086Z"
   },
   {
    "duration": 853,
    "start_time": "2025-01-11T10:54:02.968Z"
   },
   {
    "duration": 25,
    "start_time": "2025-01-11T10:54:03.823Z"
   },
   {
    "duration": 16,
    "start_time": "2025-01-11T10:54:03.850Z"
   },
   {
    "duration": 2,
    "start_time": "2025-01-11T10:54:03.868Z"
   },
   {
    "duration": 19,
    "start_time": "2025-01-11T10:54:03.873Z"
   },
   {
    "duration": 5,
    "start_time": "2025-01-11T10:54:03.894Z"
   },
   {
    "duration": 237,
    "start_time": "2025-01-11T10:54:03.901Z"
   },
   {
    "duration": 282,
    "start_time": "2025-01-11T10:54:04.140Z"
   },
   {
    "duration": 240,
    "start_time": "2025-01-11T10:54:04.424Z"
   },
   {
    "duration": 0,
    "start_time": "2025-01-11T10:54:04.666Z"
   },
   {
    "duration": 0,
    "start_time": "2025-01-11T10:54:04.668Z"
   },
   {
    "duration": 0,
    "start_time": "2025-01-11T10:54:04.669Z"
   },
   {
    "duration": 0,
    "start_time": "2025-01-11T10:54:04.671Z"
   },
   {
    "duration": 0,
    "start_time": "2025-01-11T10:54:04.672Z"
   },
   {
    "duration": 0,
    "start_time": "2025-01-11T10:54:04.673Z"
   },
   {
    "duration": 0,
    "start_time": "2025-01-11T10:54:04.675Z"
   },
   {
    "duration": 0,
    "start_time": "2025-01-11T10:54:04.676Z"
   },
   {
    "duration": 0,
    "start_time": "2025-01-11T10:54:04.677Z"
   },
   {
    "duration": 0,
    "start_time": "2025-01-11T10:54:04.679Z"
   },
   {
    "duration": 0,
    "start_time": "2025-01-11T10:54:04.680Z"
   },
   {
    "duration": 0,
    "start_time": "2025-01-11T10:54:04.682Z"
   },
   {
    "duration": 0,
    "start_time": "2025-01-11T10:54:04.684Z"
   },
   {
    "duration": 8,
    "start_time": "2025-01-11T10:54:10.167Z"
   },
   {
    "duration": 810,
    "start_time": "2025-01-11T10:55:26.291Z"
   },
   {
    "duration": 28,
    "start_time": "2025-01-11T10:55:27.104Z"
   },
   {
    "duration": 17,
    "start_time": "2025-01-11T10:55:27.134Z"
   },
   {
    "duration": 2,
    "start_time": "2025-01-11T10:55:27.153Z"
   },
   {
    "duration": 17,
    "start_time": "2025-01-11T10:55:27.157Z"
   },
   {
    "duration": 4,
    "start_time": "2025-01-11T10:55:27.176Z"
   },
   {
    "duration": 218,
    "start_time": "2025-01-11T10:55:27.182Z"
   },
   {
    "duration": 287,
    "start_time": "2025-01-11T10:55:27.402Z"
   },
   {
    "duration": 254,
    "start_time": "2025-01-11T10:55:27.691Z"
   },
   {
    "duration": 0,
    "start_time": "2025-01-11T10:55:27.947Z"
   },
   {
    "duration": 0,
    "start_time": "2025-01-11T10:55:27.949Z"
   },
   {
    "duration": 0,
    "start_time": "2025-01-11T10:55:27.950Z"
   },
   {
    "duration": 0,
    "start_time": "2025-01-11T10:55:27.951Z"
   },
   {
    "duration": 0,
    "start_time": "2025-01-11T10:55:27.952Z"
   },
   {
    "duration": 0,
    "start_time": "2025-01-11T10:55:27.954Z"
   },
   {
    "duration": 0,
    "start_time": "2025-01-11T10:55:27.955Z"
   },
   {
    "duration": 0,
    "start_time": "2025-01-11T10:55:27.956Z"
   },
   {
    "duration": 0,
    "start_time": "2025-01-11T10:55:27.957Z"
   },
   {
    "duration": 0,
    "start_time": "2025-01-11T10:55:27.959Z"
   },
   {
    "duration": 0,
    "start_time": "2025-01-11T10:55:27.960Z"
   },
   {
    "duration": 0,
    "start_time": "2025-01-11T10:55:27.962Z"
   },
   {
    "duration": 0,
    "start_time": "2025-01-11T10:55:27.963Z"
   },
   {
    "duration": 9,
    "start_time": "2025-01-11T10:55:32.967Z"
   },
   {
    "duration": 26,
    "start_time": "2025-01-11T10:59:55.559Z"
   },
   {
    "duration": 8,
    "start_time": "2025-01-11T11:00:14.475Z"
   },
   {
    "duration": 23,
    "start_time": "2025-01-11T11:02:24.793Z"
   },
   {
    "duration": 8,
    "start_time": "2025-01-11T11:02:28.530Z"
   },
   {
    "duration": 869,
    "start_time": "2025-01-11T11:11:31.154Z"
   },
   {
    "duration": 28,
    "start_time": "2025-01-11T11:11:32.025Z"
   },
   {
    "duration": 16,
    "start_time": "2025-01-11T11:11:32.055Z"
   },
   {
    "duration": 2,
    "start_time": "2025-01-11T11:11:32.073Z"
   },
   {
    "duration": 18,
    "start_time": "2025-01-11T11:11:32.078Z"
   },
   {
    "duration": 3,
    "start_time": "2025-01-11T11:11:32.098Z"
   },
   {
    "duration": 245,
    "start_time": "2025-01-11T11:11:32.103Z"
   },
   {
    "duration": 263,
    "start_time": "2025-01-11T11:11:32.350Z"
   },
   {
    "duration": 239,
    "start_time": "2025-01-11T11:11:32.615Z"
   },
   {
    "duration": 0,
    "start_time": "2025-01-11T11:11:32.857Z"
   },
   {
    "duration": 0,
    "start_time": "2025-01-11T11:11:32.858Z"
   },
   {
    "duration": 0,
    "start_time": "2025-01-11T11:11:32.860Z"
   },
   {
    "duration": 0,
    "start_time": "2025-01-11T11:11:32.861Z"
   },
   {
    "duration": 0,
    "start_time": "2025-01-11T11:11:32.862Z"
   },
   {
    "duration": 0,
    "start_time": "2025-01-11T11:11:32.864Z"
   },
   {
    "duration": 0,
    "start_time": "2025-01-11T11:11:32.865Z"
   },
   {
    "duration": 0,
    "start_time": "2025-01-11T11:11:32.867Z"
   },
   {
    "duration": 0,
    "start_time": "2025-01-11T11:11:32.868Z"
   },
   {
    "duration": 0,
    "start_time": "2025-01-11T11:11:32.869Z"
   },
   {
    "duration": 0,
    "start_time": "2025-01-11T11:11:32.870Z"
   },
   {
    "duration": 0,
    "start_time": "2025-01-11T11:11:32.871Z"
   },
   {
    "duration": 0,
    "start_time": "2025-01-11T11:11:32.872Z"
   },
   {
    "duration": 9,
    "start_time": "2025-01-11T11:11:41.872Z"
   },
   {
    "duration": 214,
    "start_time": "2025-01-11T11:12:02.711Z"
   },
   {
    "duration": 16,
    "start_time": "2025-01-11T11:15:15.821Z"
   },
   {
    "duration": 11,
    "start_time": "2025-01-11T11:16:13.282Z"
   },
   {
    "duration": 6,
    "start_time": "2025-01-11T11:16:32.904Z"
   },
   {
    "duration": 4,
    "start_time": "2025-01-11T11:19:17.853Z"
   },
   {
    "duration": 6,
    "start_time": "2025-01-11T11:19:29.372Z"
   },
   {
    "duration": 791,
    "start_time": "2025-01-11T11:19:34.729Z"
   },
   {
    "duration": 23,
    "start_time": "2025-01-11T11:19:35.522Z"
   },
   {
    "duration": 16,
    "start_time": "2025-01-11T11:19:35.546Z"
   },
   {
    "duration": 3,
    "start_time": "2025-01-11T11:19:35.564Z"
   },
   {
    "duration": 18,
    "start_time": "2025-01-11T11:19:35.568Z"
   },
   {
    "duration": 4,
    "start_time": "2025-01-11T11:19:35.587Z"
   },
   {
    "duration": 209,
    "start_time": "2025-01-11T11:19:35.592Z"
   },
   {
    "duration": 286,
    "start_time": "2025-01-11T11:19:35.803Z"
   },
   {
    "duration": 5,
    "start_time": "2025-01-11T11:19:36.091Z"
   },
   {
    "duration": 7,
    "start_time": "2025-01-11T11:19:36.099Z"
   },
   {
    "duration": 802,
    "start_time": "2025-01-11T11:19:36.107Z"
   },
   {
    "duration": 0,
    "start_time": "2025-01-11T11:19:36.911Z"
   },
   {
    "duration": 0,
    "start_time": "2025-01-11T11:19:36.912Z"
   },
   {
    "duration": 0,
    "start_time": "2025-01-11T11:19:36.914Z"
   },
   {
    "duration": 0,
    "start_time": "2025-01-11T11:19:36.914Z"
   },
   {
    "duration": 0,
    "start_time": "2025-01-11T11:19:36.931Z"
   },
   {
    "duration": 0,
    "start_time": "2025-01-11T11:19:36.932Z"
   },
   {
    "duration": 0,
    "start_time": "2025-01-11T11:19:36.933Z"
   },
   {
    "duration": 0,
    "start_time": "2025-01-11T11:19:36.934Z"
   },
   {
    "duration": 0,
    "start_time": "2025-01-11T11:19:36.935Z"
   },
   {
    "duration": 0,
    "start_time": "2025-01-11T11:19:36.936Z"
   },
   {
    "duration": 0,
    "start_time": "2025-01-11T11:19:36.937Z"
   },
   {
    "duration": 5,
    "start_time": "2025-01-11T11:27:27.904Z"
   },
   {
    "duration": 12,
    "start_time": "2025-01-11T11:27:45.983Z"
   },
   {
    "duration": 12,
    "start_time": "2025-01-11T11:28:15.045Z"
   },
   {
    "duration": 84,
    "start_time": "2025-01-11T11:33:58.182Z"
   },
   {
    "duration": 803,
    "start_time": "2025-01-11T11:34:04.113Z"
   },
   {
    "duration": 23,
    "start_time": "2025-01-11T11:34:04.918Z"
   },
   {
    "duration": 15,
    "start_time": "2025-01-11T11:34:04.943Z"
   },
   {
    "duration": 2,
    "start_time": "2025-01-11T11:34:04.960Z"
   },
   {
    "duration": 18,
    "start_time": "2025-01-11T11:34:04.965Z"
   },
   {
    "duration": 4,
    "start_time": "2025-01-11T11:34:04.985Z"
   },
   {
    "duration": 210,
    "start_time": "2025-01-11T11:34:04.991Z"
   },
   {
    "duration": 286,
    "start_time": "2025-01-11T11:34:05.203Z"
   },
   {
    "duration": 6,
    "start_time": "2025-01-11T11:34:05.491Z"
   },
   {
    "duration": 296,
    "start_time": "2025-01-11T11:34:05.498Z"
   },
   {
    "duration": 0,
    "start_time": "2025-01-11T11:34:05.796Z"
   },
   {
    "duration": 0,
    "start_time": "2025-01-11T11:34:05.797Z"
   },
   {
    "duration": 0,
    "start_time": "2025-01-11T11:34:05.799Z"
   },
   {
    "duration": 0,
    "start_time": "2025-01-11T11:34:05.800Z"
   },
   {
    "duration": 0,
    "start_time": "2025-01-11T11:34:05.802Z"
   },
   {
    "duration": 0,
    "start_time": "2025-01-11T11:34:05.804Z"
   },
   {
    "duration": 0,
    "start_time": "2025-01-11T11:34:05.805Z"
   },
   {
    "duration": 0,
    "start_time": "2025-01-11T11:34:05.806Z"
   },
   {
    "duration": 0,
    "start_time": "2025-01-11T11:34:05.807Z"
   },
   {
    "duration": 0,
    "start_time": "2025-01-11T11:34:05.808Z"
   },
   {
    "duration": 0,
    "start_time": "2025-01-11T11:34:05.809Z"
   },
   {
    "duration": 0,
    "start_time": "2025-01-11T11:34:05.810Z"
   },
   {
    "duration": 0,
    "start_time": "2025-01-11T11:34:05.830Z"
   },
   {
    "duration": 20,
    "start_time": "2025-01-11T11:34:25.743Z"
   },
   {
    "duration": 118,
    "start_time": "2025-01-11T11:35:27.188Z"
   },
   {
    "duration": 869,
    "start_time": "2025-01-11T11:35:42.451Z"
   },
   {
    "duration": 23,
    "start_time": "2025-01-11T11:35:43.322Z"
   },
   {
    "duration": 15,
    "start_time": "2025-01-11T11:35:43.347Z"
   },
   {
    "duration": 2,
    "start_time": "2025-01-11T11:35:43.364Z"
   },
   {
    "duration": 18,
    "start_time": "2025-01-11T11:35:43.367Z"
   },
   {
    "duration": 4,
    "start_time": "2025-01-11T11:35:43.387Z"
   },
   {
    "duration": 205,
    "start_time": "2025-01-11T11:35:43.392Z"
   },
   {
    "duration": 296,
    "start_time": "2025-01-11T11:35:43.599Z"
   },
   {
    "duration": 5,
    "start_time": "2025-01-11T11:35:43.897Z"
   },
   {
    "duration": 342,
    "start_time": "2025-01-11T11:35:43.906Z"
   },
   {
    "duration": 0,
    "start_time": "2025-01-11T11:35:44.250Z"
   },
   {
    "duration": 0,
    "start_time": "2025-01-11T11:35:44.251Z"
   },
   {
    "duration": 0,
    "start_time": "2025-01-11T11:35:44.253Z"
   },
   {
    "duration": 0,
    "start_time": "2025-01-11T11:35:44.254Z"
   },
   {
    "duration": 0,
    "start_time": "2025-01-11T11:35:44.256Z"
   },
   {
    "duration": 0,
    "start_time": "2025-01-11T11:35:44.256Z"
   },
   {
    "duration": 0,
    "start_time": "2025-01-11T11:35:44.257Z"
   },
   {
    "duration": 0,
    "start_time": "2025-01-11T11:35:44.259Z"
   },
   {
    "duration": 0,
    "start_time": "2025-01-11T11:35:44.260Z"
   },
   {
    "duration": 0,
    "start_time": "2025-01-11T11:35:44.262Z"
   },
   {
    "duration": 0,
    "start_time": "2025-01-11T11:35:44.263Z"
   },
   {
    "duration": 0,
    "start_time": "2025-01-11T11:35:44.264Z"
   },
   {
    "duration": 0,
    "start_time": "2025-01-11T11:35:44.266Z"
   },
   {
    "duration": 20,
    "start_time": "2025-01-11T11:36:19.141Z"
   },
   {
    "duration": 25,
    "start_time": "2025-01-11T11:36:31.956Z"
   },
   {
    "duration": 13,
    "start_time": "2025-01-11T11:37:15.066Z"
   },
   {
    "duration": 13,
    "start_time": "2025-01-11T12:13:23.503Z"
   },
   {
    "duration": 14,
    "start_time": "2025-01-11T12:14:32.527Z"
   },
   {
    "duration": 11,
    "start_time": "2025-01-11T12:15:09.318Z"
   },
   {
    "duration": 19,
    "start_time": "2025-01-11T12:15:45.318Z"
   },
   {
    "duration": 899,
    "start_time": "2025-01-11T12:15:58.633Z"
   },
   {
    "duration": 13,
    "start_time": "2025-01-11T12:16:28.912Z"
   },
   {
    "duration": 12,
    "start_time": "2025-01-11T12:18:48.045Z"
   },
   {
    "duration": 159,
    "start_time": "2025-01-11T15:24:50.911Z"
   },
   {
    "duration": 2523,
    "start_time": "2025-01-11T15:25:05.415Z"
   },
   {
    "duration": 36,
    "start_time": "2025-01-11T15:25:07.940Z"
   },
   {
    "duration": 17,
    "start_time": "2025-01-11T15:25:07.978Z"
   },
   {
    "duration": 2,
    "start_time": "2025-01-11T15:25:07.997Z"
   },
   {
    "duration": 17,
    "start_time": "2025-01-11T15:25:08.002Z"
   },
   {
    "duration": 13,
    "start_time": "2025-01-11T15:25:08.021Z"
   },
   {
    "duration": 257,
    "start_time": "2025-01-11T15:25:08.036Z"
   },
   {
    "duration": 226,
    "start_time": "2025-01-11T15:25:08.294Z"
   },
   {
    "duration": 9,
    "start_time": "2025-01-11T15:25:08.522Z"
   },
   {
    "duration": 12,
    "start_time": "2025-01-11T15:25:08.533Z"
   },
   {
    "duration": 7,
    "start_time": "2025-01-11T15:25:08.546Z"
   },
   {
    "duration": 846,
    "start_time": "2025-01-11T15:25:08.555Z"
   },
   {
    "duration": 0,
    "start_time": "2025-01-11T15:25:09.403Z"
   },
   {
    "duration": 0,
    "start_time": "2025-01-11T15:25:09.404Z"
   },
   {
    "duration": 0,
    "start_time": "2025-01-11T15:25:09.407Z"
   },
   {
    "duration": 0,
    "start_time": "2025-01-11T15:25:09.408Z"
   },
   {
    "duration": 0,
    "start_time": "2025-01-11T15:25:09.409Z"
   },
   {
    "duration": 0,
    "start_time": "2025-01-11T15:25:09.411Z"
   },
   {
    "duration": 0,
    "start_time": "2025-01-11T15:25:09.432Z"
   },
   {
    "duration": 0,
    "start_time": "2025-01-11T15:25:09.433Z"
   },
   {
    "duration": 0,
    "start_time": "2025-01-11T15:25:09.434Z"
   },
   {
    "duration": 0,
    "start_time": "2025-01-11T15:25:09.435Z"
   },
   {
    "duration": 0,
    "start_time": "2025-01-11T15:25:09.436Z"
   },
   {
    "duration": 9,
    "start_time": "2025-01-11T15:28:28.108Z"
   },
   {
    "duration": 11,
    "start_time": "2025-01-11T15:29:04.539Z"
   },
   {
    "duration": 8,
    "start_time": "2025-01-11T15:29:14.555Z"
   },
   {
    "duration": 794,
    "start_time": "2025-01-11T15:29:22.495Z"
   },
   {
    "duration": 24,
    "start_time": "2025-01-11T15:29:23.291Z"
   },
   {
    "duration": 28,
    "start_time": "2025-01-11T15:29:23.317Z"
   },
   {
    "duration": 2,
    "start_time": "2025-01-11T15:29:23.347Z"
   },
   {
    "duration": 18,
    "start_time": "2025-01-11T15:29:23.351Z"
   },
   {
    "duration": 4,
    "start_time": "2025-01-11T15:29:23.371Z"
   },
   {
    "duration": 211,
    "start_time": "2025-01-11T15:29:23.378Z"
   },
   {
    "duration": 270,
    "start_time": "2025-01-11T15:29:23.591Z"
   },
   {
    "duration": 6,
    "start_time": "2025-01-11T15:29:23.863Z"
   },
   {
    "duration": 8,
    "start_time": "2025-01-11T15:29:23.870Z"
   },
   {
    "duration": 796,
    "start_time": "2025-01-11T15:29:23.879Z"
   },
   {
    "duration": 0,
    "start_time": "2025-01-11T15:29:24.678Z"
   },
   {
    "duration": 0,
    "start_time": "2025-01-11T15:29:24.679Z"
   },
   {
    "duration": 0,
    "start_time": "2025-01-11T15:29:24.680Z"
   },
   {
    "duration": 0,
    "start_time": "2025-01-11T15:29:24.681Z"
   },
   {
    "duration": 0,
    "start_time": "2025-01-11T15:29:24.682Z"
   },
   {
    "duration": 0,
    "start_time": "2025-01-11T15:29:24.684Z"
   },
   {
    "duration": 0,
    "start_time": "2025-01-11T15:29:24.685Z"
   },
   {
    "duration": 0,
    "start_time": "2025-01-11T15:29:24.687Z"
   },
   {
    "duration": 0,
    "start_time": "2025-01-11T15:29:24.688Z"
   },
   {
    "duration": 0,
    "start_time": "2025-01-11T15:29:24.689Z"
   },
   {
    "duration": 0,
    "start_time": "2025-01-11T15:29:24.690Z"
   },
   {
    "duration": 13,
    "start_time": "2025-01-11T15:30:01.061Z"
   },
   {
    "duration": 14,
    "start_time": "2025-01-11T15:30:55.428Z"
   },
   {
    "duration": 13,
    "start_time": "2025-01-11T15:31:13.514Z"
   },
   {
    "duration": 23,
    "start_time": "2025-01-11T15:41:12.575Z"
   },
   {
    "duration": 25,
    "start_time": "2025-01-11T15:41:26.421Z"
   },
   {
    "duration": 15,
    "start_time": "2025-01-11T15:42:33.582Z"
   },
   {
    "duration": 23,
    "start_time": "2025-01-11T15:43:08.197Z"
   },
   {
    "duration": 4,
    "start_time": "2025-01-11T15:48:59.032Z"
   },
   {
    "duration": 369,
    "start_time": "2025-01-11T15:49:05.255Z"
   },
   {
    "duration": 17,
    "start_time": "2025-01-11T15:50:30.988Z"
   },
   {
    "duration": 11,
    "start_time": "2025-01-11T15:50:51.534Z"
   },
   {
    "duration": 11,
    "start_time": "2025-01-11T15:51:17.980Z"
   },
   {
    "duration": 10,
    "start_time": "2025-01-11T15:51:34.387Z"
   },
   {
    "duration": 12,
    "start_time": "2025-01-11T15:53:54.556Z"
   },
   {
    "duration": 12,
    "start_time": "2025-01-11T15:54:05.019Z"
   },
   {
    "duration": 815,
    "start_time": "2025-01-11T15:54:16.210Z"
   },
   {
    "duration": 25,
    "start_time": "2025-01-11T15:54:17.027Z"
   },
   {
    "duration": 16,
    "start_time": "2025-01-11T15:54:17.054Z"
   },
   {
    "duration": 2,
    "start_time": "2025-01-11T15:54:17.073Z"
   },
   {
    "duration": 19,
    "start_time": "2025-01-11T15:54:17.077Z"
   },
   {
    "duration": 3,
    "start_time": "2025-01-11T15:54:17.098Z"
   },
   {
    "duration": 246,
    "start_time": "2025-01-11T15:54:17.103Z"
   },
   {
    "duration": 265,
    "start_time": "2025-01-11T15:54:17.351Z"
   },
   {
    "duration": 15,
    "start_time": "2025-01-11T15:54:17.617Z"
   },
   {
    "duration": 12,
    "start_time": "2025-01-11T15:54:17.634Z"
   },
   {
    "duration": 827,
    "start_time": "2025-01-11T15:54:17.648Z"
   },
   {
    "duration": 0,
    "start_time": "2025-01-11T15:54:18.477Z"
   },
   {
    "duration": 0,
    "start_time": "2025-01-11T15:54:18.478Z"
   },
   {
    "duration": 0,
    "start_time": "2025-01-11T15:54:18.480Z"
   },
   {
    "duration": 0,
    "start_time": "2025-01-11T15:54:18.481Z"
   },
   {
    "duration": 0,
    "start_time": "2025-01-11T15:54:18.482Z"
   },
   {
    "duration": 0,
    "start_time": "2025-01-11T15:54:18.483Z"
   },
   {
    "duration": 0,
    "start_time": "2025-01-11T15:54:18.484Z"
   },
   {
    "duration": 0,
    "start_time": "2025-01-11T15:54:18.485Z"
   },
   {
    "duration": 0,
    "start_time": "2025-01-11T15:54:18.486Z"
   },
   {
    "duration": 0,
    "start_time": "2025-01-11T15:54:18.488Z"
   },
   {
    "duration": 0,
    "start_time": "2025-01-11T15:54:18.489Z"
   },
   {
    "duration": 13,
    "start_time": "2025-01-11T15:55:11.942Z"
   },
   {
    "duration": 16,
    "start_time": "2025-01-11T15:55:30.628Z"
   },
   {
    "duration": 11,
    "start_time": "2025-01-11T15:55:59.415Z"
   },
   {
    "duration": 364,
    "start_time": "2025-01-11T15:58:12.822Z"
   },
   {
    "duration": 123,
    "start_time": "2025-01-11T16:00:08.830Z"
   },
   {
    "duration": 94,
    "start_time": "2025-01-11T16:00:26.734Z"
   },
   {
    "duration": 88,
    "start_time": "2025-01-11T16:01:17.472Z"
   },
   {
    "duration": 8,
    "start_time": "2025-01-11T16:07:33.030Z"
   },
   {
    "duration": 10,
    "start_time": "2025-01-11T16:08:56.871Z"
   },
   {
    "duration": 12,
    "start_time": "2025-01-11T16:09:08.259Z"
   },
   {
    "duration": 13,
    "start_time": "2025-01-11T16:09:36.214Z"
   },
   {
    "duration": 464,
    "start_time": "2025-01-11T16:10:49.065Z"
   },
   {
    "duration": 14,
    "start_time": "2025-01-11T16:11:09.464Z"
   },
   {
    "duration": 13,
    "start_time": "2025-01-11T16:13:18.854Z"
   },
   {
    "duration": 15,
    "start_time": "2025-01-11T16:14:07.672Z"
   },
   {
    "duration": 115,
    "start_time": "2025-01-11T16:14:19.294Z"
   },
   {
    "duration": 118,
    "start_time": "2025-01-11T16:14:53.992Z"
   },
   {
    "duration": 157,
    "start_time": "2025-01-11T16:17:55.027Z"
   },
   {
    "duration": 52,
    "start_time": "2025-01-11T16:20:47.112Z"
   },
   {
    "duration": 51,
    "start_time": "2025-01-11T16:21:03.759Z"
   },
   {
    "duration": 51,
    "start_time": "2025-01-11T16:21:20.330Z"
   },
   {
    "duration": 805,
    "start_time": "2025-01-11T16:21:42.926Z"
   },
   {
    "duration": 26,
    "start_time": "2025-01-11T16:21:43.733Z"
   },
   {
    "duration": 17,
    "start_time": "2025-01-11T16:21:43.760Z"
   },
   {
    "duration": 3,
    "start_time": "2025-01-11T16:21:43.778Z"
   },
   {
    "duration": 18,
    "start_time": "2025-01-11T16:21:43.783Z"
   },
   {
    "duration": 3,
    "start_time": "2025-01-11T16:21:43.803Z"
   },
   {
    "duration": 236,
    "start_time": "2025-01-11T16:21:43.808Z"
   },
   {
    "duration": 265,
    "start_time": "2025-01-11T16:21:44.046Z"
   },
   {
    "duration": 6,
    "start_time": "2025-01-11T16:21:44.313Z"
   },
   {
    "duration": 663,
    "start_time": "2025-01-11T16:21:44.320Z"
   },
   {
    "duration": 0,
    "start_time": "2025-01-11T16:21:44.985Z"
   },
   {
    "duration": 0,
    "start_time": "2025-01-11T16:21:44.986Z"
   },
   {
    "duration": 0,
    "start_time": "2025-01-11T16:21:44.988Z"
   },
   {
    "duration": 0,
    "start_time": "2025-01-11T16:21:44.990Z"
   },
   {
    "duration": 0,
    "start_time": "2025-01-11T16:21:44.991Z"
   },
   {
    "duration": 0,
    "start_time": "2025-01-11T16:21:44.992Z"
   },
   {
    "duration": 0,
    "start_time": "2025-01-11T16:21:44.994Z"
   },
   {
    "duration": 1,
    "start_time": "2025-01-11T16:21:44.995Z"
   },
   {
    "duration": 0,
    "start_time": "2025-01-11T16:21:44.997Z"
   },
   {
    "duration": 0,
    "start_time": "2025-01-11T16:21:44.998Z"
   },
   {
    "duration": 0,
    "start_time": "2025-01-11T16:21:45.000Z"
   },
   {
    "duration": 0,
    "start_time": "2025-01-11T16:21:45.001Z"
   },
   {
    "duration": 160,
    "start_time": "2025-01-11T16:25:00.989Z"
   },
   {
    "duration": 102,
    "start_time": "2025-01-11T16:26:35.368Z"
   },
   {
    "duration": 101,
    "start_time": "2025-01-11T16:27:13.068Z"
   },
   {
    "duration": 95,
    "start_time": "2025-01-11T16:31:18.126Z"
   },
   {
    "duration": 96,
    "start_time": "2025-01-11T16:31:36.792Z"
   },
   {
    "duration": 102,
    "start_time": "2025-01-11T16:33:07.683Z"
   },
   {
    "duration": 15,
    "start_time": "2025-01-11T16:36:04.479Z"
   },
   {
    "duration": 280,
    "start_time": "2025-01-11T16:36:13.549Z"
   },
   {
    "duration": 825,
    "start_time": "2025-01-11T16:45:22.803Z"
   },
   {
    "duration": 34,
    "start_time": "2025-01-11T16:45:23.630Z"
   },
   {
    "duration": 16,
    "start_time": "2025-01-11T16:45:23.666Z"
   },
   {
    "duration": 2,
    "start_time": "2025-01-11T16:45:23.685Z"
   },
   {
    "duration": 20,
    "start_time": "2025-01-11T16:45:23.689Z"
   },
   {
    "duration": 4,
    "start_time": "2025-01-11T16:45:23.710Z"
   },
   {
    "duration": 219,
    "start_time": "2025-01-11T16:45:23.732Z"
   },
   {
    "duration": 285,
    "start_time": "2025-01-11T16:45:23.953Z"
   },
   {
    "duration": 6,
    "start_time": "2025-01-11T16:45:24.240Z"
   },
   {
    "duration": 177,
    "start_time": "2025-01-11T16:46:13.211Z"
   },
   {
    "duration": 881,
    "start_time": "2025-01-11T16:46:19.240Z"
   },
   {
    "duration": 33,
    "start_time": "2025-01-11T16:46:20.123Z"
   },
   {
    "duration": 16,
    "start_time": "2025-01-11T16:46:20.158Z"
   },
   {
    "duration": 4,
    "start_time": "2025-01-11T16:46:20.177Z"
   },
   {
    "duration": 19,
    "start_time": "2025-01-11T16:46:20.184Z"
   },
   {
    "duration": 3,
    "start_time": "2025-01-11T16:46:20.205Z"
   },
   {
    "duration": 226,
    "start_time": "2025-01-11T16:46:20.210Z"
   },
   {
    "duration": 281,
    "start_time": "2025-01-11T16:46:20.437Z"
   },
   {
    "duration": 11,
    "start_time": "2025-01-11T16:46:20.720Z"
   },
   {
    "duration": 191,
    "start_time": "2025-01-11T16:46:20.733Z"
   },
   {
    "duration": 775,
    "start_time": "2025-01-11T16:46:20.925Z"
   },
   {
    "duration": 1,
    "start_time": "2025-01-11T16:46:21.702Z"
   },
   {
    "duration": 0,
    "start_time": "2025-01-11T16:46:21.704Z"
   },
   {
    "duration": 0,
    "start_time": "2025-01-11T16:46:21.705Z"
   },
   {
    "duration": 0,
    "start_time": "2025-01-11T16:46:21.706Z"
   },
   {
    "duration": 0,
    "start_time": "2025-01-11T16:46:21.708Z"
   },
   {
    "duration": 0,
    "start_time": "2025-01-11T16:46:21.709Z"
   },
   {
    "duration": 0,
    "start_time": "2025-01-11T16:46:21.710Z"
   },
   {
    "duration": 0,
    "start_time": "2025-01-11T16:46:21.731Z"
   },
   {
    "duration": 0,
    "start_time": "2025-01-11T16:46:21.733Z"
   },
   {
    "duration": 0,
    "start_time": "2025-01-11T16:46:21.734Z"
   },
   {
    "duration": 0,
    "start_time": "2025-01-11T16:46:21.736Z"
   },
   {
    "duration": 298,
    "start_time": "2025-01-11T16:52:07.515Z"
   },
   {
    "duration": 22,
    "start_time": "2025-01-11T16:53:27.394Z"
   },
   {
    "duration": 422,
    "start_time": "2025-01-11T16:55:11.358Z"
   },
   {
    "duration": 6,
    "start_time": "2025-01-11T17:02:36.621Z"
   },
   {
    "duration": 824,
    "start_time": "2025-01-11T17:02:53.443Z"
   },
   {
    "duration": 333,
    "start_time": "2025-01-11T17:03:45.043Z"
   },
   {
    "duration": 132,
    "start_time": "2025-01-11T17:04:43.348Z"
   },
   {
    "duration": 5,
    "start_time": "2025-01-11T17:19:23.907Z"
   },
   {
    "duration": 7,
    "start_time": "2025-01-11T17:20:06.393Z"
   },
   {
    "duration": 321,
    "start_time": "2025-01-11T17:22:34.259Z"
   },
   {
    "duration": 301,
    "start_time": "2025-01-11T17:23:11.907Z"
   },
   {
    "duration": 813,
    "start_time": "2025-01-11T17:24:42.315Z"
   },
   {
    "duration": 26,
    "start_time": "2025-01-11T17:24:43.130Z"
   },
   {
    "duration": 17,
    "start_time": "2025-01-11T17:24:43.157Z"
   },
   {
    "duration": 5,
    "start_time": "2025-01-11T17:24:43.176Z"
   },
   {
    "duration": 24,
    "start_time": "2025-01-11T17:24:43.185Z"
   },
   {
    "duration": 4,
    "start_time": "2025-01-11T17:24:43.230Z"
   },
   {
    "duration": 226,
    "start_time": "2025-01-11T17:24:43.236Z"
   },
   {
    "duration": 294,
    "start_time": "2025-01-11T17:24:43.464Z"
   },
   {
    "duration": 5,
    "start_time": "2025-01-11T17:24:43.760Z"
   },
   {
    "duration": 193,
    "start_time": "2025-01-11T17:24:43.767Z"
   },
   {
    "duration": 314,
    "start_time": "2025-01-11T17:24:43.961Z"
   },
   {
    "duration": 3,
    "start_time": "2025-01-11T17:24:44.277Z"
   },
   {
    "duration": 2,
    "start_time": "2025-01-11T17:24:44.282Z"
   },
   {
    "duration": 3,
    "start_time": "2025-01-11T17:24:44.287Z"
   },
   {
    "duration": 3,
    "start_time": "2025-01-11T17:24:44.291Z"
   },
   {
    "duration": 3,
    "start_time": "2025-01-11T17:24:44.295Z"
   },
   {
    "duration": 33,
    "start_time": "2025-01-11T17:24:44.299Z"
   },
   {
    "duration": 2,
    "start_time": "2025-01-11T17:24:44.335Z"
   },
   {
    "duration": 2,
    "start_time": "2025-01-11T17:24:44.339Z"
   },
   {
    "duration": 2,
    "start_time": "2025-01-11T17:24:44.343Z"
   },
   {
    "duration": 3,
    "start_time": "2025-01-11T17:24:44.346Z"
   },
   {
    "duration": 2,
    "start_time": "2025-01-11T17:24:44.351Z"
   },
   {
    "duration": 297,
    "start_time": "2025-01-11T17:25:12.585Z"
   },
   {
    "duration": 304,
    "start_time": "2025-01-11T17:26:56.281Z"
   },
   {
    "duration": 755,
    "start_time": "2025-01-11T17:27:14.819Z"
   },
   {
    "duration": 337,
    "start_time": "2025-01-11T17:28:26.419Z"
   },
   {
    "duration": 330,
    "start_time": "2025-01-11T17:29:37.555Z"
   },
   {
    "duration": 314,
    "start_time": "2025-01-11T17:30:19.584Z"
   },
   {
    "duration": 6,
    "start_time": "2025-01-11T17:33:25.982Z"
   },
   {
    "duration": 841,
    "start_time": "2025-01-11T17:35:29.491Z"
   },
   {
    "duration": 33,
    "start_time": "2025-01-11T17:35:30.334Z"
   },
   {
    "duration": 16,
    "start_time": "2025-01-11T17:35:30.368Z"
   },
   {
    "duration": 2,
    "start_time": "2025-01-11T17:35:30.386Z"
   },
   {
    "duration": 22,
    "start_time": "2025-01-11T17:35:30.390Z"
   },
   {
    "duration": 16,
    "start_time": "2025-01-11T17:35:30.415Z"
   },
   {
    "duration": 220,
    "start_time": "2025-01-11T17:35:30.433Z"
   },
   {
    "duration": 269,
    "start_time": "2025-01-11T17:35:30.655Z"
   },
   {
    "duration": 6,
    "start_time": "2025-01-11T17:35:30.930Z"
   },
   {
    "duration": 18,
    "start_time": "2025-01-11T17:35:35.544Z"
   },
   {
    "duration": 165,
    "start_time": "2025-01-11T17:39:54.118Z"
   },
   {
    "duration": 1893,
    "start_time": "2025-01-11T17:43:15.423Z"
   },
   {
    "duration": 154,
    "start_time": "2025-01-11T17:44:11.827Z"
   },
   {
    "duration": 232,
    "start_time": "2025-01-11T17:45:59.255Z"
   },
   {
    "duration": 851,
    "start_time": "2025-01-11T17:49:57.276Z"
   },
   {
    "duration": 28,
    "start_time": "2025-01-11T17:49:58.132Z"
   },
   {
    "duration": 19,
    "start_time": "2025-01-11T17:49:58.161Z"
   },
   {
    "duration": 4,
    "start_time": "2025-01-11T17:49:58.182Z"
   },
   {
    "duration": 20,
    "start_time": "2025-01-11T17:49:58.188Z"
   },
   {
    "duration": 24,
    "start_time": "2025-01-11T17:49:58.210Z"
   },
   {
    "duration": 235,
    "start_time": "2025-01-11T17:49:58.237Z"
   },
   {
    "duration": 278,
    "start_time": "2025-01-11T17:49:58.474Z"
   },
   {
    "duration": 6,
    "start_time": "2025-01-11T17:49:58.754Z"
   },
   {
    "duration": 273,
    "start_time": "2025-01-11T17:49:58.763Z"
   },
   {
    "duration": 563,
    "start_time": "2025-01-11T17:49:59.038Z"
   },
   {
    "duration": 0,
    "start_time": "2025-01-11T17:49:59.602Z"
   },
   {
    "duration": 0,
    "start_time": "2025-01-11T17:49:59.604Z"
   },
   {
    "duration": 0,
    "start_time": "2025-01-11T17:49:59.606Z"
   },
   {
    "duration": 0,
    "start_time": "2025-01-11T17:49:59.607Z"
   },
   {
    "duration": 0,
    "start_time": "2025-01-11T17:49:59.609Z"
   },
   {
    "duration": 0,
    "start_time": "2025-01-11T17:49:59.611Z"
   },
   {
    "duration": 0,
    "start_time": "2025-01-11T17:49:59.612Z"
   },
   {
    "duration": 0,
    "start_time": "2025-01-11T17:49:59.613Z"
   },
   {
    "duration": 0,
    "start_time": "2025-01-11T17:49:59.614Z"
   },
   {
    "duration": 0,
    "start_time": "2025-01-11T17:49:59.631Z"
   },
   {
    "duration": 0,
    "start_time": "2025-01-11T17:49:59.633Z"
   },
   {
    "duration": 350,
    "start_time": "2025-01-11T17:51:23.335Z"
   },
   {
    "duration": 334,
    "start_time": "2025-01-11T17:51:35.620Z"
   },
   {
    "duration": 428,
    "start_time": "2025-01-11T17:52:09.450Z"
   },
   {
    "duration": 461,
    "start_time": "2025-01-11T17:53:08.259Z"
   },
   {
    "duration": 378,
    "start_time": "2025-01-11T17:54:34.140Z"
   },
   {
    "duration": 331,
    "start_time": "2025-01-11T17:58:13.796Z"
   },
   {
    "duration": 378,
    "start_time": "2025-01-11T18:06:14.347Z"
   },
   {
    "duration": 10,
    "start_time": "2025-01-11T18:09:31.563Z"
   },
   {
    "duration": 9,
    "start_time": "2025-01-11T18:09:49.580Z"
   },
   {
    "duration": 13,
    "start_time": "2025-01-11T18:10:21.955Z"
   },
   {
    "duration": 8,
    "start_time": "2025-01-11T18:14:05.387Z"
   },
   {
    "duration": 456,
    "start_time": "2025-01-11T18:14:19.676Z"
   },
   {
    "duration": 51,
    "start_time": "2025-01-11T18:14:35.504Z"
   },
   {
    "duration": 471,
    "start_time": "2025-01-11T18:14:54.897Z"
   },
   {
    "duration": 18,
    "start_time": "2025-01-11T18:19:38.553Z"
   },
   {
    "duration": 18,
    "start_time": "2025-01-11T18:19:54.349Z"
   },
   {
    "duration": 7,
    "start_time": "2025-01-11T18:21:53.981Z"
   },
   {
    "duration": 5,
    "start_time": "2025-01-11T18:21:59.800Z"
   },
   {
    "duration": 5,
    "start_time": "2025-01-11T18:22:16.158Z"
   },
   {
    "duration": 19,
    "start_time": "2025-01-11T18:22:20.955Z"
   },
   {
    "duration": 834,
    "start_time": "2025-01-11T18:22:41.291Z"
   },
   {
    "duration": 25,
    "start_time": "2025-01-11T18:22:42.128Z"
   },
   {
    "duration": 17,
    "start_time": "2025-01-11T18:22:42.154Z"
   },
   {
    "duration": 2,
    "start_time": "2025-01-11T18:22:42.173Z"
   },
   {
    "duration": 27,
    "start_time": "2025-01-11T18:22:42.178Z"
   },
   {
    "duration": 27,
    "start_time": "2025-01-11T18:22:42.207Z"
   },
   {
    "duration": 225,
    "start_time": "2025-01-11T18:22:42.236Z"
   },
   {
    "duration": 282,
    "start_time": "2025-01-11T18:22:42.463Z"
   },
   {
    "duration": 6,
    "start_time": "2025-01-11T18:22:42.747Z"
   },
   {
    "duration": 273,
    "start_time": "2025-01-11T18:22:42.755Z"
   },
   {
    "duration": 374,
    "start_time": "2025-01-11T18:22:43.029Z"
   },
   {
    "duration": 12,
    "start_time": "2025-01-11T18:22:43.405Z"
   },
   {
    "duration": 3,
    "start_time": "2025-01-11T18:22:43.430Z"
   },
   {
    "duration": 2,
    "start_time": "2025-01-11T18:22:43.437Z"
   },
   {
    "duration": 3,
    "start_time": "2025-01-11T18:22:43.440Z"
   },
   {
    "duration": 4,
    "start_time": "2025-01-11T18:22:43.444Z"
   },
   {
    "duration": 4,
    "start_time": "2025-01-11T18:22:43.449Z"
   },
   {
    "duration": 2,
    "start_time": "2025-01-11T18:22:43.455Z"
   },
   {
    "duration": 3,
    "start_time": "2025-01-11T18:22:43.458Z"
   },
   {
    "duration": 2,
    "start_time": "2025-01-11T18:22:43.463Z"
   },
   {
    "duration": 2,
    "start_time": "2025-01-11T18:22:43.467Z"
   },
   {
    "duration": 2,
    "start_time": "2025-01-11T18:22:43.471Z"
   },
   {
    "duration": 801,
    "start_time": "2025-01-11T18:23:41.105Z"
   },
   {
    "duration": 34,
    "start_time": "2025-01-11T18:23:41.909Z"
   },
   {
    "duration": 19,
    "start_time": "2025-01-11T18:23:41.945Z"
   },
   {
    "duration": 4,
    "start_time": "2025-01-11T18:23:41.965Z"
   },
   {
    "duration": 20,
    "start_time": "2025-01-11T18:23:41.972Z"
   },
   {
    "duration": 3,
    "start_time": "2025-01-11T18:23:41.994Z"
   },
   {
    "duration": 232,
    "start_time": "2025-01-11T18:23:41.999Z"
   },
   {
    "duration": 299,
    "start_time": "2025-01-11T18:23:42.233Z"
   },
   {
    "duration": 6,
    "start_time": "2025-01-11T18:23:42.534Z"
   },
   {
    "duration": 215,
    "start_time": "2025-01-11T18:23:42.541Z"
   },
   {
    "duration": 363,
    "start_time": "2025-01-11T18:23:42.758Z"
   },
   {
    "duration": 14,
    "start_time": "2025-01-11T18:23:43.123Z"
   },
   {
    "duration": 3,
    "start_time": "2025-01-11T18:23:43.139Z"
   },
   {
    "duration": 2,
    "start_time": "2025-01-11T18:23:43.145Z"
   },
   {
    "duration": 3,
    "start_time": "2025-01-11T18:23:43.148Z"
   },
   {
    "duration": 2,
    "start_time": "2025-01-11T18:23:43.153Z"
   },
   {
    "duration": 2,
    "start_time": "2025-01-11T18:23:43.157Z"
   },
   {
    "duration": 2,
    "start_time": "2025-01-11T18:23:43.161Z"
   },
   {
    "duration": 2,
    "start_time": "2025-01-11T18:23:43.165Z"
   },
   {
    "duration": 2,
    "start_time": "2025-01-11T18:23:43.169Z"
   },
   {
    "duration": 2,
    "start_time": "2025-01-11T18:23:43.176Z"
   },
   {
    "duration": 5,
    "start_time": "2025-01-11T18:23:43.180Z"
   },
   {
    "duration": 711,
    "start_time": "2025-01-11T18:25:31.010Z"
   },
   {
    "duration": 343,
    "start_time": "2025-01-11T18:25:40.777Z"
   },
   {
    "duration": 337,
    "start_time": "2025-01-11T18:26:03.510Z"
   },
   {
    "duration": 159,
    "start_time": "2025-01-12T16:24:48.909Z"
   },
   {
    "duration": 2506,
    "start_time": "2025-01-12T16:24:57.749Z"
   },
   {
    "duration": 34,
    "start_time": "2025-01-12T16:25:00.257Z"
   },
   {
    "duration": 16,
    "start_time": "2025-01-12T16:25:00.293Z"
   },
   {
    "duration": 2,
    "start_time": "2025-01-12T16:25:00.311Z"
   },
   {
    "duration": 18,
    "start_time": "2025-01-12T16:25:00.314Z"
   },
   {
    "duration": 3,
    "start_time": "2025-01-12T16:25:00.334Z"
   },
   {
    "duration": 235,
    "start_time": "2025-01-12T16:25:00.340Z"
   },
   {
    "duration": 227,
    "start_time": "2025-01-12T16:25:00.577Z"
   },
   {
    "duration": 5,
    "start_time": "2025-01-12T16:25:00.809Z"
   },
   {
    "duration": 224,
    "start_time": "2025-01-12T16:25:00.818Z"
   },
   {
    "duration": 352,
    "start_time": "2025-01-12T16:25:01.043Z"
   },
   {
    "duration": 18,
    "start_time": "2025-01-12T16:25:01.396Z"
   },
   {
    "duration": 2,
    "start_time": "2025-01-12T16:25:01.416Z"
   },
   {
    "duration": 3,
    "start_time": "2025-01-12T16:25:01.419Z"
   },
   {
    "duration": 4,
    "start_time": "2025-01-12T16:25:01.423Z"
   },
   {
    "duration": 3,
    "start_time": "2025-01-12T16:25:01.428Z"
   },
   {
    "duration": 3,
    "start_time": "2025-01-12T16:25:01.433Z"
   },
   {
    "duration": 3,
    "start_time": "2025-01-12T16:25:01.437Z"
   },
   {
    "duration": 3,
    "start_time": "2025-01-12T16:25:01.441Z"
   },
   {
    "duration": 3,
    "start_time": "2025-01-12T16:25:01.445Z"
   },
   {
    "duration": 2,
    "start_time": "2025-01-12T16:25:01.450Z"
   },
   {
    "duration": 3,
    "start_time": "2025-01-12T16:25:01.454Z"
   },
   {
    "duration": 405,
    "start_time": "2025-01-12T16:29:07.282Z"
   },
   {
    "duration": 344,
    "start_time": "2025-01-12T16:29:20.699Z"
   },
   {
    "duration": 5,
    "start_time": "2025-01-12T16:59:44.197Z"
   },
   {
    "duration": 5,
    "start_time": "2025-01-12T17:00:45.682Z"
   },
   {
    "duration": 185,
    "start_time": "2025-01-12T17:03:46.699Z"
   },
   {
    "duration": 828,
    "start_time": "2025-01-12T17:06:12.231Z"
   },
   {
    "duration": 24,
    "start_time": "2025-01-12T17:06:13.061Z"
   },
   {
    "duration": 23,
    "start_time": "2025-01-12T17:06:13.086Z"
   },
   {
    "duration": 3,
    "start_time": "2025-01-12T17:06:13.111Z"
   },
   {
    "duration": 18,
    "start_time": "2025-01-12T17:06:13.115Z"
   },
   {
    "duration": 3,
    "start_time": "2025-01-12T17:06:13.135Z"
   },
   {
    "duration": 229,
    "start_time": "2025-01-12T17:06:13.140Z"
   },
   {
    "duration": 263,
    "start_time": "2025-01-12T17:06:13.372Z"
   },
   {
    "duration": 5,
    "start_time": "2025-01-12T17:06:13.637Z"
   },
   {
    "duration": 212,
    "start_time": "2025-01-12T17:06:13.645Z"
   },
   {
    "duration": 339,
    "start_time": "2025-01-12T17:06:13.859Z"
   },
   {
    "duration": 188,
    "start_time": "2025-01-12T17:06:14.209Z"
   },
   {
    "duration": 11,
    "start_time": "2025-01-12T17:06:14.399Z"
   },
   {
    "duration": 3,
    "start_time": "2025-01-12T17:06:14.411Z"
   },
   {
    "duration": 3,
    "start_time": "2025-01-12T17:06:14.416Z"
   },
   {
    "duration": 3,
    "start_time": "2025-01-12T17:06:14.420Z"
   },
   {
    "duration": 4,
    "start_time": "2025-01-12T17:06:14.424Z"
   },
   {
    "duration": 2,
    "start_time": "2025-01-12T17:06:14.430Z"
   },
   {
    "duration": 3,
    "start_time": "2025-01-12T17:06:14.433Z"
   },
   {
    "duration": 2,
    "start_time": "2025-01-12T17:06:14.438Z"
   },
   {
    "duration": 3,
    "start_time": "2025-01-12T17:06:14.441Z"
   },
   {
    "duration": 227,
    "start_time": "2025-01-12T17:52:35.429Z"
   },
   {
    "duration": 3042,
    "start_time": "2025-01-12T17:52:45.949Z"
   },
   {
    "duration": 49,
    "start_time": "2025-01-12T17:52:48.994Z"
   },
   {
    "duration": 18,
    "start_time": "2025-01-12T17:52:49.045Z"
   },
   {
    "duration": 2,
    "start_time": "2025-01-12T17:52:49.065Z"
   },
   {
    "duration": 19,
    "start_time": "2025-01-12T17:52:49.070Z"
   },
   {
    "duration": 32,
    "start_time": "2025-01-12T17:52:49.091Z"
   },
   {
    "duration": 260,
    "start_time": "2025-01-12T17:52:49.125Z"
   },
   {
    "duration": 262,
    "start_time": "2025-01-12T17:52:49.387Z"
   },
   {
    "duration": 6,
    "start_time": "2025-01-12T17:52:49.651Z"
   },
   {
    "duration": 249,
    "start_time": "2025-01-12T17:52:49.659Z"
   },
   {
    "duration": 707,
    "start_time": "2025-01-12T17:52:49.911Z"
   },
   {
    "duration": 0,
    "start_time": "2025-01-12T17:52:50.620Z"
   },
   {
    "duration": 0,
    "start_time": "2025-01-12T17:52:50.622Z"
   },
   {
    "duration": 0,
    "start_time": "2025-01-12T17:52:50.623Z"
   },
   {
    "duration": 0,
    "start_time": "2025-01-12T17:52:50.624Z"
   },
   {
    "duration": 0,
    "start_time": "2025-01-12T17:52:50.626Z"
   },
   {
    "duration": 0,
    "start_time": "2025-01-12T17:52:50.627Z"
   },
   {
    "duration": 0,
    "start_time": "2025-01-12T17:52:50.628Z"
   },
   {
    "duration": 0,
    "start_time": "2025-01-12T17:52:50.629Z"
   },
   {
    "duration": 0,
    "start_time": "2025-01-12T17:52:50.630Z"
   },
   {
    "duration": 0,
    "start_time": "2025-01-12T17:52:50.632Z"
   },
   {
    "duration": 348,
    "start_time": "2025-01-12T17:55:59.747Z"
   },
   {
    "duration": 8,
    "start_time": "2025-01-12T17:56:22.883Z"
   },
   {
    "duration": 5,
    "start_time": "2025-01-12T17:56:32.676Z"
   },
   {
    "duration": 541,
    "start_time": "2025-01-12T17:56:39.230Z"
   },
   {
    "duration": 459,
    "start_time": "2025-01-12T17:57:01.547Z"
   },
   {
    "duration": 909,
    "start_time": "2025-01-12T17:57:13.298Z"
   },
   {
    "duration": 36,
    "start_time": "2025-01-12T17:57:14.215Z"
   },
   {
    "duration": 17,
    "start_time": "2025-01-12T17:57:14.252Z"
   },
   {
    "duration": 3,
    "start_time": "2025-01-12T17:57:14.272Z"
   },
   {
    "duration": 35,
    "start_time": "2025-01-12T17:57:14.277Z"
   },
   {
    "duration": 25,
    "start_time": "2025-01-12T17:57:14.314Z"
   },
   {
    "duration": 224,
    "start_time": "2025-01-12T17:57:14.343Z"
   },
   {
    "duration": 347,
    "start_time": "2025-01-12T17:57:14.569Z"
   },
   {
    "duration": 29,
    "start_time": "2025-01-12T17:57:14.918Z"
   },
   {
    "duration": 238,
    "start_time": "2025-01-12T17:57:14.950Z"
   },
   {
    "duration": 602,
    "start_time": "2025-01-12T17:57:15.190Z"
   },
   {
    "duration": 0,
    "start_time": "2025-01-12T17:57:15.794Z"
   },
   {
    "duration": 0,
    "start_time": "2025-01-12T17:57:15.795Z"
   },
   {
    "duration": 0,
    "start_time": "2025-01-12T17:57:15.797Z"
   },
   {
    "duration": 0,
    "start_time": "2025-01-12T17:57:15.798Z"
   },
   {
    "duration": 0,
    "start_time": "2025-01-12T17:57:15.800Z"
   },
   {
    "duration": 0,
    "start_time": "2025-01-12T17:57:15.815Z"
   },
   {
    "duration": 0,
    "start_time": "2025-01-12T17:57:15.816Z"
   },
   {
    "duration": 0,
    "start_time": "2025-01-12T17:57:15.817Z"
   },
   {
    "duration": 0,
    "start_time": "2025-01-12T17:57:15.818Z"
   },
   {
    "duration": 0,
    "start_time": "2025-01-12T17:57:15.818Z"
   },
   {
    "duration": 378,
    "start_time": "2025-01-12T17:57:41.494Z"
   },
   {
    "duration": 6,
    "start_time": "2025-01-12T17:59:12.093Z"
   },
   {
    "duration": 7,
    "start_time": "2025-01-12T17:59:46.272Z"
   },
   {
    "duration": 377,
    "start_time": "2025-01-12T18:01:32.170Z"
   },
   {
    "duration": 362,
    "start_time": "2025-01-12T18:01:46.312Z"
   },
   {
    "duration": 407,
    "start_time": "2025-01-12T18:02:14.036Z"
   },
   {
    "duration": 928,
    "start_time": "2025-01-12T18:04:34.020Z"
   },
   {
    "duration": 25,
    "start_time": "2025-01-12T18:04:34.950Z"
   },
   {
    "duration": 17,
    "start_time": "2025-01-12T18:04:34.977Z"
   },
   {
    "duration": 2,
    "start_time": "2025-01-12T18:04:34.997Z"
   },
   {
    "duration": 37,
    "start_time": "2025-01-12T18:04:35.006Z"
   },
   {
    "duration": 4,
    "start_time": "2025-01-12T18:04:35.045Z"
   },
   {
    "duration": 229,
    "start_time": "2025-01-12T18:04:35.051Z"
   },
   {
    "duration": 383,
    "start_time": "2025-01-12T18:04:35.281Z"
   },
   {
    "duration": 6,
    "start_time": "2025-01-12T18:04:35.665Z"
   },
   {
    "duration": 239,
    "start_time": "2025-01-12T18:04:35.673Z"
   },
   {
    "duration": 421,
    "start_time": "2025-01-12T18:04:35.914Z"
   },
   {
    "duration": 214,
    "start_time": "2025-01-12T18:04:36.340Z"
   },
   {
    "duration": 2,
    "start_time": "2025-01-12T18:04:36.556Z"
   },
   {
    "duration": 3,
    "start_time": "2025-01-12T18:04:36.560Z"
   },
   {
    "duration": 3,
    "start_time": "2025-01-12T18:04:36.565Z"
   },
   {
    "duration": 3,
    "start_time": "2025-01-12T18:04:36.570Z"
   },
   {
    "duration": 4,
    "start_time": "2025-01-12T18:04:36.574Z"
   },
   {
    "duration": 3,
    "start_time": "2025-01-12T18:04:36.580Z"
   },
   {
    "duration": 3,
    "start_time": "2025-01-12T18:04:36.584Z"
   },
   {
    "duration": 6,
    "start_time": "2025-01-12T18:04:36.613Z"
   },
   {
    "duration": 7,
    "start_time": "2025-01-12T18:04:36.620Z"
   },
   {
    "duration": 208,
    "start_time": "2025-01-12T18:04:56.670Z"
   },
   {
    "duration": 874,
    "start_time": "2025-01-12T18:05:11.332Z"
   },
   {
    "duration": 35,
    "start_time": "2025-01-12T18:05:12.208Z"
   },
   {
    "duration": 16,
    "start_time": "2025-01-12T18:05:12.244Z"
   },
   {
    "duration": 2,
    "start_time": "2025-01-12T18:05:12.262Z"
   },
   {
    "duration": 18,
    "start_time": "2025-01-12T18:05:12.266Z"
   },
   {
    "duration": 3,
    "start_time": "2025-01-12T18:05:12.285Z"
   },
   {
    "duration": 244,
    "start_time": "2025-01-12T18:05:12.311Z"
   },
   {
    "duration": 300,
    "start_time": "2025-01-12T18:05:12.557Z"
   },
   {
    "duration": 5,
    "start_time": "2025-01-12T18:05:12.859Z"
   },
   {
    "duration": 268,
    "start_time": "2025-01-12T18:05:12.866Z"
   },
   {
    "duration": 401,
    "start_time": "2025-01-12T18:05:13.136Z"
   },
   {
    "duration": 215,
    "start_time": "2025-01-12T18:05:13.540Z"
   },
   {
    "duration": 2,
    "start_time": "2025-01-12T18:05:13.757Z"
   },
   {
    "duration": 2,
    "start_time": "2025-01-12T18:05:13.762Z"
   },
   {
    "duration": 3,
    "start_time": "2025-01-12T18:05:13.766Z"
   },
   {
    "duration": 3,
    "start_time": "2025-01-12T18:05:13.771Z"
   },
   {
    "duration": 3,
    "start_time": "2025-01-12T18:05:13.776Z"
   },
   {
    "duration": 3,
    "start_time": "2025-01-12T18:05:13.780Z"
   },
   {
    "duration": 40,
    "start_time": "2025-01-12T18:05:13.785Z"
   },
   {
    "duration": 3,
    "start_time": "2025-01-12T18:05:13.827Z"
   },
   {
    "duration": 10,
    "start_time": "2025-01-12T18:05:13.833Z"
   },
   {
    "duration": 208,
    "start_time": "2025-01-12T18:12:03.473Z"
   },
   {
    "duration": 7,
    "start_time": "2025-01-12T18:12:12.225Z"
   },
   {
    "duration": 823,
    "start_time": "2025-01-12T18:12:21.812Z"
   },
   {
    "duration": 24,
    "start_time": "2025-01-12T18:12:22.638Z"
   },
   {
    "duration": 15,
    "start_time": "2025-01-12T18:12:22.665Z"
   },
   {
    "duration": 2,
    "start_time": "2025-01-12T18:12:22.682Z"
   },
   {
    "duration": 18,
    "start_time": "2025-01-12T18:12:22.687Z"
   },
   {
    "duration": 29,
    "start_time": "2025-01-12T18:12:22.706Z"
   },
   {
    "duration": 235,
    "start_time": "2025-01-12T18:12:22.737Z"
   },
   {
    "duration": 306,
    "start_time": "2025-01-12T18:12:22.974Z"
   },
   {
    "duration": 6,
    "start_time": "2025-01-12T18:12:23.282Z"
   },
   {
    "duration": 249,
    "start_time": "2025-01-12T18:12:23.289Z"
   },
   {
    "duration": 396,
    "start_time": "2025-01-12T18:12:23.540Z"
   },
   {
    "duration": 213,
    "start_time": "2025-01-12T18:12:23.938Z"
   },
   {
    "duration": 3,
    "start_time": "2025-01-12T18:12:24.152Z"
   },
   {
    "duration": 2,
    "start_time": "2025-01-12T18:12:24.158Z"
   },
   {
    "duration": 3,
    "start_time": "2025-01-12T18:12:24.161Z"
   },
   {
    "duration": 3,
    "start_time": "2025-01-12T18:12:24.166Z"
   },
   {
    "duration": 4,
    "start_time": "2025-01-12T18:12:24.170Z"
   },
   {
    "duration": 3,
    "start_time": "2025-01-12T18:12:24.176Z"
   },
   {
    "duration": 3,
    "start_time": "2025-01-12T18:12:24.180Z"
   },
   {
    "duration": 3,
    "start_time": "2025-01-12T18:12:24.185Z"
   },
   {
    "duration": 8,
    "start_time": "2025-01-12T18:12:24.215Z"
   },
   {
    "duration": 4,
    "start_time": "2025-01-12T18:14:23.828Z"
   },
   {
    "duration": 243,
    "start_time": "2025-01-12T18:21:08.256Z"
   },
   {
    "duration": 250,
    "start_time": "2025-01-12T18:21:33.769Z"
   },
   {
    "duration": 355,
    "start_time": "2025-01-12T18:25:20.936Z"
   },
   {
    "duration": 217,
    "start_time": "2025-01-12T18:25:40.572Z"
   },
   {
    "duration": 225,
    "start_time": "2025-01-12T18:26:08.785Z"
   },
   {
    "duration": 225,
    "start_time": "2025-01-12T18:26:46.291Z"
   },
   {
    "duration": 88,
    "start_time": "2025-01-12T18:31:54.186Z"
   },
   {
    "duration": 160,
    "start_time": "2025-01-12T18:34:31.304Z"
   },
   {
    "duration": 86,
    "start_time": "2025-01-12T18:34:51.594Z"
   },
   {
    "duration": 840,
    "start_time": "2025-01-12T18:35:27.942Z"
   },
   {
    "duration": 33,
    "start_time": "2025-01-12T18:35:28.785Z"
   },
   {
    "duration": 10,
    "start_time": "2025-01-12T18:35:28.821Z"
   },
   {
    "duration": 4,
    "start_time": "2025-01-12T18:35:28.836Z"
   },
   {
    "duration": 20,
    "start_time": "2025-01-12T18:35:28.842Z"
   },
   {
    "duration": 3,
    "start_time": "2025-01-12T18:35:28.865Z"
   },
   {
    "duration": 216,
    "start_time": "2025-01-12T18:35:28.870Z"
   },
   {
    "duration": 316,
    "start_time": "2025-01-12T18:35:29.088Z"
   },
   {
    "duration": 29,
    "start_time": "2025-01-12T18:35:29.406Z"
   },
   {
    "duration": 234,
    "start_time": "2025-01-12T18:35:29.438Z"
   },
   {
    "duration": 370,
    "start_time": "2025-01-12T18:35:29.674Z"
   },
   {
    "duration": 219,
    "start_time": "2025-01-12T18:35:30.046Z"
   },
   {
    "duration": 100,
    "start_time": "2025-01-12T18:35:30.267Z"
   },
   {
    "duration": 3,
    "start_time": "2025-01-12T18:35:30.369Z"
   },
   {
    "duration": 4,
    "start_time": "2025-01-12T18:35:30.373Z"
   },
   {
    "duration": 4,
    "start_time": "2025-01-12T18:35:30.378Z"
   },
   {
    "duration": 3,
    "start_time": "2025-01-12T18:35:30.385Z"
   },
   {
    "duration": 3,
    "start_time": "2025-01-12T18:35:30.390Z"
   },
   {
    "duration": 8,
    "start_time": "2025-01-12T18:35:30.411Z"
   },
   {
    "duration": 3,
    "start_time": "2025-01-12T18:35:30.423Z"
   },
   {
    "duration": 2,
    "start_time": "2025-01-12T18:35:30.428Z"
   },
   {
    "duration": 872,
    "start_time": "2025-01-12T18:36:21.776Z"
   },
   {
    "duration": 24,
    "start_time": "2025-01-12T18:36:22.650Z"
   },
   {
    "duration": 3,
    "start_time": "2025-01-12T18:36:22.675Z"
   },
   {
    "duration": 2,
    "start_time": "2025-01-12T18:36:22.680Z"
   },
   {
    "duration": 49,
    "start_time": "2025-01-12T18:36:22.685Z"
   },
   {
    "duration": 7,
    "start_time": "2025-01-12T18:36:22.736Z"
   },
   {
    "duration": 224,
    "start_time": "2025-01-12T18:36:22.751Z"
   },
   {
    "duration": 315,
    "start_time": "2025-01-12T18:36:22.977Z"
   },
   {
    "duration": 5,
    "start_time": "2025-01-12T18:36:23.294Z"
   },
   {
    "duration": 256,
    "start_time": "2025-01-12T18:36:23.312Z"
   },
   {
    "duration": 365,
    "start_time": "2025-01-12T18:36:23.570Z"
   },
   {
    "duration": 217,
    "start_time": "2025-01-12T18:36:23.937Z"
   },
   {
    "duration": 104,
    "start_time": "2025-01-12T18:36:24.156Z"
   },
   {
    "duration": 2,
    "start_time": "2025-01-12T18:36:24.263Z"
   },
   {
    "duration": 5,
    "start_time": "2025-01-12T18:36:24.266Z"
   },
   {
    "duration": 3,
    "start_time": "2025-01-12T18:36:24.272Z"
   },
   {
    "duration": 3,
    "start_time": "2025-01-12T18:36:24.277Z"
   },
   {
    "duration": 3,
    "start_time": "2025-01-12T18:36:24.282Z"
   },
   {
    "duration": 37,
    "start_time": "2025-01-12T18:36:24.286Z"
   },
   {
    "duration": 8,
    "start_time": "2025-01-12T18:36:24.326Z"
   },
   {
    "duration": 9,
    "start_time": "2025-01-12T18:36:24.336Z"
   },
   {
    "duration": 239,
    "start_time": "2025-01-12T18:37:31.219Z"
   },
   {
    "duration": 210,
    "start_time": "2025-01-12T18:38:01.469Z"
   },
   {
    "duration": 223,
    "start_time": "2025-01-12T18:39:54.251Z"
   },
   {
    "duration": 375,
    "start_time": "2025-01-12T18:50:23.371Z"
   },
   {
    "duration": 226,
    "start_time": "2025-01-12T18:58:38.584Z"
   },
   {
    "duration": 141,
    "start_time": "2025-01-12T19:00:52.367Z"
   },
   {
    "duration": 167,
    "start_time": "2025-01-12T19:01:39.909Z"
   },
   {
    "duration": 134,
    "start_time": "2025-01-12T19:03:29.121Z"
   },
   {
    "duration": 161,
    "start_time": "2025-01-12T19:03:45.272Z"
   },
   {
    "duration": 137,
    "start_time": "2025-01-12T19:04:01.648Z"
   },
   {
    "duration": 949,
    "start_time": "2025-01-12T19:06:37.233Z"
   },
   {
    "duration": 37,
    "start_time": "2025-01-12T19:06:38.184Z"
   },
   {
    "duration": 8,
    "start_time": "2025-01-12T19:06:38.223Z"
   },
   {
    "duration": 5,
    "start_time": "2025-01-12T19:06:38.234Z"
   },
   {
    "duration": 28,
    "start_time": "2025-01-12T19:06:38.246Z"
   },
   {
    "duration": 4,
    "start_time": "2025-01-12T19:06:38.277Z"
   },
   {
    "duration": 251,
    "start_time": "2025-01-12T19:06:38.284Z"
   },
   {
    "duration": 362,
    "start_time": "2025-01-12T19:06:38.537Z"
   },
   {
    "duration": 7,
    "start_time": "2025-01-12T19:06:38.901Z"
   },
   {
    "duration": 264,
    "start_time": "2025-01-12T19:06:38.920Z"
   },
   {
    "duration": 388,
    "start_time": "2025-01-12T19:06:39.186Z"
   },
   {
    "duration": 255,
    "start_time": "2025-01-12T19:06:39.576Z"
   },
   {
    "duration": 538,
    "start_time": "2025-01-12T19:06:39.833Z"
   },
   {
    "duration": 0,
    "start_time": "2025-01-12T19:06:40.374Z"
   },
   {
    "duration": 0,
    "start_time": "2025-01-12T19:06:40.375Z"
   },
   {
    "duration": 0,
    "start_time": "2025-01-12T19:06:40.376Z"
   },
   {
    "duration": 0,
    "start_time": "2025-01-12T19:06:40.377Z"
   },
   {
    "duration": 0,
    "start_time": "2025-01-12T19:06:40.378Z"
   },
   {
    "duration": 0,
    "start_time": "2025-01-12T19:06:40.379Z"
   },
   {
    "duration": 0,
    "start_time": "2025-01-12T19:06:40.380Z"
   },
   {
    "duration": 0,
    "start_time": "2025-01-12T19:06:40.381Z"
   },
   {
    "duration": 319,
    "start_time": "2025-01-12T19:06:54.561Z"
   },
   {
    "duration": 4,
    "start_time": "2025-01-12T19:07:16.761Z"
   },
   {
    "duration": 235,
    "start_time": "2025-01-12T19:07:31.803Z"
   },
   {
    "duration": 109,
    "start_time": "2025-01-12T19:08:13.044Z"
   },
   {
    "duration": 11,
    "start_time": "2025-01-12T19:21:11.225Z"
   },
   {
    "duration": 6,
    "start_time": "2025-01-12T19:24:10.366Z"
   },
   {
    "duration": 570,
    "start_time": "2025-01-12T19:25:36.317Z"
   },
   {
    "duration": 165,
    "start_time": "2025-01-12T19:25:45.040Z"
   },
   {
    "duration": 176,
    "start_time": "2025-01-12T19:26:51.983Z"
   },
   {
    "duration": 18,
    "start_time": "2025-01-12T19:42:13.585Z"
   },
   {
    "duration": 11,
    "start_time": "2025-01-12T19:42:59.620Z"
   },
   {
    "duration": 182,
    "start_time": "2025-01-12T19:43:06.568Z"
   },
   {
    "duration": 894,
    "start_time": "2025-01-12T19:45:01.345Z"
   },
   {
    "duration": 25,
    "start_time": "2025-01-12T19:45:02.241Z"
   },
   {
    "duration": 3,
    "start_time": "2025-01-12T19:45:02.269Z"
   },
   {
    "duration": 3,
    "start_time": "2025-01-12T19:45:02.273Z"
   },
   {
    "duration": 18,
    "start_time": "2025-01-12T19:45:02.279Z"
   },
   {
    "duration": 3,
    "start_time": "2025-01-12T19:45:02.299Z"
   },
   {
    "duration": 219,
    "start_time": "2025-01-12T19:45:02.319Z"
   },
   {
    "duration": 314,
    "start_time": "2025-01-12T19:45:02.541Z"
   },
   {
    "duration": 5,
    "start_time": "2025-01-12T19:45:02.857Z"
   },
   {
    "duration": 236,
    "start_time": "2025-01-12T19:45:02.864Z"
   },
   {
    "duration": 424,
    "start_time": "2025-01-12T19:45:03.103Z"
   },
   {
    "duration": 232,
    "start_time": "2025-01-12T19:45:03.532Z"
   },
   {
    "duration": 226,
    "start_time": "2025-01-12T19:45:03.766Z"
   },
   {
    "duration": 123,
    "start_time": "2025-01-12T19:45:03.996Z"
   },
   {
    "duration": 4,
    "start_time": "2025-01-12T19:45:04.121Z"
   },
   {
    "duration": 169,
    "start_time": "2025-01-12T19:45:04.127Z"
   },
   {
    "duration": 353,
    "start_time": "2025-01-12T19:45:04.298Z"
   },
   {
    "duration": 0,
    "start_time": "2025-01-12T19:45:04.653Z"
   },
   {
    "duration": 0,
    "start_time": "2025-01-12T19:45:04.657Z"
   },
   {
    "duration": 0,
    "start_time": "2025-01-12T19:45:04.659Z"
   },
   {
    "duration": 0,
    "start_time": "2025-01-12T19:45:04.660Z"
   },
   {
    "duration": 13,
    "start_time": "2025-01-12T19:45:34.035Z"
   },
   {
    "duration": 13,
    "start_time": "2025-01-12T19:46:53.159Z"
   },
   {
    "duration": 23,
    "start_time": "2025-01-12T19:47:45.430Z"
   },
   {
    "duration": 237,
    "start_time": "2025-01-12T19:48:43.994Z"
   },
   {
    "duration": 224,
    "start_time": "2025-01-12T19:49:55.947Z"
   },
   {
    "duration": 234,
    "start_time": "2025-01-12T19:51:24.157Z"
   },
   {
    "duration": 226,
    "start_time": "2025-01-12T19:57:41.074Z"
   },
   {
    "duration": 221,
    "start_time": "2025-01-12T19:59:23.352Z"
   },
   {
    "duration": 187,
    "start_time": "2025-01-12T20:02:17.666Z"
   },
   {
    "duration": 22,
    "start_time": "2025-01-12T20:17:04.836Z"
   },
   {
    "duration": 912,
    "start_time": "2025-01-12T20:17:47.705Z"
   },
   {
    "duration": 33,
    "start_time": "2025-01-12T20:17:48.623Z"
   },
   {
    "duration": 2,
    "start_time": "2025-01-12T20:17:48.658Z"
   },
   {
    "duration": 3,
    "start_time": "2025-01-12T20:17:48.662Z"
   },
   {
    "duration": 20,
    "start_time": "2025-01-12T20:17:48.667Z"
   },
   {
    "duration": 38,
    "start_time": "2025-01-12T20:17:48.689Z"
   },
   {
    "duration": 223,
    "start_time": "2025-01-12T20:17:48.744Z"
   },
   {
    "duration": 343,
    "start_time": "2025-01-12T20:17:48.969Z"
   },
   {
    "duration": 8,
    "start_time": "2025-01-12T20:17:49.324Z"
   },
   {
    "duration": 238,
    "start_time": "2025-01-12T20:17:49.334Z"
   },
   {
    "duration": 379,
    "start_time": "2025-01-12T20:17:49.574Z"
   },
   {
    "duration": 246,
    "start_time": "2025-01-12T20:17:49.955Z"
   },
   {
    "duration": 232,
    "start_time": "2025-01-12T20:17:50.203Z"
   },
   {
    "duration": 107,
    "start_time": "2025-01-12T20:17:50.439Z"
   },
   {
    "duration": 3,
    "start_time": "2025-01-12T20:17:50.547Z"
   },
   {
    "duration": 187,
    "start_time": "2025-01-12T20:17:50.552Z"
   },
   {
    "duration": 240,
    "start_time": "2025-01-12T20:17:50.742Z"
   },
   {
    "duration": 257,
    "start_time": "2025-01-12T20:17:50.984Z"
   },
   {
    "duration": 278,
    "start_time": "2025-01-12T20:17:51.244Z"
   },
   {
    "duration": 719,
    "start_time": "2025-01-12T20:17:51.525Z"
   },
   {
    "duration": 0,
    "start_time": "2025-01-12T20:17:52.246Z"
   },
   {
    "duration": 11,
    "start_time": "2025-01-12T20:19:48.084Z"
   },
   {
    "duration": 20,
    "start_time": "2025-01-12T20:20:16.800Z"
   },
   {
    "duration": 903,
    "start_time": "2025-01-12T20:23:03.837Z"
   },
   {
    "duration": 26,
    "start_time": "2025-01-12T20:23:04.745Z"
   },
   {
    "duration": 3,
    "start_time": "2025-01-12T20:23:04.773Z"
   },
   {
    "duration": 2,
    "start_time": "2025-01-12T20:23:04.778Z"
   },
   {
    "duration": 19,
    "start_time": "2025-01-12T20:23:04.781Z"
   },
   {
    "duration": 15,
    "start_time": "2025-01-12T20:23:04.801Z"
   },
   {
    "duration": 261,
    "start_time": "2025-01-12T20:23:04.819Z"
   },
   {
    "duration": 341,
    "start_time": "2025-01-12T20:23:05.082Z"
   },
   {
    "duration": 7,
    "start_time": "2025-01-12T20:23:05.440Z"
   },
   {
    "duration": 238,
    "start_time": "2025-01-12T20:23:05.450Z"
   },
   {
    "duration": 356,
    "start_time": "2025-01-12T20:23:05.690Z"
   },
   {
    "duration": 232,
    "start_time": "2025-01-12T20:23:06.048Z"
   },
   {
    "duration": 219,
    "start_time": "2025-01-12T20:23:06.282Z"
   },
   {
    "duration": 104,
    "start_time": "2025-01-12T20:23:06.503Z"
   },
   {
    "duration": 16,
    "start_time": "2025-01-12T20:23:06.619Z"
   },
   {
    "duration": 157,
    "start_time": "2025-01-12T20:23:06.640Z"
   },
   {
    "duration": 240,
    "start_time": "2025-01-12T20:23:06.799Z"
   },
   {
    "duration": 239,
    "start_time": "2025-01-12T20:23:07.041Z"
   },
   {
    "duration": 272,
    "start_time": "2025-01-12T20:23:07.283Z"
   },
   {
    "duration": 7,
    "start_time": "2025-01-12T20:23:07.556Z"
   },
   {
    "duration": 2,
    "start_time": "2025-01-12T20:23:07.564Z"
   },
   {
    "duration": 7,
    "start_time": "2025-01-12T20:23:19.951Z"
   },
   {
    "duration": 5,
    "start_time": "2025-01-12T20:23:33.893Z"
   },
   {
    "duration": 6,
    "start_time": "2025-01-12T20:25:47.573Z"
   },
   {
    "duration": 11,
    "start_time": "2025-01-12T20:26:07.197Z"
   },
   {
    "duration": 16,
    "start_time": "2025-01-12T20:26:37.847Z"
   },
   {
    "duration": 3,
    "start_time": "2025-01-12T20:27:10.736Z"
   },
   {
    "duration": 262,
    "start_time": "2025-01-12T20:41:38.972Z"
   },
   {
    "duration": 6,
    "start_time": "2025-01-12T20:48:56.826Z"
   },
   {
    "duration": 4,
    "start_time": "2025-01-12T20:49:48.699Z"
   },
   {
    "duration": 815,
    "start_time": "2025-01-12T20:49:58.934Z"
   },
   {
    "duration": 190,
    "start_time": "2025-01-12T20:51:29.249Z"
   },
   {
    "duration": 56,
    "start_time": "2025-01-12T20:51:51.216Z"
   },
   {
    "duration": 16,
    "start_time": "2025-01-12T20:52:14.973Z"
   },
   {
    "duration": 459,
    "start_time": "2025-01-12T20:52:59.032Z"
   },
   {
    "duration": 367,
    "start_time": "2025-01-12T20:55:07.737Z"
   },
   {
    "duration": 886,
    "start_time": "2025-01-12T20:55:36.951Z"
   },
   {
    "duration": 25,
    "start_time": "2025-01-12T20:55:37.840Z"
   },
   {
    "duration": 3,
    "start_time": "2025-01-12T20:55:37.866Z"
   },
   {
    "duration": 3,
    "start_time": "2025-01-12T20:55:37.870Z"
   },
   {
    "duration": 44,
    "start_time": "2025-01-12T20:55:37.878Z"
   },
   {
    "duration": 10,
    "start_time": "2025-01-12T20:55:37.925Z"
   },
   {
    "duration": 228,
    "start_time": "2025-01-12T20:55:37.937Z"
   },
   {
    "duration": 303,
    "start_time": "2025-01-12T20:55:38.167Z"
   },
   {
    "duration": 6,
    "start_time": "2025-01-12T20:55:38.471Z"
   },
   {
    "duration": 248,
    "start_time": "2025-01-12T20:55:38.479Z"
   },
   {
    "duration": 408,
    "start_time": "2025-01-12T20:55:38.731Z"
   },
   {
    "duration": 224,
    "start_time": "2025-01-12T20:55:39.142Z"
   },
   {
    "duration": 216,
    "start_time": "2025-01-12T20:55:39.369Z"
   },
   {
    "duration": 108,
    "start_time": "2025-01-12T20:55:39.589Z"
   },
   {
    "duration": 2,
    "start_time": "2025-01-12T20:55:39.699Z"
   },
   {
    "duration": 183,
    "start_time": "2025-01-12T20:55:39.703Z"
   },
   {
    "duration": 254,
    "start_time": "2025-01-12T20:55:39.888Z"
   },
   {
    "duration": 230,
    "start_time": "2025-01-12T20:55:40.144Z"
   },
   {
    "duration": 280,
    "start_time": "2025-01-12T20:55:40.375Z"
   },
   {
    "duration": 912,
    "start_time": "2025-01-12T20:55:40.657Z"
   },
   {
    "duration": 0,
    "start_time": "2025-01-12T20:55:41.571Z"
   },
   {
    "duration": 75,
    "start_time": "2025-01-12T20:57:55.592Z"
   },
   {
    "duration": 23,
    "start_time": "2025-01-12T20:59:01.428Z"
   },
   {
    "duration": 17,
    "start_time": "2025-01-12T20:59:50.435Z"
   },
   {
    "duration": 559,
    "start_time": "2025-01-12T21:04:40.704Z"
   },
   {
    "duration": 17,
    "start_time": "2025-01-12T21:10:17.872Z"
   },
   {
    "duration": 17,
    "start_time": "2025-01-12T21:10:49.136Z"
   },
   {
    "duration": 54,
    "start_time": "2025-01-12T21:11:05.733Z"
   },
   {
    "duration": 17,
    "start_time": "2025-01-12T21:11:34.137Z"
   },
   {
    "duration": 15,
    "start_time": "2025-01-12T21:11:56.532Z"
   },
   {
    "duration": 18,
    "start_time": "2025-01-12T21:14:11.063Z"
   },
   {
    "duration": 166,
    "start_time": "2025-01-12T21:15:33.982Z"
   },
   {
    "duration": 21,
    "start_time": "2025-01-12T21:16:08.831Z"
   },
   {
    "duration": 499,
    "start_time": "2025-01-12T21:20:53.299Z"
   },
   {
    "duration": 18,
    "start_time": "2025-01-12T21:21:48.471Z"
   },
   {
    "duration": 20,
    "start_time": "2025-01-12T21:22:35.547Z"
   },
   {
    "duration": 20,
    "start_time": "2025-01-12T21:23:09.437Z"
   },
   {
    "duration": 10,
    "start_time": "2025-01-12T21:23:29.995Z"
   },
   {
    "duration": 9,
    "start_time": "2025-01-12T21:24:21.149Z"
   },
   {
    "duration": 26,
    "start_time": "2025-01-12T21:30:47.636Z"
   },
   {
    "duration": 12,
    "start_time": "2025-01-12T21:31:14.096Z"
   },
   {
    "duration": 10,
    "start_time": "2025-01-12T21:56:23.148Z"
   },
   {
    "duration": 2478,
    "start_time": "2025-01-13T14:51:18.438Z"
   },
   {
    "duration": 43,
    "start_time": "2025-01-13T14:51:20.918Z"
   },
   {
    "duration": 3,
    "start_time": "2025-01-13T14:51:20.963Z"
   },
   {
    "duration": 3,
    "start_time": "2025-01-13T14:51:20.968Z"
   },
   {
    "duration": 128,
    "start_time": "2025-01-13T14:51:22.728Z"
   },
   {
    "duration": 3,
    "start_time": "2025-01-13T14:52:08.124Z"
   },
   {
    "duration": 12,
    "start_time": "2025-01-13T14:52:24.604Z"
   },
   {
    "duration": 4,
    "start_time": "2025-01-13T14:52:58.086Z"
   },
   {
    "duration": 12,
    "start_time": "2025-01-13T14:53:52.599Z"
   },
   {
    "duration": 107,
    "start_time": "2025-01-13T14:56:13.860Z"
   },
   {
    "duration": 17,
    "start_time": "2025-01-13T14:56:41.885Z"
   },
   {
    "duration": 12,
    "start_time": "2025-01-13T14:56:50.900Z"
   },
   {
    "duration": 4,
    "start_time": "2025-01-13T14:59:03.332Z"
   },
   {
    "duration": 12,
    "start_time": "2025-01-13T14:59:10.040Z"
   },
   {
    "duration": 811,
    "start_time": "2025-01-13T15:11:10.651Z"
   },
   {
    "duration": 26,
    "start_time": "2025-01-13T15:11:11.469Z"
   },
   {
    "duration": 3,
    "start_time": "2025-01-13T15:11:11.497Z"
   },
   {
    "duration": 3,
    "start_time": "2025-01-13T15:11:11.503Z"
   },
   {
    "duration": 5,
    "start_time": "2025-01-13T15:11:11.507Z"
   },
   {
    "duration": 0,
    "start_time": "2025-01-13T15:11:11.515Z"
   },
   {
    "duration": 0,
    "start_time": "2025-01-13T15:11:11.516Z"
   },
   {
    "duration": 0,
    "start_time": "2025-01-13T15:11:11.518Z"
   },
   {
    "duration": 0,
    "start_time": "2025-01-13T15:11:11.519Z"
   },
   {
    "duration": 0,
    "start_time": "2025-01-13T15:11:11.520Z"
   },
   {
    "duration": 0,
    "start_time": "2025-01-13T15:11:11.522Z"
   },
   {
    "duration": 0,
    "start_time": "2025-01-13T15:11:11.523Z"
   },
   {
    "duration": 0,
    "start_time": "2025-01-13T15:11:11.526Z"
   },
   {
    "duration": 0,
    "start_time": "2025-01-13T15:11:11.528Z"
   },
   {
    "duration": 0,
    "start_time": "2025-01-13T15:11:11.529Z"
   },
   {
    "duration": 0,
    "start_time": "2025-01-13T15:11:11.531Z"
   },
   {
    "duration": 0,
    "start_time": "2025-01-13T15:11:11.532Z"
   },
   {
    "duration": 0,
    "start_time": "2025-01-13T15:11:11.533Z"
   },
   {
    "duration": 0,
    "start_time": "2025-01-13T15:11:11.570Z"
   },
   {
    "duration": 0,
    "start_time": "2025-01-13T15:11:11.572Z"
   },
   {
    "duration": 0,
    "start_time": "2025-01-13T15:11:11.574Z"
   },
   {
    "duration": 0,
    "start_time": "2025-01-13T15:11:11.575Z"
   },
   {
    "duration": 0,
    "start_time": "2025-01-13T15:11:11.576Z"
   },
   {
    "duration": 797,
    "start_time": "2025-01-13T15:11:42.548Z"
   },
   {
    "duration": 28,
    "start_time": "2025-01-13T15:11:43.347Z"
   },
   {
    "duration": 2,
    "start_time": "2025-01-13T15:11:43.377Z"
   },
   {
    "duration": 2,
    "start_time": "2025-01-13T15:11:43.382Z"
   },
   {
    "duration": 19,
    "start_time": "2025-01-13T15:11:43.385Z"
   },
   {
    "duration": 3,
    "start_time": "2025-01-13T15:11:43.406Z"
   },
   {
    "duration": 221,
    "start_time": "2025-01-13T15:11:43.411Z"
   },
   {
    "duration": 270,
    "start_time": "2025-01-13T15:11:43.634Z"
   },
   {
    "duration": 6,
    "start_time": "2025-01-13T15:11:43.906Z"
   },
   {
    "duration": 220,
    "start_time": "2025-01-13T15:11:43.915Z"
   },
   {
    "duration": 328,
    "start_time": "2025-01-13T15:11:44.137Z"
   },
   {
    "duration": 200,
    "start_time": "2025-01-13T15:11:44.471Z"
   },
   {
    "duration": 191,
    "start_time": "2025-01-13T15:11:44.673Z"
   },
   {
    "duration": 88,
    "start_time": "2025-01-13T15:11:44.869Z"
   },
   {
    "duration": 1140,
    "start_time": "2025-01-13T15:11:44.959Z"
   },
   {
    "duration": 0,
    "start_time": "2025-01-13T15:11:46.101Z"
   },
   {
    "duration": 0,
    "start_time": "2025-01-13T15:11:46.102Z"
   },
   {
    "duration": 0,
    "start_time": "2025-01-13T15:11:46.104Z"
   },
   {
    "duration": 0,
    "start_time": "2025-01-13T15:11:46.106Z"
   },
   {
    "duration": 0,
    "start_time": "2025-01-13T15:11:46.107Z"
   },
   {
    "duration": 0,
    "start_time": "2025-01-13T15:11:46.109Z"
   },
   {
    "duration": 0,
    "start_time": "2025-01-13T15:11:46.110Z"
   },
   {
    "duration": 151,
    "start_time": "2025-01-13T15:14:24.407Z"
   },
   {
    "duration": 171,
    "start_time": "2025-01-13T15:15:46.992Z"
   },
   {
    "duration": 790,
    "start_time": "2025-01-13T15:15:55.339Z"
   },
   {
    "duration": 23,
    "start_time": "2025-01-13T15:15:56.131Z"
   },
   {
    "duration": 3,
    "start_time": "2025-01-13T15:15:56.156Z"
   },
   {
    "duration": 2,
    "start_time": "2025-01-13T15:15:56.170Z"
   },
   {
    "duration": 21,
    "start_time": "2025-01-13T15:15:56.174Z"
   },
   {
    "duration": 3,
    "start_time": "2025-01-13T15:15:56.197Z"
   },
   {
    "duration": 229,
    "start_time": "2025-01-13T15:15:56.202Z"
   },
   {
    "duration": 295,
    "start_time": "2025-01-13T15:15:56.433Z"
   },
   {
    "duration": 5,
    "start_time": "2025-01-13T15:15:56.730Z"
   },
   {
    "duration": 221,
    "start_time": "2025-01-13T15:15:56.738Z"
   },
   {
    "duration": 355,
    "start_time": "2025-01-13T15:15:56.961Z"
   },
   {
    "duration": 207,
    "start_time": "2025-01-13T15:15:57.318Z"
   },
   {
    "duration": 204,
    "start_time": "2025-01-13T15:15:57.527Z"
   },
   {
    "duration": 105,
    "start_time": "2025-01-13T15:15:57.733Z"
   },
   {
    "duration": 555,
    "start_time": "2025-01-13T15:15:57.840Z"
   },
   {
    "duration": 0,
    "start_time": "2025-01-13T15:15:58.397Z"
   },
   {
    "duration": 0,
    "start_time": "2025-01-13T15:15:58.398Z"
   },
   {
    "duration": 0,
    "start_time": "2025-01-13T15:15:58.399Z"
   },
   {
    "duration": 0,
    "start_time": "2025-01-13T15:15:58.400Z"
   },
   {
    "duration": 0,
    "start_time": "2025-01-13T15:15:58.402Z"
   },
   {
    "duration": 0,
    "start_time": "2025-01-13T15:15:58.403Z"
   },
   {
    "duration": 0,
    "start_time": "2025-01-13T15:15:58.405Z"
   },
   {
    "duration": 5,
    "start_time": "2025-01-13T15:16:54.481Z"
   },
   {
    "duration": 17,
    "start_time": "2025-01-13T15:17:12.887Z"
   },
   {
    "duration": 802,
    "start_time": "2025-01-13T15:17:38.207Z"
   },
   {
    "duration": 24,
    "start_time": "2025-01-13T15:17:39.011Z"
   },
   {
    "duration": 3,
    "start_time": "2025-01-13T15:17:39.036Z"
   },
   {
    "duration": 3,
    "start_time": "2025-01-13T15:17:39.040Z"
   },
   {
    "duration": 32,
    "start_time": "2025-01-13T15:17:39.045Z"
   },
   {
    "duration": 4,
    "start_time": "2025-01-13T15:17:39.079Z"
   },
   {
    "duration": 235,
    "start_time": "2025-01-13T15:17:39.084Z"
   },
   {
    "duration": 277,
    "start_time": "2025-01-13T15:17:39.321Z"
   },
   {
    "duration": 6,
    "start_time": "2025-01-13T15:17:39.599Z"
   },
   {
    "duration": 212,
    "start_time": "2025-01-13T15:17:39.607Z"
   },
   {
    "duration": 340,
    "start_time": "2025-01-13T15:17:39.820Z"
   },
   {
    "duration": 209,
    "start_time": "2025-01-13T15:17:40.162Z"
   },
   {
    "duration": 194,
    "start_time": "2025-01-13T15:17:40.372Z"
   },
   {
    "duration": 97,
    "start_time": "2025-01-13T15:17:40.573Z"
   },
   {
    "duration": 134,
    "start_time": "2025-01-13T15:17:40.672Z"
   },
   {
    "duration": 0,
    "start_time": "2025-01-13T15:17:40.808Z"
   },
   {
    "duration": 0,
    "start_time": "2025-01-13T15:17:40.810Z"
   },
   {
    "duration": 0,
    "start_time": "2025-01-13T15:17:40.811Z"
   },
   {
    "duration": 0,
    "start_time": "2025-01-13T15:17:40.813Z"
   },
   {
    "duration": 0,
    "start_time": "2025-01-13T15:17:40.815Z"
   },
   {
    "duration": 0,
    "start_time": "2025-01-13T15:17:40.815Z"
   },
   {
    "duration": 0,
    "start_time": "2025-01-13T15:17:40.816Z"
   },
   {
    "duration": 10,
    "start_time": "2025-01-13T15:18:08.255Z"
   },
   {
    "duration": 11,
    "start_time": "2025-01-13T15:18:59.379Z"
   },
   {
    "duration": 12,
    "start_time": "2025-01-13T15:19:11.023Z"
   },
   {
    "duration": 704,
    "start_time": "2025-01-13T15:21:23.653Z"
   },
   {
    "duration": 15,
    "start_time": "2025-01-13T15:23:18.521Z"
   },
   {
    "duration": 17,
    "start_time": "2025-01-13T15:23:41.665Z"
   },
   {
    "duration": 12,
    "start_time": "2025-01-13T15:25:19.732Z"
   },
   {
    "duration": 15,
    "start_time": "2025-01-13T15:26:15.513Z"
   },
   {
    "duration": 11,
    "start_time": "2025-01-13T15:42:19.463Z"
   },
   {
    "duration": 15,
    "start_time": "2025-01-13T15:43:48.720Z"
   },
   {
    "duration": 5,
    "start_time": "2025-01-13T15:44:51.870Z"
   },
   {
    "duration": 72,
    "start_time": "2025-01-13T15:44:59.083Z"
   },
   {
    "duration": 45,
    "start_time": "2025-01-13T15:48:00.869Z"
   },
   {
    "duration": 44,
    "start_time": "2025-01-13T15:48:29.989Z"
   },
   {
    "duration": 854,
    "start_time": "2025-01-13T15:48:48.803Z"
   },
   {
    "duration": 25,
    "start_time": "2025-01-13T15:48:49.660Z"
   },
   {
    "duration": 2,
    "start_time": "2025-01-13T15:48:49.687Z"
   },
   {
    "duration": 3,
    "start_time": "2025-01-13T15:48:49.691Z"
   },
   {
    "duration": 50,
    "start_time": "2025-01-13T15:48:49.697Z"
   },
   {
    "duration": 37,
    "start_time": "2025-01-13T15:48:49.749Z"
   },
   {
    "duration": 4,
    "start_time": "2025-01-13T15:48:49.788Z"
   },
   {
    "duration": 250,
    "start_time": "2025-01-13T15:48:49.794Z"
   },
   {
    "duration": 304,
    "start_time": "2025-01-13T15:48:50.047Z"
   },
   {
    "duration": 6,
    "start_time": "2025-01-13T15:48:50.354Z"
   },
   {
    "duration": 212,
    "start_time": "2025-01-13T15:48:50.369Z"
   },
   {
    "duration": 371,
    "start_time": "2025-01-13T15:48:50.583Z"
   },
   {
    "duration": 206,
    "start_time": "2025-01-13T15:48:50.958Z"
   },
   {
    "duration": 243,
    "start_time": "2025-01-13T15:48:51.167Z"
   },
   {
    "duration": 122,
    "start_time": "2025-01-13T15:48:51.412Z"
   },
   {
    "duration": 166,
    "start_time": "2025-01-13T15:48:51.536Z"
   },
   {
    "duration": 0,
    "start_time": "2025-01-13T15:48:51.703Z"
   },
   {
    "duration": 0,
    "start_time": "2025-01-13T15:48:51.705Z"
   },
   {
    "duration": 0,
    "start_time": "2025-01-13T15:48:51.706Z"
   },
   {
    "duration": 0,
    "start_time": "2025-01-13T15:48:51.707Z"
   },
   {
    "duration": 0,
    "start_time": "2025-01-13T15:48:51.708Z"
   },
   {
    "duration": 0,
    "start_time": "2025-01-13T15:48:51.708Z"
   },
   {
    "duration": 0,
    "start_time": "2025-01-13T15:48:51.709Z"
   },
   {
    "duration": 5,
    "start_time": "2025-01-13T15:49:16.241Z"
   },
   {
    "duration": 5,
    "start_time": "2025-01-13T15:49:32.240Z"
   },
   {
    "duration": 68,
    "start_time": "2025-01-13T15:49:56.464Z"
   },
   {
    "duration": 808,
    "start_time": "2025-01-13T15:50:02.759Z"
   },
   {
    "duration": 24,
    "start_time": "2025-01-13T15:50:03.570Z"
   },
   {
    "duration": 3,
    "start_time": "2025-01-13T15:50:03.596Z"
   },
   {
    "duration": 2,
    "start_time": "2025-01-13T15:50:03.602Z"
   },
   {
    "duration": 63,
    "start_time": "2025-01-13T15:50:03.607Z"
   },
   {
    "duration": 20,
    "start_time": "2025-01-13T15:50:03.672Z"
   },
   {
    "duration": 3,
    "start_time": "2025-01-13T15:50:03.694Z"
   },
   {
    "duration": 228,
    "start_time": "2025-01-13T15:50:03.699Z"
   },
   {
    "duration": 272,
    "start_time": "2025-01-13T15:50:03.931Z"
   },
   {
    "duration": 5,
    "start_time": "2025-01-13T15:50:04.207Z"
   },
   {
    "duration": 232,
    "start_time": "2025-01-13T15:50:04.214Z"
   },
   {
    "duration": 408,
    "start_time": "2025-01-13T15:50:04.449Z"
   },
   {
    "duration": 207,
    "start_time": "2025-01-13T15:50:04.859Z"
   },
   {
    "duration": 228,
    "start_time": "2025-01-13T15:50:05.070Z"
   },
   {
    "duration": 96,
    "start_time": "2025-01-13T15:50:05.300Z"
   },
   {
    "duration": 141,
    "start_time": "2025-01-13T15:50:05.397Z"
   },
   {
    "duration": 0,
    "start_time": "2025-01-13T15:50:05.540Z"
   },
   {
    "duration": 0,
    "start_time": "2025-01-13T15:50:05.541Z"
   },
   {
    "duration": 0,
    "start_time": "2025-01-13T15:50:05.542Z"
   },
   {
    "duration": 0,
    "start_time": "2025-01-13T15:50:05.543Z"
   },
   {
    "duration": 0,
    "start_time": "2025-01-13T15:50:05.544Z"
   },
   {
    "duration": 0,
    "start_time": "2025-01-13T15:50:05.545Z"
   },
   {
    "duration": 0,
    "start_time": "2025-01-13T15:50:05.546Z"
   },
   {
    "duration": 799,
    "start_time": "2025-01-13T15:57:04.749Z"
   },
   {
    "duration": 29,
    "start_time": "2025-01-13T15:57:05.551Z"
   },
   {
    "duration": 3,
    "start_time": "2025-01-13T15:57:05.582Z"
   },
   {
    "duration": 2,
    "start_time": "2025-01-13T15:57:05.587Z"
   },
   {
    "duration": 21,
    "start_time": "2025-01-13T15:57:05.591Z"
   },
   {
    "duration": 4,
    "start_time": "2025-01-13T15:57:05.613Z"
   },
   {
    "duration": 218,
    "start_time": "2025-01-13T15:57:05.619Z"
   },
   {
    "duration": 285,
    "start_time": "2025-01-13T15:57:05.839Z"
   },
   {
    "duration": 5,
    "start_time": "2025-01-13T15:57:06.126Z"
   },
   {
    "duration": 228,
    "start_time": "2025-01-13T15:57:06.135Z"
   },
   {
    "duration": 350,
    "start_time": "2025-01-13T15:57:06.365Z"
   },
   {
    "duration": 206,
    "start_time": "2025-01-13T15:57:06.717Z"
   },
   {
    "duration": 210,
    "start_time": "2025-01-13T15:57:06.925Z"
   },
   {
    "duration": 106,
    "start_time": "2025-01-13T15:57:07.137Z"
   },
   {
    "duration": 134,
    "start_time": "2025-01-13T15:57:07.245Z"
   },
   {
    "duration": 0,
    "start_time": "2025-01-13T15:57:07.381Z"
   },
   {
    "duration": 0,
    "start_time": "2025-01-13T15:57:07.383Z"
   },
   {
    "duration": 0,
    "start_time": "2025-01-13T15:57:07.384Z"
   },
   {
    "duration": 0,
    "start_time": "2025-01-13T15:57:07.386Z"
   },
   {
    "duration": 0,
    "start_time": "2025-01-13T15:57:07.387Z"
   },
   {
    "duration": 0,
    "start_time": "2025-01-13T15:57:07.389Z"
   },
   {
    "duration": 0,
    "start_time": "2025-01-13T15:57:07.390Z"
   },
   {
    "duration": 429,
    "start_time": "2025-01-13T15:59:00.350Z"
   },
   {
    "duration": 4,
    "start_time": "2025-01-13T15:59:19.721Z"
   },
   {
    "duration": 6,
    "start_time": "2025-01-13T15:59:56.036Z"
   },
   {
    "duration": 400,
    "start_time": "2025-01-13T16:00:48.146Z"
   },
   {
    "duration": 34,
    "start_time": "2025-01-13T16:01:01.870Z"
   },
   {
    "duration": 6,
    "start_time": "2025-01-13T16:01:31.961Z"
   },
   {
    "duration": 10,
    "start_time": "2025-01-13T16:02:52.987Z"
   },
   {
    "duration": 12,
    "start_time": "2025-01-13T16:04:10.676Z"
   },
   {
    "duration": 15,
    "start_time": "2025-01-13T16:04:49.119Z"
   },
   {
    "duration": 15,
    "start_time": "2025-01-13T16:04:55.625Z"
   },
   {
    "duration": 105,
    "start_time": "2025-01-13T16:06:25.071Z"
   },
   {
    "duration": 96,
    "start_time": "2025-01-13T16:07:00.184Z"
   },
   {
    "duration": 17,
    "start_time": "2025-01-13T16:21:19.761Z"
   },
   {
    "duration": 817,
    "start_time": "2025-01-13T16:21:32.236Z"
   },
   {
    "duration": 29,
    "start_time": "2025-01-13T16:21:33.056Z"
   },
   {
    "duration": 3,
    "start_time": "2025-01-13T16:21:33.086Z"
   },
   {
    "duration": 3,
    "start_time": "2025-01-13T16:21:33.091Z"
   },
   {
    "duration": 150,
    "start_time": "2025-01-13T16:21:33.095Z"
   },
   {
    "duration": 0,
    "start_time": "2025-01-13T16:21:33.248Z"
   },
   {
    "duration": 0,
    "start_time": "2025-01-13T16:21:33.249Z"
   },
   {
    "duration": 0,
    "start_time": "2025-01-13T16:21:33.250Z"
   },
   {
    "duration": 0,
    "start_time": "2025-01-13T16:21:33.252Z"
   },
   {
    "duration": 0,
    "start_time": "2025-01-13T16:21:33.270Z"
   },
   {
    "duration": 0,
    "start_time": "2025-01-13T16:21:33.271Z"
   },
   {
    "duration": 0,
    "start_time": "2025-01-13T16:21:33.272Z"
   },
   {
    "duration": 0,
    "start_time": "2025-01-13T16:21:33.273Z"
   },
   {
    "duration": 0,
    "start_time": "2025-01-13T16:21:33.273Z"
   },
   {
    "duration": 0,
    "start_time": "2025-01-13T16:21:33.274Z"
   },
   {
    "duration": 0,
    "start_time": "2025-01-13T16:21:33.276Z"
   },
   {
    "duration": 0,
    "start_time": "2025-01-13T16:21:33.277Z"
   },
   {
    "duration": 0,
    "start_time": "2025-01-13T16:21:33.277Z"
   },
   {
    "duration": 0,
    "start_time": "2025-01-13T16:21:33.279Z"
   },
   {
    "duration": 0,
    "start_time": "2025-01-13T16:21:33.280Z"
   },
   {
    "duration": 0,
    "start_time": "2025-01-13T16:21:33.280Z"
   },
   {
    "duration": 0,
    "start_time": "2025-01-13T16:21:33.281Z"
   },
   {
    "duration": 0,
    "start_time": "2025-01-13T16:21:33.283Z"
   },
   {
    "duration": 169,
    "start_time": "2025-01-13T16:22:38.862Z"
   },
   {
    "duration": 917,
    "start_time": "2025-01-13T16:23:03.958Z"
   },
   {
    "duration": 213,
    "start_time": "2025-01-13T16:23:57.404Z"
   },
   {
    "duration": 5,
    "start_time": "2025-01-13T16:35:32.714Z"
   },
   {
    "duration": 29,
    "start_time": "2025-01-13T16:36:03.754Z"
   },
   {
    "duration": 179,
    "start_time": "2025-01-13T16:37:00.366Z"
   },
   {
    "duration": 856,
    "start_time": "2025-01-13T16:37:32.710Z"
   },
   {
    "duration": 24,
    "start_time": "2025-01-13T16:37:33.570Z"
   },
   {
    "duration": 2,
    "start_time": "2025-01-13T16:37:33.596Z"
   },
   {
    "duration": 2,
    "start_time": "2025-01-13T16:37:33.602Z"
   },
   {
    "duration": 247,
    "start_time": "2025-01-13T16:37:33.606Z"
   },
   {
    "duration": 186,
    "start_time": "2025-01-13T16:37:33.858Z"
   },
   {
    "duration": 3,
    "start_time": "2025-01-13T16:37:34.046Z"
   },
   {
    "duration": 188,
    "start_time": "2025-01-13T16:37:34.051Z"
   },
   {
    "duration": 279,
    "start_time": "2025-01-13T16:37:34.270Z"
   },
   {
    "duration": 6,
    "start_time": "2025-01-13T16:37:34.552Z"
   },
   {
    "duration": 239,
    "start_time": "2025-01-13T16:37:34.559Z"
   },
   {
    "duration": 376,
    "start_time": "2025-01-13T16:37:34.800Z"
   },
   {
    "duration": 250,
    "start_time": "2025-01-13T16:37:35.178Z"
   },
   {
    "duration": 196,
    "start_time": "2025-01-13T16:37:35.430Z"
   },
   {
    "duration": 103,
    "start_time": "2025-01-13T16:37:35.628Z"
   },
   {
    "duration": 135,
    "start_time": "2025-01-13T16:37:35.733Z"
   },
   {
    "duration": 15,
    "start_time": "2025-01-13T16:37:35.871Z"
   },
   {
    "duration": 144,
    "start_time": "2025-01-13T16:37:35.888Z"
   },
   {
    "duration": 224,
    "start_time": "2025-01-13T16:37:36.034Z"
   },
   {
    "duration": 326,
    "start_time": "2025-01-13T16:37:36.260Z"
   },
   {
    "duration": 218,
    "start_time": "2025-01-13T16:37:36.588Z"
   },
   {
    "duration": 11,
    "start_time": "2025-01-13T16:37:36.808Z"
   },
   {
    "duration": 10,
    "start_time": "2025-01-13T16:37:36.820Z"
   },
   {
    "duration": 815,
    "start_time": "2025-01-13T16:41:09.120Z"
   },
   {
    "duration": 24,
    "start_time": "2025-01-13T16:41:09.938Z"
   },
   {
    "duration": 7,
    "start_time": "2025-01-13T16:41:09.964Z"
   },
   {
    "duration": 2,
    "start_time": "2025-01-13T16:41:09.974Z"
   },
   {
    "duration": 188,
    "start_time": "2025-01-13T16:41:09.978Z"
   },
   {
    "duration": 4,
    "start_time": "2025-01-13T16:41:10.168Z"
   },
   {
    "duration": 210,
    "start_time": "2025-01-13T16:41:10.174Z"
   },
   {
    "duration": 285,
    "start_time": "2025-01-13T16:41:10.386Z"
   },
   {
    "duration": 5,
    "start_time": "2025-01-13T16:41:10.673Z"
   },
   {
    "duration": 232,
    "start_time": "2025-01-13T16:41:10.682Z"
   },
   {
    "duration": 343,
    "start_time": "2025-01-13T16:41:10.916Z"
   },
   {
    "duration": 204,
    "start_time": "2025-01-13T16:41:11.261Z"
   },
   {
    "duration": 187,
    "start_time": "2025-01-13T16:41:11.469Z"
   },
   {
    "duration": 95,
    "start_time": "2025-01-13T16:41:11.657Z"
   },
   {
    "duration": 116,
    "start_time": "2025-01-13T16:41:11.754Z"
   },
   {
    "duration": 2,
    "start_time": "2025-01-13T16:41:11.872Z"
   },
   {
    "duration": 152,
    "start_time": "2025-01-13T16:41:11.876Z"
   },
   {
    "duration": 199,
    "start_time": "2025-01-13T16:41:12.030Z"
   },
   {
    "duration": 267,
    "start_time": "2025-01-13T16:41:12.231Z"
   },
   {
    "duration": 170,
    "start_time": "2025-01-13T16:41:12.500Z"
   },
   {
    "duration": 10,
    "start_time": "2025-01-13T16:41:12.672Z"
   },
   {
    "duration": 9,
    "start_time": "2025-01-13T16:41:12.684Z"
   },
   {
    "duration": 12,
    "start_time": "2025-01-13T16:51:03.685Z"
   },
   {
    "duration": 793,
    "start_time": "2025-01-13T16:51:07.467Z"
   },
   {
    "duration": 28,
    "start_time": "2025-01-13T16:51:08.263Z"
   },
   {
    "duration": 3,
    "start_time": "2025-01-13T16:51:08.293Z"
   },
   {
    "duration": 14,
    "start_time": "2025-01-13T16:51:08.297Z"
   },
   {
    "duration": 198,
    "start_time": "2025-01-13T16:51:08.314Z"
   },
   {
    "duration": 4,
    "start_time": "2025-01-13T16:51:08.513Z"
   },
   {
    "duration": 228,
    "start_time": "2025-01-13T16:51:08.519Z"
   },
   {
    "duration": 282,
    "start_time": "2025-01-13T16:51:08.749Z"
   },
   {
    "duration": 6,
    "start_time": "2025-01-13T16:51:09.033Z"
   },
   {
    "duration": 214,
    "start_time": "2025-01-13T16:51:09.040Z"
   },
   {
    "duration": 350,
    "start_time": "2025-01-13T16:51:09.256Z"
   },
   {
    "duration": 211,
    "start_time": "2025-01-13T16:51:09.608Z"
   },
   {
    "duration": 198,
    "start_time": "2025-01-13T16:51:09.820Z"
   },
   {
    "duration": 92,
    "start_time": "2025-01-13T16:51:10.022Z"
   },
   {
    "duration": 106,
    "start_time": "2025-01-13T16:51:10.116Z"
   },
   {
    "duration": 3,
    "start_time": "2025-01-13T16:51:10.224Z"
   },
   {
    "duration": 161,
    "start_time": "2025-01-13T16:51:10.229Z"
   },
   {
    "duration": 208,
    "start_time": "2025-01-13T16:51:10.392Z"
   },
   {
    "duration": 277,
    "start_time": "2025-01-13T16:51:10.602Z"
   },
   {
    "duration": 180,
    "start_time": "2025-01-13T16:51:10.881Z"
   },
   {
    "duration": 15,
    "start_time": "2025-01-13T16:51:11.062Z"
   },
   {
    "duration": 10,
    "start_time": "2025-01-13T16:51:11.078Z"
   },
   {
    "duration": 164,
    "start_time": "2025-01-13T16:52:38.557Z"
   },
   {
    "duration": 47,
    "start_time": "2025-01-13T16:57:03.438Z"
   },
   {
    "duration": 812,
    "start_time": "2025-01-13T16:59:33.435Z"
   },
   {
    "duration": 29,
    "start_time": "2025-01-13T16:59:34.250Z"
   },
   {
    "duration": 3,
    "start_time": "2025-01-13T16:59:34.281Z"
   },
   {
    "duration": 4,
    "start_time": "2025-01-13T16:59:34.287Z"
   },
   {
    "duration": 31,
    "start_time": "2025-01-13T16:59:34.293Z"
   },
   {
    "duration": 4,
    "start_time": "2025-01-13T16:59:34.325Z"
   },
   {
    "duration": 206,
    "start_time": "2025-01-13T16:59:34.331Z"
   },
   {
    "duration": 294,
    "start_time": "2025-01-13T16:59:34.540Z"
   },
   {
    "duration": 7,
    "start_time": "2025-01-13T16:59:34.837Z"
   },
   {
    "duration": 229,
    "start_time": "2025-01-13T16:59:34.848Z"
   },
   {
    "duration": 385,
    "start_time": "2025-01-13T16:59:35.079Z"
   },
   {
    "duration": 214,
    "start_time": "2025-01-13T16:59:35.470Z"
   },
   {
    "duration": 204,
    "start_time": "2025-01-13T16:59:35.685Z"
   },
   {
    "duration": 134,
    "start_time": "2025-01-13T16:59:35.891Z"
   },
   {
    "duration": 108,
    "start_time": "2025-01-13T16:59:36.027Z"
   },
   {
    "duration": 4,
    "start_time": "2025-01-13T16:59:36.137Z"
   },
   {
    "duration": 157,
    "start_time": "2025-01-13T16:59:36.143Z"
   },
   {
    "duration": 212,
    "start_time": "2025-01-13T16:59:36.302Z"
   },
   {
    "duration": 355,
    "start_time": "2025-01-13T16:59:36.517Z"
   },
   {
    "duration": 175,
    "start_time": "2025-01-13T16:59:36.875Z"
   },
   {
    "duration": 21,
    "start_time": "2025-01-13T16:59:37.052Z"
   },
   {
    "duration": 13,
    "start_time": "2025-01-13T16:59:37.076Z"
   },
   {
    "duration": 818,
    "start_time": "2025-01-13T17:00:56.634Z"
   },
   {
    "duration": 28,
    "start_time": "2025-01-13T17:00:57.454Z"
   },
   {
    "duration": 2,
    "start_time": "2025-01-13T17:00:57.484Z"
   },
   {
    "duration": 2,
    "start_time": "2025-01-13T17:00:57.489Z"
   },
   {
    "duration": 29,
    "start_time": "2025-01-13T17:00:57.493Z"
   },
   {
    "duration": 3,
    "start_time": "2025-01-13T17:00:57.524Z"
   },
   {
    "duration": 206,
    "start_time": "2025-01-13T17:00:57.529Z"
   },
   {
    "duration": 277,
    "start_time": "2025-01-13T17:00:57.738Z"
   },
   {
    "duration": 6,
    "start_time": "2025-01-13T17:00:58.016Z"
   },
   {
    "duration": 225,
    "start_time": "2025-01-13T17:00:58.025Z"
   },
   {
    "duration": 332,
    "start_time": "2025-01-13T17:00:58.252Z"
   },
   {
    "duration": 203,
    "start_time": "2025-01-13T17:00:58.586Z"
   },
   {
    "duration": 193,
    "start_time": "2025-01-13T17:00:58.791Z"
   },
   {
    "duration": 98,
    "start_time": "2025-01-13T17:00:58.986Z"
   },
   {
    "duration": 109,
    "start_time": "2025-01-13T17:00:59.086Z"
   },
   {
    "duration": 3,
    "start_time": "2025-01-13T17:00:59.196Z"
   },
   {
    "duration": 160,
    "start_time": "2025-01-13T17:00:59.201Z"
   },
   {
    "duration": 204,
    "start_time": "2025-01-13T17:00:59.363Z"
   },
   {
    "duration": 270,
    "start_time": "2025-01-13T17:00:59.570Z"
   },
   {
    "duration": 177,
    "start_time": "2025-01-13T17:00:59.842Z"
   },
   {
    "duration": 11,
    "start_time": "2025-01-13T17:01:00.020Z"
   },
   {
    "duration": 9,
    "start_time": "2025-01-13T17:01:00.033Z"
   },
   {
    "duration": 2618,
    "start_time": "2025-01-14T17:30:00.194Z"
   },
   {
    "duration": 37,
    "start_time": "2025-01-14T17:30:02.814Z"
   },
   {
    "duration": 3,
    "start_time": "2025-01-14T17:30:02.853Z"
   },
   {
    "duration": 3,
    "start_time": "2025-01-14T17:30:02.857Z"
   },
   {
    "duration": 47,
    "start_time": "2025-01-14T17:30:02.863Z"
   },
   {
    "duration": 5,
    "start_time": "2025-01-14T17:30:02.912Z"
   },
   {
    "duration": 213,
    "start_time": "2025-01-14T17:30:02.919Z"
   },
   {
    "duration": 224,
    "start_time": "2025-01-14T17:30:03.134Z"
   },
   {
    "duration": 10,
    "start_time": "2025-01-14T17:30:03.360Z"
   },
   {
    "duration": 200,
    "start_time": "2025-01-14T17:30:03.372Z"
   },
   {
    "duration": 367,
    "start_time": "2025-01-14T17:30:03.574Z"
   },
   {
    "duration": 220,
    "start_time": "2025-01-14T17:30:03.943Z"
   },
   {
    "duration": 381,
    "start_time": "2025-01-14T17:30:04.171Z"
   },
   {
    "duration": 0,
    "start_time": "2025-01-14T17:30:04.555Z"
   },
   {
    "duration": 0,
    "start_time": "2025-01-14T17:30:04.556Z"
   },
   {
    "duration": 0,
    "start_time": "2025-01-14T17:30:04.557Z"
   },
   {
    "duration": 0,
    "start_time": "2025-01-14T17:30:04.570Z"
   },
   {
    "duration": 0,
    "start_time": "2025-01-14T17:30:04.571Z"
   },
   {
    "duration": 0,
    "start_time": "2025-01-14T17:30:04.572Z"
   },
   {
    "duration": 0,
    "start_time": "2025-01-14T17:30:04.573Z"
   },
   {
    "duration": 0,
    "start_time": "2025-01-14T17:30:04.574Z"
   },
   {
    "duration": 0,
    "start_time": "2025-01-14T17:30:04.576Z"
   },
   {
    "duration": 43,
    "start_time": "2025-01-14T17:31:37.072Z"
   },
   {
    "duration": 810,
    "start_time": "2025-01-14T17:31:45.182Z"
   },
   {
    "duration": 24,
    "start_time": "2025-01-14T17:31:45.995Z"
   },
   {
    "duration": 3,
    "start_time": "2025-01-14T17:31:46.020Z"
   },
   {
    "duration": 3,
    "start_time": "2025-01-14T17:31:46.024Z"
   },
   {
    "duration": 59,
    "start_time": "2025-01-14T17:31:46.029Z"
   },
   {
    "duration": 5,
    "start_time": "2025-01-14T17:31:46.090Z"
   },
   {
    "duration": 220,
    "start_time": "2025-01-14T17:31:46.096Z"
   },
   {
    "duration": 303,
    "start_time": "2025-01-14T17:31:46.318Z"
   },
   {
    "duration": 6,
    "start_time": "2025-01-14T17:31:46.623Z"
   },
   {
    "duration": 204,
    "start_time": "2025-01-14T17:31:46.630Z"
   },
   {
    "duration": 305,
    "start_time": "2025-01-14T17:31:46.836Z"
   },
   {
    "duration": 183,
    "start_time": "2025-01-14T17:31:47.143Z"
   },
   {
    "duration": 439,
    "start_time": "2025-01-14T17:31:47.328Z"
   },
   {
    "duration": 0,
    "start_time": "2025-01-14T17:31:47.770Z"
   },
   {
    "duration": 0,
    "start_time": "2025-01-14T17:31:47.772Z"
   },
   {
    "duration": 0,
    "start_time": "2025-01-14T17:31:47.773Z"
   },
   {
    "duration": 0,
    "start_time": "2025-01-14T17:31:47.775Z"
   },
   {
    "duration": 0,
    "start_time": "2025-01-14T17:31:47.777Z"
   },
   {
    "duration": 0,
    "start_time": "2025-01-14T17:31:47.778Z"
   },
   {
    "duration": 0,
    "start_time": "2025-01-14T17:31:47.780Z"
   },
   {
    "duration": 0,
    "start_time": "2025-01-14T17:31:47.781Z"
   },
   {
    "duration": 0,
    "start_time": "2025-01-14T17:31:47.782Z"
   },
   {
    "duration": 39,
    "start_time": "2025-01-14T17:32:32.833Z"
   },
   {
    "duration": 798,
    "start_time": "2025-01-14T17:32:40.754Z"
   },
   {
    "duration": 28,
    "start_time": "2025-01-14T17:32:41.555Z"
   },
   {
    "duration": 3,
    "start_time": "2025-01-14T17:32:41.584Z"
   },
   {
    "duration": 3,
    "start_time": "2025-01-14T17:32:41.589Z"
   },
   {
    "duration": 41,
    "start_time": "2025-01-14T17:32:41.594Z"
   },
   {
    "duration": 4,
    "start_time": "2025-01-14T17:32:41.637Z"
   },
   {
    "duration": 192,
    "start_time": "2025-01-14T17:32:41.643Z"
   },
   {
    "duration": 277,
    "start_time": "2025-01-14T17:32:41.871Z"
   },
   {
    "duration": 6,
    "start_time": "2025-01-14T17:32:42.150Z"
   },
   {
    "duration": 201,
    "start_time": "2025-01-14T17:32:42.158Z"
   },
   {
    "duration": 329,
    "start_time": "2025-01-14T17:32:42.361Z"
   },
   {
    "duration": 165,
    "start_time": "2025-01-14T17:32:42.691Z"
   },
   {
    "duration": 469,
    "start_time": "2025-01-14T17:32:42.858Z"
   },
   {
    "duration": 0,
    "start_time": "2025-01-14T17:32:43.329Z"
   },
   {
    "duration": 0,
    "start_time": "2025-01-14T17:32:43.330Z"
   },
   {
    "duration": 0,
    "start_time": "2025-01-14T17:32:43.332Z"
   },
   {
    "duration": 0,
    "start_time": "2025-01-14T17:32:43.333Z"
   },
   {
    "duration": 0,
    "start_time": "2025-01-14T17:32:43.334Z"
   },
   {
    "duration": 0,
    "start_time": "2025-01-14T17:32:43.335Z"
   },
   {
    "duration": 0,
    "start_time": "2025-01-14T17:32:43.336Z"
   },
   {
    "duration": 0,
    "start_time": "2025-01-14T17:32:43.337Z"
   },
   {
    "duration": 0,
    "start_time": "2025-01-14T17:32:43.338Z"
   },
   {
    "duration": 803,
    "start_time": "2025-01-14T17:33:44.067Z"
   },
   {
    "duration": 24,
    "start_time": "2025-01-14T17:33:44.872Z"
   },
   {
    "duration": 3,
    "start_time": "2025-01-14T17:33:44.897Z"
   },
   {
    "duration": 3,
    "start_time": "2025-01-14T17:33:44.903Z"
   },
   {
    "duration": 29,
    "start_time": "2025-01-14T17:33:44.907Z"
   },
   {
    "duration": 33,
    "start_time": "2025-01-14T17:33:44.937Z"
   },
   {
    "duration": 216,
    "start_time": "2025-01-14T17:33:44.973Z"
   },
   {
    "duration": 267,
    "start_time": "2025-01-14T17:33:45.193Z"
   },
   {
    "duration": 10,
    "start_time": "2025-01-14T17:33:45.462Z"
   },
   {
    "duration": 224,
    "start_time": "2025-01-14T17:33:45.475Z"
   },
   {
    "duration": 354,
    "start_time": "2025-01-14T17:33:45.701Z"
   },
   {
    "duration": 202,
    "start_time": "2025-01-14T17:33:46.056Z"
   },
   {
    "duration": 225,
    "start_time": "2025-01-14T17:33:46.259Z"
   },
   {
    "duration": 110,
    "start_time": "2025-01-14T17:33:46.486Z"
   },
   {
    "duration": 112,
    "start_time": "2025-01-14T17:33:46.598Z"
   },
   {
    "duration": 2,
    "start_time": "2025-01-14T17:33:46.712Z"
   },
   {
    "duration": 156,
    "start_time": "2025-01-14T17:33:46.716Z"
   },
   {
    "duration": 208,
    "start_time": "2025-01-14T17:33:46.874Z"
   },
   {
    "duration": 277,
    "start_time": "2025-01-14T17:33:47.084Z"
   },
   {
    "duration": 173,
    "start_time": "2025-01-14T17:33:47.369Z"
   },
   {
    "duration": 11,
    "start_time": "2025-01-14T17:33:47.544Z"
   },
   {
    "duration": 20,
    "start_time": "2025-01-14T17:33:47.556Z"
   },
   {
    "duration": 790,
    "start_time": "2025-01-14T17:37:57.067Z"
   },
   {
    "duration": 28,
    "start_time": "2025-01-14T17:37:57.860Z"
   },
   {
    "duration": 2,
    "start_time": "2025-01-14T17:37:57.890Z"
   },
   {
    "duration": 2,
    "start_time": "2025-01-14T17:37:57.894Z"
   },
   {
    "duration": 291,
    "start_time": "2025-01-14T17:37:57.899Z"
   },
   {
    "duration": 0,
    "start_time": "2025-01-14T17:37:58.192Z"
   },
   {
    "duration": 0,
    "start_time": "2025-01-14T17:37:58.193Z"
   },
   {
    "duration": 0,
    "start_time": "2025-01-14T17:37:58.195Z"
   },
   {
    "duration": 0,
    "start_time": "2025-01-14T17:37:58.196Z"
   },
   {
    "duration": 0,
    "start_time": "2025-01-14T17:37:58.198Z"
   },
   {
    "duration": 0,
    "start_time": "2025-01-14T17:37:58.199Z"
   },
   {
    "duration": 0,
    "start_time": "2025-01-14T17:37:58.200Z"
   },
   {
    "duration": 0,
    "start_time": "2025-01-14T17:37:58.201Z"
   },
   {
    "duration": 0,
    "start_time": "2025-01-14T17:37:58.202Z"
   },
   {
    "duration": 0,
    "start_time": "2025-01-14T17:37:58.203Z"
   },
   {
    "duration": 0,
    "start_time": "2025-01-14T17:37:58.204Z"
   },
   {
    "duration": 0,
    "start_time": "2025-01-14T17:37:58.204Z"
   },
   {
    "duration": 0,
    "start_time": "2025-01-14T17:37:58.206Z"
   },
   {
    "duration": 0,
    "start_time": "2025-01-14T17:37:58.207Z"
   },
   {
    "duration": 0,
    "start_time": "2025-01-14T17:37:58.208Z"
   },
   {
    "duration": 0,
    "start_time": "2025-01-14T17:37:58.209Z"
   },
   {
    "duration": 0,
    "start_time": "2025-01-14T17:37:58.211Z"
   },
   {
    "duration": 4,
    "start_time": "2025-01-14T17:38:16.329Z"
   },
   {
    "duration": 31,
    "start_time": "2025-01-14T17:38:16.335Z"
   },
   {
    "duration": 3,
    "start_time": "2025-01-14T17:38:16.369Z"
   },
   {
    "duration": 2,
    "start_time": "2025-01-14T17:38:16.374Z"
   },
   {
    "duration": 3,
    "start_time": "2025-01-14T17:38:28.047Z"
   },
   {
    "duration": 55,
    "start_time": "2025-01-14T17:38:28.052Z"
   },
   {
    "duration": 3,
    "start_time": "2025-01-14T17:38:28.109Z"
   },
   {
    "duration": 3,
    "start_time": "2025-01-14T17:38:28.113Z"
   },
   {
    "duration": 791,
    "start_time": "2025-01-14T17:38:34.165Z"
   },
   {
    "duration": 28,
    "start_time": "2025-01-14T17:38:34.958Z"
   },
   {
    "duration": 3,
    "start_time": "2025-01-14T17:38:34.987Z"
   },
   {
    "duration": 2,
    "start_time": "2025-01-14T17:38:34.994Z"
   },
   {
    "duration": 697,
    "start_time": "2025-01-14T17:38:34.998Z"
   },
   {
    "duration": 0,
    "start_time": "2025-01-14T17:38:35.698Z"
   },
   {
    "duration": 0,
    "start_time": "2025-01-14T17:38:35.699Z"
   },
   {
    "duration": 0,
    "start_time": "2025-01-14T17:38:35.700Z"
   },
   {
    "duration": 0,
    "start_time": "2025-01-14T17:38:35.701Z"
   },
   {
    "duration": 0,
    "start_time": "2025-01-14T17:38:35.703Z"
   },
   {
    "duration": 1,
    "start_time": "2025-01-14T17:38:35.703Z"
   },
   {
    "duration": 0,
    "start_time": "2025-01-14T17:38:35.705Z"
   },
   {
    "duration": 0,
    "start_time": "2025-01-14T17:38:35.706Z"
   },
   {
    "duration": 0,
    "start_time": "2025-01-14T17:38:35.707Z"
   },
   {
    "duration": 0,
    "start_time": "2025-01-14T17:38:35.708Z"
   },
   {
    "duration": 0,
    "start_time": "2025-01-14T17:38:35.709Z"
   },
   {
    "duration": 0,
    "start_time": "2025-01-14T17:38:35.710Z"
   },
   {
    "duration": 0,
    "start_time": "2025-01-14T17:38:35.711Z"
   },
   {
    "duration": 0,
    "start_time": "2025-01-14T17:38:35.712Z"
   },
   {
    "duration": 0,
    "start_time": "2025-01-14T17:38:35.713Z"
   },
   {
    "duration": 0,
    "start_time": "2025-01-14T17:38:35.714Z"
   },
   {
    "duration": 0,
    "start_time": "2025-01-14T17:38:35.716Z"
   },
   {
    "duration": 5,
    "start_time": "2025-01-14T17:39:05.537Z"
   },
   {
    "duration": 45,
    "start_time": "2025-01-14T17:39:09.940Z"
   },
   {
    "duration": 808,
    "start_time": "2025-01-14T17:41:09.041Z"
   },
   {
    "duration": 28,
    "start_time": "2025-01-14T17:41:09.851Z"
   },
   {
    "duration": 2,
    "start_time": "2025-01-14T17:41:09.881Z"
   },
   {
    "duration": 3,
    "start_time": "2025-01-14T17:41:09.885Z"
   },
   {
    "duration": 690,
    "start_time": "2025-01-14T17:41:09.891Z"
   },
   {
    "duration": 0,
    "start_time": "2025-01-14T17:41:10.584Z"
   },
   {
    "duration": 0,
    "start_time": "2025-01-14T17:41:10.586Z"
   },
   {
    "duration": 0,
    "start_time": "2025-01-14T17:41:10.587Z"
   },
   {
    "duration": 0,
    "start_time": "2025-01-14T17:41:10.589Z"
   },
   {
    "duration": 0,
    "start_time": "2025-01-14T17:41:10.590Z"
   },
   {
    "duration": 0,
    "start_time": "2025-01-14T17:41:10.591Z"
   },
   {
    "duration": 0,
    "start_time": "2025-01-14T17:41:10.593Z"
   },
   {
    "duration": 0,
    "start_time": "2025-01-14T17:41:10.595Z"
   },
   {
    "duration": 0,
    "start_time": "2025-01-14T17:41:10.596Z"
   },
   {
    "duration": 0,
    "start_time": "2025-01-14T17:41:10.597Z"
   },
   {
    "duration": 0,
    "start_time": "2025-01-14T17:41:10.599Z"
   },
   {
    "duration": 0,
    "start_time": "2025-01-14T17:41:10.601Z"
   },
   {
    "duration": 0,
    "start_time": "2025-01-14T17:41:10.602Z"
   },
   {
    "duration": 0,
    "start_time": "2025-01-14T17:41:10.603Z"
   },
   {
    "duration": 0,
    "start_time": "2025-01-14T17:41:10.604Z"
   },
   {
    "duration": 0,
    "start_time": "2025-01-14T17:41:10.606Z"
   },
   {
    "duration": 0,
    "start_time": "2025-01-14T17:41:10.607Z"
   },
   {
    "duration": 4,
    "start_time": "2025-01-14T17:41:22.586Z"
   },
   {
    "duration": 44,
    "start_time": "2025-01-14T17:41:27.682Z"
   },
   {
    "duration": 46,
    "start_time": "2025-01-14T17:43:12.902Z"
   },
   {
    "duration": 796,
    "start_time": "2025-01-14T17:43:59.260Z"
   },
   {
    "duration": 28,
    "start_time": "2025-01-14T17:44:00.058Z"
   },
   {
    "duration": 3,
    "start_time": "2025-01-14T17:44:00.088Z"
   },
   {
    "duration": 2,
    "start_time": "2025-01-14T17:44:00.093Z"
   },
   {
    "duration": 28,
    "start_time": "2025-01-14T17:44:00.098Z"
   },
   {
    "duration": 3,
    "start_time": "2025-01-14T17:44:00.128Z"
   },
   {
    "duration": 209,
    "start_time": "2025-01-14T17:44:00.132Z"
   },
   {
    "duration": 270,
    "start_time": "2025-01-14T17:44:00.343Z"
   },
   {
    "duration": 6,
    "start_time": "2025-01-14T17:44:00.615Z"
   },
   {
    "duration": 224,
    "start_time": "2025-01-14T17:44:00.622Z"
   },
   {
    "duration": 348,
    "start_time": "2025-01-14T17:44:00.848Z"
   },
   {
    "duration": 206,
    "start_time": "2025-01-14T17:44:01.198Z"
   },
   {
    "duration": 194,
    "start_time": "2025-01-14T17:44:01.406Z"
   },
   {
    "duration": 95,
    "start_time": "2025-01-14T17:44:01.603Z"
   },
   {
    "duration": 111,
    "start_time": "2025-01-14T17:44:01.700Z"
   },
   {
    "duration": 5,
    "start_time": "2025-01-14T17:44:01.813Z"
   },
   {
    "duration": 158,
    "start_time": "2025-01-14T17:44:01.819Z"
   },
   {
    "duration": 203,
    "start_time": "2025-01-14T17:44:01.979Z"
   },
   {
    "duration": 271,
    "start_time": "2025-01-14T17:44:02.184Z"
   },
   {
    "duration": 176,
    "start_time": "2025-01-14T17:44:02.457Z"
   },
   {
    "duration": 10,
    "start_time": "2025-01-14T17:44:02.634Z"
   },
   {
    "duration": 9,
    "start_time": "2025-01-14T17:44:02.646Z"
   },
   {
    "duration": 845,
    "start_time": "2025-01-14T17:57:39.391Z"
   },
   {
    "duration": 25,
    "start_time": "2025-01-14T17:57:40.239Z"
   },
   {
    "duration": 3,
    "start_time": "2025-01-14T17:57:40.271Z"
   },
   {
    "duration": 3,
    "start_time": "2025-01-14T17:57:40.275Z"
   },
   {
    "duration": 41,
    "start_time": "2025-01-14T17:57:40.280Z"
   },
   {
    "duration": 4,
    "start_time": "2025-01-14T17:57:40.322Z"
   },
   {
    "duration": 213,
    "start_time": "2025-01-14T17:57:40.327Z"
   },
   {
    "duration": 287,
    "start_time": "2025-01-14T17:57:40.541Z"
   },
   {
    "duration": 6,
    "start_time": "2025-01-14T17:57:40.830Z"
   },
   {
    "duration": 201,
    "start_time": "2025-01-14T17:57:40.837Z"
   },
   {
    "duration": 355,
    "start_time": "2025-01-14T17:57:41.039Z"
   },
   {
    "duration": 209,
    "start_time": "2025-01-14T17:57:41.396Z"
   },
   {
    "duration": 204,
    "start_time": "2025-01-14T17:57:41.607Z"
   },
   {
    "duration": 103,
    "start_time": "2025-01-14T17:57:41.814Z"
   },
   {
    "duration": 107,
    "start_time": "2025-01-14T17:57:41.920Z"
   },
   {
    "duration": 2,
    "start_time": "2025-01-14T17:57:42.029Z"
   },
   {
    "duration": 166,
    "start_time": "2025-01-14T17:57:42.032Z"
   },
   {
    "duration": 206,
    "start_time": "2025-01-14T17:57:42.200Z"
   },
   {
    "duration": 275,
    "start_time": "2025-01-14T17:57:42.408Z"
   },
   {
    "duration": 186,
    "start_time": "2025-01-14T17:57:42.685Z"
   },
   {
    "duration": 10,
    "start_time": "2025-01-14T17:57:42.873Z"
   },
   {
    "duration": 9,
    "start_time": "2025-01-14T17:57:42.885Z"
   },
   {
    "duration": 97,
    "start_time": "2025-01-14T17:58:12.854Z"
   },
   {
    "duration": 35,
    "start_time": "2025-01-14T18:01:59.604Z"
   },
   {
    "duration": 88,
    "start_time": "2025-01-14T18:02:09.284Z"
   },
   {
    "duration": 97,
    "start_time": "2025-01-14T18:02:23.387Z"
   },
   {
    "duration": 42,
    "start_time": "2025-01-14T18:03:07.153Z"
   },
   {
    "duration": 91,
    "start_time": "2025-01-14T18:03:14.752Z"
   },
   {
    "duration": 27,
    "start_time": "2025-01-14T18:04:15.366Z"
   },
   {
    "duration": 89,
    "start_time": "2025-01-14T18:04:23.118Z"
   },
   {
    "duration": 861,
    "start_time": "2025-01-14T18:04:34.391Z"
   },
   {
    "duration": 28,
    "start_time": "2025-01-14T18:04:35.254Z"
   },
   {
    "duration": 2,
    "start_time": "2025-01-14T18:04:35.284Z"
   },
   {
    "duration": 4,
    "start_time": "2025-01-14T18:04:35.288Z"
   },
   {
    "duration": 29,
    "start_time": "2025-01-14T18:04:35.295Z"
   },
   {
    "duration": 4,
    "start_time": "2025-01-14T18:04:35.326Z"
   },
   {
    "duration": 278,
    "start_time": "2025-01-14T18:04:35.331Z"
   },
   {
    "duration": 304,
    "start_time": "2025-01-14T18:04:35.611Z"
   },
   {
    "duration": 6,
    "start_time": "2025-01-14T18:04:35.917Z"
   },
   {
    "duration": 201,
    "start_time": "2025-01-14T18:04:35.924Z"
   },
   {
    "duration": 338,
    "start_time": "2025-01-14T18:04:36.127Z"
   },
   {
    "duration": 221,
    "start_time": "2025-01-14T18:04:36.471Z"
   },
   {
    "duration": 215,
    "start_time": "2025-01-14T18:04:36.694Z"
   },
   {
    "duration": 108,
    "start_time": "2025-01-14T18:04:36.912Z"
   },
   {
    "duration": 113,
    "start_time": "2025-01-14T18:04:37.022Z"
   },
   {
    "duration": 2,
    "start_time": "2025-01-14T18:04:37.137Z"
   },
   {
    "duration": 176,
    "start_time": "2025-01-14T18:04:37.142Z"
   },
   {
    "duration": 202,
    "start_time": "2025-01-14T18:04:37.320Z"
   },
   {
    "duration": 274,
    "start_time": "2025-01-14T18:04:37.523Z"
   },
   {
    "duration": 199,
    "start_time": "2025-01-14T18:04:37.799Z"
   },
   {
    "duration": 10,
    "start_time": "2025-01-14T18:04:37.999Z"
   },
   {
    "duration": 9,
    "start_time": "2025-01-14T18:04:38.011Z"
   },
   {
    "duration": 768,
    "start_time": "2025-01-14T18:06:03.421Z"
   },
   {
    "duration": 24,
    "start_time": "2025-01-14T18:06:04.191Z"
   },
   {
    "duration": 3,
    "start_time": "2025-01-14T18:06:04.217Z"
   },
   {
    "duration": 2,
    "start_time": "2025-01-14T18:06:04.222Z"
   },
   {
    "duration": 66,
    "start_time": "2025-01-14T18:06:04.227Z"
   },
   {
    "duration": 4,
    "start_time": "2025-01-14T18:06:04.294Z"
   },
   {
    "duration": 218,
    "start_time": "2025-01-14T18:06:04.299Z"
   },
   {
    "duration": 268,
    "start_time": "2025-01-14T18:06:04.519Z"
   },
   {
    "duration": 6,
    "start_time": "2025-01-14T18:06:04.789Z"
   },
   {
    "duration": 202,
    "start_time": "2025-01-14T18:06:04.797Z"
   },
   {
    "duration": 363,
    "start_time": "2025-01-14T18:06:05.002Z"
   },
   {
    "duration": 207,
    "start_time": "2025-01-14T18:06:05.371Z"
   },
   {
    "duration": 192,
    "start_time": "2025-01-14T18:06:05.581Z"
   },
   {
    "duration": 100,
    "start_time": "2025-01-14T18:06:05.776Z"
   },
   {
    "duration": 107,
    "start_time": "2025-01-14T18:06:05.877Z"
   },
   {
    "duration": 2,
    "start_time": "2025-01-14T18:06:05.986Z"
   },
   {
    "duration": 163,
    "start_time": "2025-01-14T18:06:05.990Z"
   },
   {
    "duration": 215,
    "start_time": "2025-01-14T18:06:06.155Z"
   },
   {
    "duration": 298,
    "start_time": "2025-01-14T18:06:06.372Z"
   },
   {
    "duration": 176,
    "start_time": "2025-01-14T18:06:06.672Z"
   },
   {
    "duration": 24,
    "start_time": "2025-01-14T18:06:06.850Z"
   },
   {
    "duration": 13,
    "start_time": "2025-01-14T18:06:06.876Z"
   },
   {
    "duration": 29,
    "start_time": "2025-01-14T18:12:00.003Z"
   },
   {
    "duration": 802,
    "start_time": "2025-01-14T18:12:03.851Z"
   },
   {
    "duration": 30,
    "start_time": "2025-01-14T18:12:04.655Z"
   },
   {
    "duration": 4,
    "start_time": "2025-01-14T18:12:04.686Z"
   },
   {
    "duration": 2,
    "start_time": "2025-01-14T18:12:04.692Z"
   },
   {
    "duration": 29,
    "start_time": "2025-01-14T18:12:04.697Z"
   },
   {
    "duration": 4,
    "start_time": "2025-01-14T18:12:04.728Z"
   },
   {
    "duration": 237,
    "start_time": "2025-01-14T18:12:04.733Z"
   },
   {
    "duration": 286,
    "start_time": "2025-01-14T18:12:04.972Z"
   },
   {
    "duration": 14,
    "start_time": "2025-01-14T18:12:05.260Z"
   },
   {
    "duration": 197,
    "start_time": "2025-01-14T18:12:05.276Z"
   },
   {
    "duration": 369,
    "start_time": "2025-01-14T18:12:05.475Z"
   },
   {
    "duration": 204,
    "start_time": "2025-01-14T18:12:05.846Z"
   },
   {
    "duration": 201,
    "start_time": "2025-01-14T18:12:06.052Z"
   },
   {
    "duration": 114,
    "start_time": "2025-01-14T18:12:06.256Z"
   },
   {
    "duration": 105,
    "start_time": "2025-01-14T18:12:06.371Z"
   },
   {
    "duration": 3,
    "start_time": "2025-01-14T18:12:06.477Z"
   },
   {
    "duration": 176,
    "start_time": "2025-01-14T18:12:06.481Z"
   },
   {
    "duration": 217,
    "start_time": "2025-01-14T18:12:06.659Z"
   },
   {
    "duration": 281,
    "start_time": "2025-01-14T18:12:06.878Z"
   },
   {
    "duration": 189,
    "start_time": "2025-01-14T18:12:07.161Z"
   },
   {
    "duration": 19,
    "start_time": "2025-01-14T18:12:07.352Z"
   },
   {
    "duration": 9,
    "start_time": "2025-01-14T18:12:07.373Z"
   }
  ],
  "kernelspec": {
   "display_name": "base",
   "language": "python",
   "name": "python3"
  },
  "language_info": {
   "codemirror_mode": {
    "name": "ipython",
    "version": 3
   },
   "file_extension": ".py",
   "mimetype": "text/x-python",
   "name": "python",
   "nbconvert_exporter": "python",
   "pygments_lexer": "ipython3",
   "version": "3.12.7"
  },
  "toc": {
   "base_numbering": 1,
   "nav_menu": {},
   "number_sections": true,
   "sideBar": true,
   "skip_h1_title": true,
   "title_cell": "Table of Contents",
   "title_sidebar": "Contents",
   "toc_cell": false,
   "toc_position": {
    "height": "calc(100% - 180px)",
    "left": "10px",
    "top": "150px",
    "width": "188.048px"
   },
   "toc_section_display": true,
   "toc_window_display": false
  }
 },
 "nbformat": 4,
 "nbformat_minor": 2
}
